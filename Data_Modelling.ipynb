{
 "cells": [
  {
   "cell_type": "markdown",
   "id": "0b76fac6",
   "metadata": {},
   "source": [
    "## Task 1: Data Retrieving"
   ]
  },
  {
   "cell_type": "code",
   "execution_count": 1,
   "id": "cc4a082a",
   "metadata": {},
   "outputs": [],
   "source": [
    "import pandas as pd # To retrieve the dataset `pandas` library has been imported as `pd`."
   ]
  },
  {
   "cell_type": "code",
   "execution_count": 2,
   "id": "ee318748",
   "metadata": {},
   "outputs": [],
   "source": [
    "pd.options.mode.chained_assignment = None  # default='warn'"
   ]
  },
  {
   "cell_type": "markdown",
   "id": "21832db8",
   "metadata": {},
   "source": [
    "Here, `flag.data` file is loaded by generating 'my_file' object. The following approach `pd.read_csv` is used in order to convert a text file into `csv` file and also the correct arguments are applied including sep, decimal, header and names of the variables."
   ]
  },
  {
   "cell_type": "code",
   "execution_count": 3,
   "id": "5968c146",
   "metadata": {},
   "outputs": [
    {
     "data": {
      "text/html": [
       "<div>\n",
       "<style scoped>\n",
       "    .dataframe tbody tr th:only-of-type {\n",
       "        vertical-align: middle;\n",
       "    }\n",
       "\n",
       "    .dataframe tbody tr th {\n",
       "        vertical-align: top;\n",
       "    }\n",
       "\n",
       "    .dataframe thead th {\n",
       "        text-align: right;\n",
       "    }\n",
       "</style>\n",
       "<table border=\"1\" class=\"dataframe\">\n",
       "  <thead>\n",
       "    <tr style=\"text-align: right;\">\n",
       "      <th></th>\n",
       "      <th>name</th>\n",
       "      <th>landmass</th>\n",
       "      <th>zone</th>\n",
       "      <th>area</th>\n",
       "      <th>population</th>\n",
       "      <th>language</th>\n",
       "      <th>religion</th>\n",
       "      <th>bars</th>\n",
       "      <th>stripes</th>\n",
       "      <th>colours</th>\n",
       "      <th>...</th>\n",
       "      <th>saltires</th>\n",
       "      <th>quarters</th>\n",
       "      <th>sunstars</th>\n",
       "      <th>crescent</th>\n",
       "      <th>triangle</th>\n",
       "      <th>icon</th>\n",
       "      <th>animate</th>\n",
       "      <th>text</th>\n",
       "      <th>topleft</th>\n",
       "      <th>botright</th>\n",
       "    </tr>\n",
       "  </thead>\n",
       "  <tbody>\n",
       "    <tr>\n",
       "      <th>0</th>\n",
       "      <td>Afghanistan</td>\n",
       "      <td>5</td>\n",
       "      <td>1</td>\n",
       "      <td>648</td>\n",
       "      <td>16</td>\n",
       "      <td>10</td>\n",
       "      <td>2</td>\n",
       "      <td>0</td>\n",
       "      <td>3</td>\n",
       "      <td>5</td>\n",
       "      <td>...</td>\n",
       "      <td>0</td>\n",
       "      <td>0</td>\n",
       "      <td>1</td>\n",
       "      <td>0</td>\n",
       "      <td>0</td>\n",
       "      <td>1</td>\n",
       "      <td>0</td>\n",
       "      <td>0</td>\n",
       "      <td>black</td>\n",
       "      <td>green</td>\n",
       "    </tr>\n",
       "    <tr>\n",
       "      <th>1</th>\n",
       "      <td>Albania</td>\n",
       "      <td>3</td>\n",
       "      <td>1</td>\n",
       "      <td>29</td>\n",
       "      <td>3</td>\n",
       "      <td>6</td>\n",
       "      <td>6</td>\n",
       "      <td>0</td>\n",
       "      <td>0</td>\n",
       "      <td>3</td>\n",
       "      <td>...</td>\n",
       "      <td>0</td>\n",
       "      <td>0</td>\n",
       "      <td>1</td>\n",
       "      <td>0</td>\n",
       "      <td>0</td>\n",
       "      <td>0</td>\n",
       "      <td>1</td>\n",
       "      <td>0</td>\n",
       "      <td>red</td>\n",
       "      <td>red</td>\n",
       "    </tr>\n",
       "    <tr>\n",
       "      <th>2</th>\n",
       "      <td>Algeria</td>\n",
       "      <td>4</td>\n",
       "      <td>1</td>\n",
       "      <td>2388</td>\n",
       "      <td>20</td>\n",
       "      <td>8</td>\n",
       "      <td>2</td>\n",
       "      <td>2</td>\n",
       "      <td>0</td>\n",
       "      <td>3</td>\n",
       "      <td>...</td>\n",
       "      <td>0</td>\n",
       "      <td>0</td>\n",
       "      <td>1</td>\n",
       "      <td>1</td>\n",
       "      <td>0</td>\n",
       "      <td>0</td>\n",
       "      <td>0</td>\n",
       "      <td>0</td>\n",
       "      <td>green</td>\n",
       "      <td>white</td>\n",
       "    </tr>\n",
       "    <tr>\n",
       "      <th>3</th>\n",
       "      <td>American-Samoa</td>\n",
       "      <td>6</td>\n",
       "      <td>3</td>\n",
       "      <td>0</td>\n",
       "      <td>0</td>\n",
       "      <td>1</td>\n",
       "      <td>1</td>\n",
       "      <td>0</td>\n",
       "      <td>0</td>\n",
       "      <td>5</td>\n",
       "      <td>...</td>\n",
       "      <td>0</td>\n",
       "      <td>0</td>\n",
       "      <td>0</td>\n",
       "      <td>0</td>\n",
       "      <td>1</td>\n",
       "      <td>1</td>\n",
       "      <td>1</td>\n",
       "      <td>0</td>\n",
       "      <td>blue</td>\n",
       "      <td>red</td>\n",
       "    </tr>\n",
       "    <tr>\n",
       "      <th>4</th>\n",
       "      <td>Andorra</td>\n",
       "      <td>3</td>\n",
       "      <td>1</td>\n",
       "      <td>0</td>\n",
       "      <td>0</td>\n",
       "      <td>6</td>\n",
       "      <td>0</td>\n",
       "      <td>3</td>\n",
       "      <td>0</td>\n",
       "      <td>3</td>\n",
       "      <td>...</td>\n",
       "      <td>0</td>\n",
       "      <td>0</td>\n",
       "      <td>0</td>\n",
       "      <td>0</td>\n",
       "      <td>0</td>\n",
       "      <td>0</td>\n",
       "      <td>0</td>\n",
       "      <td>0</td>\n",
       "      <td>blue</td>\n",
       "      <td>red</td>\n",
       "    </tr>\n",
       "    <tr>\n",
       "      <th>5</th>\n",
       "      <td>Angola</td>\n",
       "      <td>4</td>\n",
       "      <td>2</td>\n",
       "      <td>1247</td>\n",
       "      <td>7</td>\n",
       "      <td>10</td>\n",
       "      <td>5</td>\n",
       "      <td>0</td>\n",
       "      <td>2</td>\n",
       "      <td>3</td>\n",
       "      <td>...</td>\n",
       "      <td>0</td>\n",
       "      <td>0</td>\n",
       "      <td>1</td>\n",
       "      <td>0</td>\n",
       "      <td>0</td>\n",
       "      <td>1</td>\n",
       "      <td>0</td>\n",
       "      <td>0</td>\n",
       "      <td>red</td>\n",
       "      <td>black</td>\n",
       "    </tr>\n",
       "    <tr>\n",
       "      <th>6</th>\n",
       "      <td>Anguilla</td>\n",
       "      <td>1</td>\n",
       "      <td>4</td>\n",
       "      <td>0</td>\n",
       "      <td>0</td>\n",
       "      <td>1</td>\n",
       "      <td>1</td>\n",
       "      <td>0</td>\n",
       "      <td>1</td>\n",
       "      <td>3</td>\n",
       "      <td>...</td>\n",
       "      <td>0</td>\n",
       "      <td>0</td>\n",
       "      <td>0</td>\n",
       "      <td>0</td>\n",
       "      <td>0</td>\n",
       "      <td>0</td>\n",
       "      <td>1</td>\n",
       "      <td>0</td>\n",
       "      <td>white</td>\n",
       "      <td>blue</td>\n",
       "    </tr>\n",
       "    <tr>\n",
       "      <th>7</th>\n",
       "      <td>Antigua-Barbuda</td>\n",
       "      <td>1</td>\n",
       "      <td>4</td>\n",
       "      <td>0</td>\n",
       "      <td>0</td>\n",
       "      <td>1</td>\n",
       "      <td>1</td>\n",
       "      <td>0</td>\n",
       "      <td>1</td>\n",
       "      <td>5</td>\n",
       "      <td>...</td>\n",
       "      <td>0</td>\n",
       "      <td>0</td>\n",
       "      <td>1</td>\n",
       "      <td>0</td>\n",
       "      <td>1</td>\n",
       "      <td>0</td>\n",
       "      <td>0</td>\n",
       "      <td>0</td>\n",
       "      <td>black</td>\n",
       "      <td>red</td>\n",
       "    </tr>\n",
       "    <tr>\n",
       "      <th>8</th>\n",
       "      <td>Argentina</td>\n",
       "      <td>2</td>\n",
       "      <td>3</td>\n",
       "      <td>2777</td>\n",
       "      <td>28</td>\n",
       "      <td>2</td>\n",
       "      <td>0</td>\n",
       "      <td>0</td>\n",
       "      <td>3</td>\n",
       "      <td>2</td>\n",
       "      <td>...</td>\n",
       "      <td>0</td>\n",
       "      <td>0</td>\n",
       "      <td>0</td>\n",
       "      <td>0</td>\n",
       "      <td>0</td>\n",
       "      <td>0</td>\n",
       "      <td>0</td>\n",
       "      <td>0</td>\n",
       "      <td>blue</td>\n",
       "      <td>blue</td>\n",
       "    </tr>\n",
       "    <tr>\n",
       "      <th>9</th>\n",
       "      <td>Argentine</td>\n",
       "      <td>2</td>\n",
       "      <td>3</td>\n",
       "      <td>2777</td>\n",
       "      <td>28</td>\n",
       "      <td>2</td>\n",
       "      <td>0</td>\n",
       "      <td>0</td>\n",
       "      <td>3</td>\n",
       "      <td>3</td>\n",
       "      <td>...</td>\n",
       "      <td>0</td>\n",
       "      <td>0</td>\n",
       "      <td>1</td>\n",
       "      <td>0</td>\n",
       "      <td>0</td>\n",
       "      <td>0</td>\n",
       "      <td>0</td>\n",
       "      <td>0</td>\n",
       "      <td>blue</td>\n",
       "      <td>blue</td>\n",
       "    </tr>\n",
       "    <tr>\n",
       "      <th>10</th>\n",
       "      <td>Australia</td>\n",
       "      <td>6</td>\n",
       "      <td>2</td>\n",
       "      <td>7690</td>\n",
       "      <td>15</td>\n",
       "      <td>1</td>\n",
       "      <td>1</td>\n",
       "      <td>0</td>\n",
       "      <td>0</td>\n",
       "      <td>3</td>\n",
       "      <td>...</td>\n",
       "      <td>1</td>\n",
       "      <td>1</td>\n",
       "      <td>6</td>\n",
       "      <td>0</td>\n",
       "      <td>0</td>\n",
       "      <td>0</td>\n",
       "      <td>0</td>\n",
       "      <td>0</td>\n",
       "      <td>white</td>\n",
       "      <td>blue</td>\n",
       "    </tr>\n",
       "    <tr>\n",
       "      <th>11</th>\n",
       "      <td>Austria</td>\n",
       "      <td>3</td>\n",
       "      <td>1</td>\n",
       "      <td>84</td>\n",
       "      <td>8</td>\n",
       "      <td>4</td>\n",
       "      <td>0</td>\n",
       "      <td>0</td>\n",
       "      <td>3</td>\n",
       "      <td>2</td>\n",
       "      <td>...</td>\n",
       "      <td>0</td>\n",
       "      <td>0</td>\n",
       "      <td>0</td>\n",
       "      <td>0</td>\n",
       "      <td>0</td>\n",
       "      <td>0</td>\n",
       "      <td>0</td>\n",
       "      <td>0</td>\n",
       "      <td>red</td>\n",
       "      <td>red</td>\n",
       "    </tr>\n",
       "    <tr>\n",
       "      <th>12</th>\n",
       "      <td>Bahamas</td>\n",
       "      <td>1</td>\n",
       "      <td>4</td>\n",
       "      <td>19</td>\n",
       "      <td>0</td>\n",
       "      <td>1</td>\n",
       "      <td>1</td>\n",
       "      <td>0</td>\n",
       "      <td>3</td>\n",
       "      <td>3</td>\n",
       "      <td>...</td>\n",
       "      <td>0</td>\n",
       "      <td>0</td>\n",
       "      <td>0</td>\n",
       "      <td>0</td>\n",
       "      <td>1</td>\n",
       "      <td>0</td>\n",
       "      <td>0</td>\n",
       "      <td>0</td>\n",
       "      <td>blue</td>\n",
       "      <td>blue</td>\n",
       "    </tr>\n",
       "    <tr>\n",
       "      <th>13</th>\n",
       "      <td>Bahrain</td>\n",
       "      <td>5</td>\n",
       "      <td>1</td>\n",
       "      <td>1</td>\n",
       "      <td>0</td>\n",
       "      <td>8</td>\n",
       "      <td>2</td>\n",
       "      <td>0</td>\n",
       "      <td>0</td>\n",
       "      <td>2</td>\n",
       "      <td>...</td>\n",
       "      <td>0</td>\n",
       "      <td>0</td>\n",
       "      <td>0</td>\n",
       "      <td>0</td>\n",
       "      <td>0</td>\n",
       "      <td>0</td>\n",
       "      <td>0</td>\n",
       "      <td>0</td>\n",
       "      <td>white</td>\n",
       "      <td>red</td>\n",
       "    </tr>\n",
       "    <tr>\n",
       "      <th>14</th>\n",
       "      <td>Bangladesh</td>\n",
       "      <td>5</td>\n",
       "      <td>1</td>\n",
       "      <td>143</td>\n",
       "      <td>90</td>\n",
       "      <td>6</td>\n",
       "      <td>2</td>\n",
       "      <td>0</td>\n",
       "      <td>0</td>\n",
       "      <td>2</td>\n",
       "      <td>...</td>\n",
       "      <td>0</td>\n",
       "      <td>0</td>\n",
       "      <td>0</td>\n",
       "      <td>0</td>\n",
       "      <td>0</td>\n",
       "      <td>0</td>\n",
       "      <td>0</td>\n",
       "      <td>0</td>\n",
       "      <td>green</td>\n",
       "      <td>green</td>\n",
       "    </tr>\n",
       "    <tr>\n",
       "      <th>15</th>\n",
       "      <td>Barbados</td>\n",
       "      <td>1</td>\n",
       "      <td>4</td>\n",
       "      <td>0</td>\n",
       "      <td>0</td>\n",
       "      <td>1</td>\n",
       "      <td>1</td>\n",
       "      <td>3</td>\n",
       "      <td>0</td>\n",
       "      <td>3</td>\n",
       "      <td>...</td>\n",
       "      <td>0</td>\n",
       "      <td>0</td>\n",
       "      <td>0</td>\n",
       "      <td>0</td>\n",
       "      <td>0</td>\n",
       "      <td>1</td>\n",
       "      <td>0</td>\n",
       "      <td>0</td>\n",
       "      <td>blue</td>\n",
       "      <td>blue</td>\n",
       "    </tr>\n",
       "    <tr>\n",
       "      <th>16</th>\n",
       "      <td>Belgium</td>\n",
       "      <td>3</td>\n",
       "      <td>1</td>\n",
       "      <td>31</td>\n",
       "      <td>10</td>\n",
       "      <td>6</td>\n",
       "      <td>0</td>\n",
       "      <td>3</td>\n",
       "      <td>0</td>\n",
       "      <td>3</td>\n",
       "      <td>...</td>\n",
       "      <td>0</td>\n",
       "      <td>0</td>\n",
       "      <td>0</td>\n",
       "      <td>0</td>\n",
       "      <td>0</td>\n",
       "      <td>0</td>\n",
       "      <td>0</td>\n",
       "      <td>0</td>\n",
       "      <td>black</td>\n",
       "      <td>red</td>\n",
       "    </tr>\n",
       "    <tr>\n",
       "      <th>17</th>\n",
       "      <td>Belize</td>\n",
       "      <td>1</td>\n",
       "      <td>4</td>\n",
       "      <td>23</td>\n",
       "      <td>0</td>\n",
       "      <td>1</td>\n",
       "      <td>1</td>\n",
       "      <td>0</td>\n",
       "      <td>2</td>\n",
       "      <td>8</td>\n",
       "      <td>...</td>\n",
       "      <td>0</td>\n",
       "      <td>0</td>\n",
       "      <td>0</td>\n",
       "      <td>0</td>\n",
       "      <td>0</td>\n",
       "      <td>1</td>\n",
       "      <td>1</td>\n",
       "      <td>1</td>\n",
       "      <td>red</td>\n",
       "      <td>red</td>\n",
       "    </tr>\n",
       "    <tr>\n",
       "      <th>18</th>\n",
       "      <td>Benin</td>\n",
       "      <td>4</td>\n",
       "      <td>1</td>\n",
       "      <td>113</td>\n",
       "      <td>3</td>\n",
       "      <td>3</td>\n",
       "      <td>5</td>\n",
       "      <td>0</td>\n",
       "      <td>0</td>\n",
       "      <td>2</td>\n",
       "      <td>...</td>\n",
       "      <td>0</td>\n",
       "      <td>0</td>\n",
       "      <td>1</td>\n",
       "      <td>0</td>\n",
       "      <td>0</td>\n",
       "      <td>0</td>\n",
       "      <td>0</td>\n",
       "      <td>0</td>\n",
       "      <td>green</td>\n",
       "      <td>green</td>\n",
       "    </tr>\n",
       "    <tr>\n",
       "      <th>19</th>\n",
       "      <td>Bermuda</td>\n",
       "      <td>1</td>\n",
       "      <td>4</td>\n",
       "      <td>0</td>\n",
       "      <td>0</td>\n",
       "      <td>1</td>\n",
       "      <td>1</td>\n",
       "      <td>0</td>\n",
       "      <td>0</td>\n",
       "      <td>6</td>\n",
       "      <td>...</td>\n",
       "      <td>1</td>\n",
       "      <td>1</td>\n",
       "      <td>0</td>\n",
       "      <td>0</td>\n",
       "      <td>0</td>\n",
       "      <td>1</td>\n",
       "      <td>1</td>\n",
       "      <td>0</td>\n",
       "      <td>white</td>\n",
       "      <td>red</td>\n",
       "    </tr>\n",
       "    <tr>\n",
       "      <th>20</th>\n",
       "      <td>Bhutan</td>\n",
       "      <td>5</td>\n",
       "      <td>1</td>\n",
       "      <td>47</td>\n",
       "      <td>1</td>\n",
       "      <td>10</td>\n",
       "      <td>3</td>\n",
       "      <td>0</td>\n",
       "      <td>0</td>\n",
       "      <td>4</td>\n",
       "      <td>...</td>\n",
       "      <td>0</td>\n",
       "      <td>0</td>\n",
       "      <td>0</td>\n",
       "      <td>0</td>\n",
       "      <td>0</td>\n",
       "      <td>0</td>\n",
       "      <td>1</td>\n",
       "      <td>0</td>\n",
       "      <td>orange</td>\n",
       "      <td>red</td>\n",
       "    </tr>\n",
       "    <tr>\n",
       "      <th>21</th>\n",
       "      <td>Bolivia</td>\n",
       "      <td>2</td>\n",
       "      <td>3</td>\n",
       "      <td>1099</td>\n",
       "      <td>6</td>\n",
       "      <td>2</td>\n",
       "      <td>0</td>\n",
       "      <td>0</td>\n",
       "      <td>3</td>\n",
       "      <td>3</td>\n",
       "      <td>...</td>\n",
       "      <td>0</td>\n",
       "      <td>0</td>\n",
       "      <td>0</td>\n",
       "      <td>0</td>\n",
       "      <td>0</td>\n",
       "      <td>0</td>\n",
       "      <td>0</td>\n",
       "      <td>0</td>\n",
       "      <td>red</td>\n",
       "      <td>green</td>\n",
       "    </tr>\n",
       "    <tr>\n",
       "      <th>22</th>\n",
       "      <td>Botswana</td>\n",
       "      <td>4</td>\n",
       "      <td>2</td>\n",
       "      <td>600</td>\n",
       "      <td>1</td>\n",
       "      <td>10</td>\n",
       "      <td>5</td>\n",
       "      <td>0</td>\n",
       "      <td>5</td>\n",
       "      <td>3</td>\n",
       "      <td>...</td>\n",
       "      <td>0</td>\n",
       "      <td>0</td>\n",
       "      <td>0</td>\n",
       "      <td>0</td>\n",
       "      <td>0</td>\n",
       "      <td>0</td>\n",
       "      <td>0</td>\n",
       "      <td>0</td>\n",
       "      <td>blue</td>\n",
       "      <td>blue</td>\n",
       "    </tr>\n",
       "    <tr>\n",
       "      <th>23</th>\n",
       "      <td>Brazil</td>\n",
       "      <td>2</td>\n",
       "      <td>3</td>\n",
       "      <td>8512</td>\n",
       "      <td>119</td>\n",
       "      <td>6</td>\n",
       "      <td>0</td>\n",
       "      <td>0</td>\n",
       "      <td>0</td>\n",
       "      <td>4</td>\n",
       "      <td>...</td>\n",
       "      <td>0</td>\n",
       "      <td>0</td>\n",
       "      <td>22</td>\n",
       "      <td>0</td>\n",
       "      <td>0</td>\n",
       "      <td>0</td>\n",
       "      <td>0</td>\n",
       "      <td>1</td>\n",
       "      <td>green</td>\n",
       "      <td>green</td>\n",
       "    </tr>\n",
       "    <tr>\n",
       "      <th>24</th>\n",
       "      <td>British-Virgin-Isles</td>\n",
       "      <td>1</td>\n",
       "      <td>4</td>\n",
       "      <td>0</td>\n",
       "      <td>0</td>\n",
       "      <td>1</td>\n",
       "      <td>1</td>\n",
       "      <td>0</td>\n",
       "      <td>0</td>\n",
       "      <td>6</td>\n",
       "      <td>...</td>\n",
       "      <td>1</td>\n",
       "      <td>1</td>\n",
       "      <td>0</td>\n",
       "      <td>0</td>\n",
       "      <td>0</td>\n",
       "      <td>1</td>\n",
       "      <td>1</td>\n",
       "      <td>1</td>\n",
       "      <td>white</td>\n",
       "      <td>blue</td>\n",
       "    </tr>\n",
       "    <tr>\n",
       "      <th>25</th>\n",
       "      <td>Brunei</td>\n",
       "      <td>5</td>\n",
       "      <td>1</td>\n",
       "      <td>6</td>\n",
       "      <td>0</td>\n",
       "      <td>10</td>\n",
       "      <td>2</td>\n",
       "      <td>0</td>\n",
       "      <td>0</td>\n",
       "      <td>4</td>\n",
       "      <td>...</td>\n",
       "      <td>0</td>\n",
       "      <td>0</td>\n",
       "      <td>0</td>\n",
       "      <td>0</td>\n",
       "      <td>1</td>\n",
       "      <td>1</td>\n",
       "      <td>1</td>\n",
       "      <td>1</td>\n",
       "      <td>white</td>\n",
       "      <td>gold</td>\n",
       "    </tr>\n",
       "    <tr>\n",
       "      <th>26</th>\n",
       "      <td>Bulgaria</td>\n",
       "      <td>3</td>\n",
       "      <td>1</td>\n",
       "      <td>111</td>\n",
       "      <td>9</td>\n",
       "      <td>5</td>\n",
       "      <td>6</td>\n",
       "      <td>0</td>\n",
       "      <td>3</td>\n",
       "      <td>5</td>\n",
       "      <td>...</td>\n",
       "      <td>0</td>\n",
       "      <td>0</td>\n",
       "      <td>1</td>\n",
       "      <td>0</td>\n",
       "      <td>0</td>\n",
       "      <td>1</td>\n",
       "      <td>1</td>\n",
       "      <td>0</td>\n",
       "      <td>white</td>\n",
       "      <td>red</td>\n",
       "    </tr>\n",
       "    <tr>\n",
       "      <th>27</th>\n",
       "      <td>Burkina</td>\n",
       "      <td>4</td>\n",
       "      <td>4</td>\n",
       "      <td>274</td>\n",
       "      <td>7</td>\n",
       "      <td>3</td>\n",
       "      <td>5</td>\n",
       "      <td>0</td>\n",
       "      <td>2</td>\n",
       "      <td>3</td>\n",
       "      <td>...</td>\n",
       "      <td>0</td>\n",
       "      <td>0</td>\n",
       "      <td>1</td>\n",
       "      <td>0</td>\n",
       "      <td>0</td>\n",
       "      <td>0</td>\n",
       "      <td>0</td>\n",
       "      <td>0</td>\n",
       "      <td>red</td>\n",
       "      <td>green</td>\n",
       "    </tr>\n",
       "    <tr>\n",
       "      <th>28</th>\n",
       "      <td>Burma</td>\n",
       "      <td>5</td>\n",
       "      <td>1</td>\n",
       "      <td>678</td>\n",
       "      <td>35</td>\n",
       "      <td>10</td>\n",
       "      <td>3</td>\n",
       "      <td>0</td>\n",
       "      <td>0</td>\n",
       "      <td>3</td>\n",
       "      <td>...</td>\n",
       "      <td>0</td>\n",
       "      <td>1</td>\n",
       "      <td>14</td>\n",
       "      <td>0</td>\n",
       "      <td>0</td>\n",
       "      <td>1</td>\n",
       "      <td>1</td>\n",
       "      <td>0</td>\n",
       "      <td>blue</td>\n",
       "      <td>red</td>\n",
       "    </tr>\n",
       "    <tr>\n",
       "      <th>29</th>\n",
       "      <td>Burundi</td>\n",
       "      <td>4</td>\n",
       "      <td>2</td>\n",
       "      <td>28</td>\n",
       "      <td>4</td>\n",
       "      <td>10</td>\n",
       "      <td>5</td>\n",
       "      <td>0</td>\n",
       "      <td>0</td>\n",
       "      <td>3</td>\n",
       "      <td>...</td>\n",
       "      <td>1</td>\n",
       "      <td>0</td>\n",
       "      <td>3</td>\n",
       "      <td>0</td>\n",
       "      <td>0</td>\n",
       "      <td>0</td>\n",
       "      <td>0</td>\n",
       "      <td>0</td>\n",
       "      <td>white</td>\n",
       "      <td>white</td>\n",
       "    </tr>\n",
       "    <tr>\n",
       "      <th>30</th>\n",
       "      <td>Cameroon</td>\n",
       "      <td>4</td>\n",
       "      <td>1</td>\n",
       "      <td>474</td>\n",
       "      <td>8</td>\n",
       "      <td>3</td>\n",
       "      <td>1</td>\n",
       "      <td>3</td>\n",
       "      <td>0</td>\n",
       "      <td>3</td>\n",
       "      <td>...</td>\n",
       "      <td>0</td>\n",
       "      <td>0</td>\n",
       "      <td>1</td>\n",
       "      <td>0</td>\n",
       "      <td>0</td>\n",
       "      <td>0</td>\n",
       "      <td>0</td>\n",
       "      <td>0</td>\n",
       "      <td>green</td>\n",
       "      <td>gold</td>\n",
       "    </tr>\n",
       "    <tr>\n",
       "      <th>31</th>\n",
       "      <td>Canada</td>\n",
       "      <td>1</td>\n",
       "      <td>4</td>\n",
       "      <td>9976</td>\n",
       "      <td>24</td>\n",
       "      <td>1</td>\n",
       "      <td>1</td>\n",
       "      <td>2</td>\n",
       "      <td>0</td>\n",
       "      <td>2</td>\n",
       "      <td>...</td>\n",
       "      <td>0</td>\n",
       "      <td>0</td>\n",
       "      <td>0</td>\n",
       "      <td>0</td>\n",
       "      <td>0</td>\n",
       "      <td>0</td>\n",
       "      <td>1</td>\n",
       "      <td>0</td>\n",
       "      <td>red</td>\n",
       "      <td>red</td>\n",
       "    </tr>\n",
       "    <tr>\n",
       "      <th>32</th>\n",
       "      <td>Cape-Verde-Islands</td>\n",
       "      <td>4</td>\n",
       "      <td>4</td>\n",
       "      <td>4</td>\n",
       "      <td>0</td>\n",
       "      <td>6</td>\n",
       "      <td>0</td>\n",
       "      <td>1</td>\n",
       "      <td>2</td>\n",
       "      <td>5</td>\n",
       "      <td>...</td>\n",
       "      <td>0</td>\n",
       "      <td>0</td>\n",
       "      <td>1</td>\n",
       "      <td>0</td>\n",
       "      <td>0</td>\n",
       "      <td>0</td>\n",
       "      <td>1</td>\n",
       "      <td>0</td>\n",
       "      <td>red</td>\n",
       "      <td>green</td>\n",
       "    </tr>\n",
       "    <tr>\n",
       "      <th>33</th>\n",
       "      <td>Cayman-Islands</td>\n",
       "      <td>1</td>\n",
       "      <td>4</td>\n",
       "      <td>0</td>\n",
       "      <td>0</td>\n",
       "      <td>1</td>\n",
       "      <td>1</td>\n",
       "      <td>0</td>\n",
       "      <td>0</td>\n",
       "      <td>6</td>\n",
       "      <td>...</td>\n",
       "      <td>1</td>\n",
       "      <td>1</td>\n",
       "      <td>4</td>\n",
       "      <td>0</td>\n",
       "      <td>0</td>\n",
       "      <td>1</td>\n",
       "      <td>1</td>\n",
       "      <td>1</td>\n",
       "      <td>white</td>\n",
       "      <td>blue</td>\n",
       "    </tr>\n",
       "    <tr>\n",
       "      <th>34</th>\n",
       "      <td>Central-African-Republic</td>\n",
       "      <td>4</td>\n",
       "      <td>1</td>\n",
       "      <td>623</td>\n",
       "      <td>2</td>\n",
       "      <td>10</td>\n",
       "      <td>5</td>\n",
       "      <td>1</td>\n",
       "      <td>0</td>\n",
       "      <td>5</td>\n",
       "      <td>...</td>\n",
       "      <td>0</td>\n",
       "      <td>0</td>\n",
       "      <td>1</td>\n",
       "      <td>0</td>\n",
       "      <td>0</td>\n",
       "      <td>0</td>\n",
       "      <td>0</td>\n",
       "      <td>0</td>\n",
       "      <td>blue</td>\n",
       "      <td>gold</td>\n",
       "    </tr>\n",
       "    <tr>\n",
       "      <th>35</th>\n",
       "      <td>Chad</td>\n",
       "      <td>4</td>\n",
       "      <td>1</td>\n",
       "      <td>1284</td>\n",
       "      <td>4</td>\n",
       "      <td>3</td>\n",
       "      <td>5</td>\n",
       "      <td>3</td>\n",
       "      <td>0</td>\n",
       "      <td>3</td>\n",
       "      <td>...</td>\n",
       "      <td>0</td>\n",
       "      <td>0</td>\n",
       "      <td>0</td>\n",
       "      <td>0</td>\n",
       "      <td>0</td>\n",
       "      <td>0</td>\n",
       "      <td>0</td>\n",
       "      <td>0</td>\n",
       "      <td>blue</td>\n",
       "      <td>red</td>\n",
       "    </tr>\n",
       "    <tr>\n",
       "      <th>36</th>\n",
       "      <td>Chile</td>\n",
       "      <td>2</td>\n",
       "      <td>3</td>\n",
       "      <td>757</td>\n",
       "      <td>11</td>\n",
       "      <td>2</td>\n",
       "      <td>0</td>\n",
       "      <td>0</td>\n",
       "      <td>2</td>\n",
       "      <td>3</td>\n",
       "      <td>...</td>\n",
       "      <td>0</td>\n",
       "      <td>1</td>\n",
       "      <td>1</td>\n",
       "      <td>0</td>\n",
       "      <td>0</td>\n",
       "      <td>0</td>\n",
       "      <td>0</td>\n",
       "      <td>0</td>\n",
       "      <td>blue</td>\n",
       "      <td>red</td>\n",
       "    </tr>\n",
       "    <tr>\n",
       "      <th>37</th>\n",
       "      <td>China</td>\n",
       "      <td>5</td>\n",
       "      <td>1</td>\n",
       "      <td>9561</td>\n",
       "      <td>1008</td>\n",
       "      <td>7</td>\n",
       "      <td>6</td>\n",
       "      <td>0</td>\n",
       "      <td>0</td>\n",
       "      <td>2</td>\n",
       "      <td>...</td>\n",
       "      <td>0</td>\n",
       "      <td>0</td>\n",
       "      <td>5</td>\n",
       "      <td>0</td>\n",
       "      <td>0</td>\n",
       "      <td>0</td>\n",
       "      <td>0</td>\n",
       "      <td>0</td>\n",
       "      <td>red</td>\n",
       "      <td>red</td>\n",
       "    </tr>\n",
       "    <tr>\n",
       "      <th>38</th>\n",
       "      <td>Colombia</td>\n",
       "      <td>2</td>\n",
       "      <td>4</td>\n",
       "      <td>1139</td>\n",
       "      <td>28</td>\n",
       "      <td>2</td>\n",
       "      <td>0</td>\n",
       "      <td>0</td>\n",
       "      <td>3</td>\n",
       "      <td>3</td>\n",
       "      <td>...</td>\n",
       "      <td>0</td>\n",
       "      <td>0</td>\n",
       "      <td>0</td>\n",
       "      <td>0</td>\n",
       "      <td>0</td>\n",
       "      <td>0</td>\n",
       "      <td>0</td>\n",
       "      <td>0</td>\n",
       "      <td>gold</td>\n",
       "      <td>red</td>\n",
       "    </tr>\n",
       "    <tr>\n",
       "      <th>39</th>\n",
       "      <td>Comorro-Islands</td>\n",
       "      <td>4</td>\n",
       "      <td>2</td>\n",
       "      <td>2</td>\n",
       "      <td>0</td>\n",
       "      <td>3</td>\n",
       "      <td>2</td>\n",
       "      <td>0</td>\n",
       "      <td>0</td>\n",
       "      <td>2</td>\n",
       "      <td>...</td>\n",
       "      <td>0</td>\n",
       "      <td>0</td>\n",
       "      <td>4</td>\n",
       "      <td>1</td>\n",
       "      <td>0</td>\n",
       "      <td>0</td>\n",
       "      <td>0</td>\n",
       "      <td>0</td>\n",
       "      <td>green</td>\n",
       "      <td>green</td>\n",
       "    </tr>\n",
       "    <tr>\n",
       "      <th>40</th>\n",
       "      <td>Congo</td>\n",
       "      <td>4</td>\n",
       "      <td>2</td>\n",
       "      <td>342</td>\n",
       "      <td>2</td>\n",
       "      <td>10</td>\n",
       "      <td>5</td>\n",
       "      <td>0</td>\n",
       "      <td>0</td>\n",
       "      <td>3</td>\n",
       "      <td>...</td>\n",
       "      <td>0</td>\n",
       "      <td>0</td>\n",
       "      <td>1</td>\n",
       "      <td>0</td>\n",
       "      <td>0</td>\n",
       "      <td>1</td>\n",
       "      <td>1</td>\n",
       "      <td>0</td>\n",
       "      <td>red</td>\n",
       "      <td>red</td>\n",
       "    </tr>\n",
       "    <tr>\n",
       "      <th>41</th>\n",
       "      <td>Cook-Islands</td>\n",
       "      <td>6</td>\n",
       "      <td>3</td>\n",
       "      <td>0</td>\n",
       "      <td>0</td>\n",
       "      <td>1</td>\n",
       "      <td>1</td>\n",
       "      <td>0</td>\n",
       "      <td>0</td>\n",
       "      <td>4</td>\n",
       "      <td>...</td>\n",
       "      <td>1</td>\n",
       "      <td>1</td>\n",
       "      <td>15</td>\n",
       "      <td>0</td>\n",
       "      <td>0</td>\n",
       "      <td>0</td>\n",
       "      <td>0</td>\n",
       "      <td>0</td>\n",
       "      <td>white</td>\n",
       "      <td>blue</td>\n",
       "    </tr>\n",
       "    <tr>\n",
       "      <th>42</th>\n",
       "      <td>Costa-Rica</td>\n",
       "      <td>1</td>\n",
       "      <td>4</td>\n",
       "      <td>51</td>\n",
       "      <td>2</td>\n",
       "      <td>2</td>\n",
       "      <td>0</td>\n",
       "      <td>0</td>\n",
       "      <td>5</td>\n",
       "      <td>3</td>\n",
       "      <td>...</td>\n",
       "      <td>0</td>\n",
       "      <td>0</td>\n",
       "      <td>0</td>\n",
       "      <td>0</td>\n",
       "      <td>0</td>\n",
       "      <td>0</td>\n",
       "      <td>0</td>\n",
       "      <td>0</td>\n",
       "      <td>blue</td>\n",
       "      <td>blue</td>\n",
       "    </tr>\n",
       "    <tr>\n",
       "      <th>43</th>\n",
       "      <td>Cuba</td>\n",
       "      <td>1</td>\n",
       "      <td>4</td>\n",
       "      <td>115</td>\n",
       "      <td>10</td>\n",
       "      <td>2</td>\n",
       "      <td>6</td>\n",
       "      <td>0</td>\n",
       "      <td>5</td>\n",
       "      <td>3</td>\n",
       "      <td>...</td>\n",
       "      <td>0</td>\n",
       "      <td>0</td>\n",
       "      <td>1</td>\n",
       "      <td>0</td>\n",
       "      <td>1</td>\n",
       "      <td>0</td>\n",
       "      <td>0</td>\n",
       "      <td>0</td>\n",
       "      <td>blue</td>\n",
       "      <td>blue</td>\n",
       "    </tr>\n",
       "    <tr>\n",
       "      <th>44</th>\n",
       "      <td>Cyprus</td>\n",
       "      <td>3</td>\n",
       "      <td>1</td>\n",
       "      <td>9</td>\n",
       "      <td>1</td>\n",
       "      <td>6</td>\n",
       "      <td>1</td>\n",
       "      <td>0</td>\n",
       "      <td>0</td>\n",
       "      <td>3</td>\n",
       "      <td>...</td>\n",
       "      <td>0</td>\n",
       "      <td>0</td>\n",
       "      <td>0</td>\n",
       "      <td>0</td>\n",
       "      <td>0</td>\n",
       "      <td>1</td>\n",
       "      <td>1</td>\n",
       "      <td>0</td>\n",
       "      <td>white</td>\n",
       "      <td>white</td>\n",
       "    </tr>\n",
       "    <tr>\n",
       "      <th>45</th>\n",
       "      <td>Czechoslovakia</td>\n",
       "      <td>3</td>\n",
       "      <td>1</td>\n",
       "      <td>128</td>\n",
       "      <td>15</td>\n",
       "      <td>5</td>\n",
       "      <td>6</td>\n",
       "      <td>0</td>\n",
       "      <td>0</td>\n",
       "      <td>3</td>\n",
       "      <td>...</td>\n",
       "      <td>0</td>\n",
       "      <td>0</td>\n",
       "      <td>0</td>\n",
       "      <td>0</td>\n",
       "      <td>1</td>\n",
       "      <td>0</td>\n",
       "      <td>0</td>\n",
       "      <td>0</td>\n",
       "      <td>white</td>\n",
       "      <td>red</td>\n",
       "    </tr>\n",
       "    <tr>\n",
       "      <th>46</th>\n",
       "      <td>Denmark</td>\n",
       "      <td>3</td>\n",
       "      <td>1</td>\n",
       "      <td>43</td>\n",
       "      <td>5</td>\n",
       "      <td>6</td>\n",
       "      <td>1</td>\n",
       "      <td>0</td>\n",
       "      <td>0</td>\n",
       "      <td>2</td>\n",
       "      <td>...</td>\n",
       "      <td>0</td>\n",
       "      <td>0</td>\n",
       "      <td>0</td>\n",
       "      <td>0</td>\n",
       "      <td>0</td>\n",
       "      <td>0</td>\n",
       "      <td>0</td>\n",
       "      <td>0</td>\n",
       "      <td>red</td>\n",
       "      <td>red</td>\n",
       "    </tr>\n",
       "    <tr>\n",
       "      <th>47</th>\n",
       "      <td>Djibouti</td>\n",
       "      <td>4</td>\n",
       "      <td>1</td>\n",
       "      <td>22</td>\n",
       "      <td>0</td>\n",
       "      <td>3</td>\n",
       "      <td>2</td>\n",
       "      <td>0</td>\n",
       "      <td>0</td>\n",
       "      <td>4</td>\n",
       "      <td>...</td>\n",
       "      <td>0</td>\n",
       "      <td>0</td>\n",
       "      <td>1</td>\n",
       "      <td>0</td>\n",
       "      <td>1</td>\n",
       "      <td>0</td>\n",
       "      <td>0</td>\n",
       "      <td>0</td>\n",
       "      <td>white</td>\n",
       "      <td>green</td>\n",
       "    </tr>\n",
       "    <tr>\n",
       "      <th>48</th>\n",
       "      <td>Dominica</td>\n",
       "      <td>1</td>\n",
       "      <td>4</td>\n",
       "      <td>0</td>\n",
       "      <td>0</td>\n",
       "      <td>1</td>\n",
       "      <td>1</td>\n",
       "      <td>0</td>\n",
       "      <td>0</td>\n",
       "      <td>6</td>\n",
       "      <td>...</td>\n",
       "      <td>0</td>\n",
       "      <td>0</td>\n",
       "      <td>10</td>\n",
       "      <td>0</td>\n",
       "      <td>0</td>\n",
       "      <td>0</td>\n",
       "      <td>1</td>\n",
       "      <td>0</td>\n",
       "      <td>green</td>\n",
       "      <td>green</td>\n",
       "    </tr>\n",
       "    <tr>\n",
       "      <th>49</th>\n",
       "      <td>Dominican-Republic</td>\n",
       "      <td>1</td>\n",
       "      <td>4</td>\n",
       "      <td>49</td>\n",
       "      <td>6</td>\n",
       "      <td>2</td>\n",
       "      <td>0</td>\n",
       "      <td>0</td>\n",
       "      <td>0</td>\n",
       "      <td>3</td>\n",
       "      <td>...</td>\n",
       "      <td>0</td>\n",
       "      <td>0</td>\n",
       "      <td>0</td>\n",
       "      <td>0</td>\n",
       "      <td>0</td>\n",
       "      <td>0</td>\n",
       "      <td>0</td>\n",
       "      <td>0</td>\n",
       "      <td>blue</td>\n",
       "      <td>blue</td>\n",
       "    </tr>\n",
       "    <tr>\n",
       "      <th>50</th>\n",
       "      <td>Ecuador</td>\n",
       "      <td>2</td>\n",
       "      <td>3</td>\n",
       "      <td>284</td>\n",
       "      <td>8</td>\n",
       "      <td>2</td>\n",
       "      <td>0</td>\n",
       "      <td>0</td>\n",
       "      <td>3</td>\n",
       "      <td>3</td>\n",
       "      <td>...</td>\n",
       "      <td>0</td>\n",
       "      <td>0</td>\n",
       "      <td>0</td>\n",
       "      <td>0</td>\n",
       "      <td>0</td>\n",
       "      <td>0</td>\n",
       "      <td>0</td>\n",
       "      <td>0</td>\n",
       "      <td>gold</td>\n",
       "      <td>red</td>\n",
       "    </tr>\n",
       "    <tr>\n",
       "      <th>51</th>\n",
       "      <td>Egypt</td>\n",
       "      <td>4</td>\n",
       "      <td>1</td>\n",
       "      <td>1001</td>\n",
       "      <td>47</td>\n",
       "      <td>8</td>\n",
       "      <td>2</td>\n",
       "      <td>0</td>\n",
       "      <td>3</td>\n",
       "      <td>4</td>\n",
       "      <td>...</td>\n",
       "      <td>0</td>\n",
       "      <td>0</td>\n",
       "      <td>0</td>\n",
       "      <td>0</td>\n",
       "      <td>0</td>\n",
       "      <td>0</td>\n",
       "      <td>1</td>\n",
       "      <td>1</td>\n",
       "      <td>red</td>\n",
       "      <td>black</td>\n",
       "    </tr>\n",
       "    <tr>\n",
       "      <th>52</th>\n",
       "      <td>El-Salvador</td>\n",
       "      <td>1</td>\n",
       "      <td>4</td>\n",
       "      <td>21</td>\n",
       "      <td>5</td>\n",
       "      <td>2</td>\n",
       "      <td>0</td>\n",
       "      <td>0</td>\n",
       "      <td>3</td>\n",
       "      <td>2</td>\n",
       "      <td>...</td>\n",
       "      <td>0</td>\n",
       "      <td>0</td>\n",
       "      <td>0</td>\n",
       "      <td>0</td>\n",
       "      <td>0</td>\n",
       "      <td>0</td>\n",
       "      <td>0</td>\n",
       "      <td>0</td>\n",
       "      <td>blue</td>\n",
       "      <td>blue</td>\n",
       "    </tr>\n",
       "    <tr>\n",
       "      <th>53</th>\n",
       "      <td>Equatorial-Guinea</td>\n",
       "      <td>4</td>\n",
       "      <td>1</td>\n",
       "      <td>28</td>\n",
       "      <td>0</td>\n",
       "      <td>10</td>\n",
       "      <td>5</td>\n",
       "      <td>0</td>\n",
       "      <td>3</td>\n",
       "      <td>4</td>\n",
       "      <td>...</td>\n",
       "      <td>0</td>\n",
       "      <td>0</td>\n",
       "      <td>0</td>\n",
       "      <td>0</td>\n",
       "      <td>1</td>\n",
       "      <td>0</td>\n",
       "      <td>0</td>\n",
       "      <td>0</td>\n",
       "      <td>green</td>\n",
       "      <td>red</td>\n",
       "    </tr>\n",
       "    <tr>\n",
       "      <th>54</th>\n",
       "      <td>Ethiopia</td>\n",
       "      <td>4</td>\n",
       "      <td>1</td>\n",
       "      <td>1222</td>\n",
       "      <td>31</td>\n",
       "      <td>10</td>\n",
       "      <td>1</td>\n",
       "      <td>0</td>\n",
       "      <td>3</td>\n",
       "      <td>3</td>\n",
       "      <td>...</td>\n",
       "      <td>0</td>\n",
       "      <td>0</td>\n",
       "      <td>0</td>\n",
       "      <td>0</td>\n",
       "      <td>0</td>\n",
       "      <td>0</td>\n",
       "      <td>0</td>\n",
       "      <td>0</td>\n",
       "      <td>green</td>\n",
       "      <td>red</td>\n",
       "    </tr>\n",
       "    <tr>\n",
       "      <th>55</th>\n",
       "      <td>Faeroes</td>\n",
       "      <td>3</td>\n",
       "      <td>4</td>\n",
       "      <td>1</td>\n",
       "      <td>0</td>\n",
       "      <td>6</td>\n",
       "      <td>1</td>\n",
       "      <td>0</td>\n",
       "      <td>0</td>\n",
       "      <td>3</td>\n",
       "      <td>...</td>\n",
       "      <td>0</td>\n",
       "      <td>0</td>\n",
       "      <td>0</td>\n",
       "      <td>0</td>\n",
       "      <td>0</td>\n",
       "      <td>0</td>\n",
       "      <td>0</td>\n",
       "      <td>0</td>\n",
       "      <td>white</td>\n",
       "      <td>white</td>\n",
       "    </tr>\n",
       "    <tr>\n",
       "      <th>56</th>\n",
       "      <td>Falklands-Malvinas</td>\n",
       "      <td>2</td>\n",
       "      <td>3</td>\n",
       "      <td>12</td>\n",
       "      <td>0</td>\n",
       "      <td>1</td>\n",
       "      <td>1</td>\n",
       "      <td>0</td>\n",
       "      <td>0</td>\n",
       "      <td>6</td>\n",
       "      <td>...</td>\n",
       "      <td>1</td>\n",
       "      <td>1</td>\n",
       "      <td>0</td>\n",
       "      <td>0</td>\n",
       "      <td>0</td>\n",
       "      <td>1</td>\n",
       "      <td>1</td>\n",
       "      <td>1</td>\n",
       "      <td>white</td>\n",
       "      <td>blue</td>\n",
       "    </tr>\n",
       "    <tr>\n",
       "      <th>57</th>\n",
       "      <td>Fiji</td>\n",
       "      <td>6</td>\n",
       "      <td>2</td>\n",
       "      <td>18</td>\n",
       "      <td>1</td>\n",
       "      <td>1</td>\n",
       "      <td>1</td>\n",
       "      <td>0</td>\n",
       "      <td>0</td>\n",
       "      <td>7</td>\n",
       "      <td>...</td>\n",
       "      <td>1</td>\n",
       "      <td>1</td>\n",
       "      <td>0</td>\n",
       "      <td>0</td>\n",
       "      <td>0</td>\n",
       "      <td>1</td>\n",
       "      <td>1</td>\n",
       "      <td>0</td>\n",
       "      <td>white</td>\n",
       "      <td>blue</td>\n",
       "    </tr>\n",
       "    <tr>\n",
       "      <th>58</th>\n",
       "      <td>Finland</td>\n",
       "      <td>3</td>\n",
       "      <td>1</td>\n",
       "      <td>337</td>\n",
       "      <td>5</td>\n",
       "      <td>9</td>\n",
       "      <td>1</td>\n",
       "      <td>0</td>\n",
       "      <td>0</td>\n",
       "      <td>2</td>\n",
       "      <td>...</td>\n",
       "      <td>0</td>\n",
       "      <td>0</td>\n",
       "      <td>0</td>\n",
       "      <td>0</td>\n",
       "      <td>0</td>\n",
       "      <td>0</td>\n",
       "      <td>0</td>\n",
       "      <td>0</td>\n",
       "      <td>white</td>\n",
       "      <td>white</td>\n",
       "    </tr>\n",
       "    <tr>\n",
       "      <th>59</th>\n",
       "      <td>France</td>\n",
       "      <td>3</td>\n",
       "      <td>1</td>\n",
       "      <td>547</td>\n",
       "      <td>54</td>\n",
       "      <td>3</td>\n",
       "      <td>0</td>\n",
       "      <td>3</td>\n",
       "      <td>0</td>\n",
       "      <td>3</td>\n",
       "      <td>...</td>\n",
       "      <td>0</td>\n",
       "      <td>0</td>\n",
       "      <td>0</td>\n",
       "      <td>0</td>\n",
       "      <td>0</td>\n",
       "      <td>0</td>\n",
       "      <td>0</td>\n",
       "      <td>0</td>\n",
       "      <td>blue</td>\n",
       "      <td>red</td>\n",
       "    </tr>\n",
       "  </tbody>\n",
       "</table>\n",
       "<p>60 rows × 30 columns</p>\n",
       "</div>"
      ],
      "text/plain": [
       "                        name  landmass  zone  area  population  language  \\\n",
       "0                Afghanistan         5     1   648          16        10   \n",
       "1                    Albania         3     1    29           3         6   \n",
       "2                    Algeria         4     1  2388          20         8   \n",
       "3             American-Samoa         6     3     0           0         1   \n",
       "4                    Andorra         3     1     0           0         6   \n",
       "5                     Angola         4     2  1247           7        10   \n",
       "6                   Anguilla         1     4     0           0         1   \n",
       "7            Antigua-Barbuda         1     4     0           0         1   \n",
       "8                  Argentina         2     3  2777          28         2   \n",
       "9                  Argentine         2     3  2777          28         2   \n",
       "10                 Australia         6     2  7690          15         1   \n",
       "11                   Austria         3     1    84           8         4   \n",
       "12                   Bahamas         1     4    19           0         1   \n",
       "13                   Bahrain         5     1     1           0         8   \n",
       "14                Bangladesh         5     1   143          90         6   \n",
       "15                  Barbados         1     4     0           0         1   \n",
       "16                   Belgium         3     1    31          10         6   \n",
       "17                    Belize         1     4    23           0         1   \n",
       "18                     Benin         4     1   113           3         3   \n",
       "19                   Bermuda         1     4     0           0         1   \n",
       "20                    Bhutan         5     1    47           1        10   \n",
       "21                   Bolivia         2     3  1099           6         2   \n",
       "22                  Botswana         4     2   600           1        10   \n",
       "23                    Brazil         2     3  8512         119         6   \n",
       "24      British-Virgin-Isles         1     4     0           0         1   \n",
       "25                    Brunei         5     1     6           0        10   \n",
       "26                  Bulgaria         3     1   111           9         5   \n",
       "27                   Burkina         4     4   274           7         3   \n",
       "28                     Burma         5     1   678          35        10   \n",
       "29                   Burundi         4     2    28           4        10   \n",
       "30                  Cameroon         4     1   474           8         3   \n",
       "31                    Canada         1     4  9976          24         1   \n",
       "32        Cape-Verde-Islands         4     4     4           0         6   \n",
       "33            Cayman-Islands         1     4     0           0         1   \n",
       "34  Central-African-Republic         4     1   623           2        10   \n",
       "35                      Chad         4     1  1284           4         3   \n",
       "36                     Chile         2     3   757          11         2   \n",
       "37                     China         5     1  9561        1008         7   \n",
       "38                  Colombia         2     4  1139          28         2   \n",
       "39           Comorro-Islands         4     2     2           0         3   \n",
       "40                     Congo         4     2   342           2        10   \n",
       "41              Cook-Islands         6     3     0           0         1   \n",
       "42                Costa-Rica         1     4    51           2         2   \n",
       "43                      Cuba         1     4   115          10         2   \n",
       "44                    Cyprus         3     1     9           1         6   \n",
       "45            Czechoslovakia         3     1   128          15         5   \n",
       "46                   Denmark         3     1    43           5         6   \n",
       "47                  Djibouti         4     1    22           0         3   \n",
       "48                  Dominica         1     4     0           0         1   \n",
       "49        Dominican-Republic         1     4    49           6         2   \n",
       "50                   Ecuador         2     3   284           8         2   \n",
       "51                     Egypt         4     1  1001          47         8   \n",
       "52               El-Salvador         1     4    21           5         2   \n",
       "53         Equatorial-Guinea         4     1    28           0        10   \n",
       "54                  Ethiopia         4     1  1222          31        10   \n",
       "55                   Faeroes         3     4     1           0         6   \n",
       "56        Falklands-Malvinas         2     3    12           0         1   \n",
       "57                      Fiji         6     2    18           1         1   \n",
       "58                   Finland         3     1   337           5         9   \n",
       "59                    France         3     1   547          54         3   \n",
       "\n",
       "    religion  bars  stripes  colours  ...  saltires  quarters  sunstars  \\\n",
       "0          2     0        3        5  ...         0         0         1   \n",
       "1          6     0        0        3  ...         0         0         1   \n",
       "2          2     2        0        3  ...         0         0         1   \n",
       "3          1     0        0        5  ...         0         0         0   \n",
       "4          0     3        0        3  ...         0         0         0   \n",
       "5          5     0        2        3  ...         0         0         1   \n",
       "6          1     0        1        3  ...         0         0         0   \n",
       "7          1     0        1        5  ...         0         0         1   \n",
       "8          0     0        3        2  ...         0         0         0   \n",
       "9          0     0        3        3  ...         0         0         1   \n",
       "10         1     0        0        3  ...         1         1         6   \n",
       "11         0     0        3        2  ...         0         0         0   \n",
       "12         1     0        3        3  ...         0         0         0   \n",
       "13         2     0        0        2  ...         0         0         0   \n",
       "14         2     0        0        2  ...         0         0         0   \n",
       "15         1     3        0        3  ...         0         0         0   \n",
       "16         0     3        0        3  ...         0         0         0   \n",
       "17         1     0        2        8  ...         0         0         0   \n",
       "18         5     0        0        2  ...         0         0         1   \n",
       "19         1     0        0        6  ...         1         1         0   \n",
       "20         3     0        0        4  ...         0         0         0   \n",
       "21         0     0        3        3  ...         0         0         0   \n",
       "22         5     0        5        3  ...         0         0         0   \n",
       "23         0     0        0        4  ...         0         0        22   \n",
       "24         1     0        0        6  ...         1         1         0   \n",
       "25         2     0        0        4  ...         0         0         0   \n",
       "26         6     0        3        5  ...         0         0         1   \n",
       "27         5     0        2        3  ...         0         0         1   \n",
       "28         3     0        0        3  ...         0         1        14   \n",
       "29         5     0        0        3  ...         1         0         3   \n",
       "30         1     3        0        3  ...         0         0         1   \n",
       "31         1     2        0        2  ...         0         0         0   \n",
       "32         0     1        2        5  ...         0         0         1   \n",
       "33         1     0        0        6  ...         1         1         4   \n",
       "34         5     1        0        5  ...         0         0         1   \n",
       "35         5     3        0        3  ...         0         0         0   \n",
       "36         0     0        2        3  ...         0         1         1   \n",
       "37         6     0        0        2  ...         0         0         5   \n",
       "38         0     0        3        3  ...         0         0         0   \n",
       "39         2     0        0        2  ...         0         0         4   \n",
       "40         5     0        0        3  ...         0         0         1   \n",
       "41         1     0        0        4  ...         1         1        15   \n",
       "42         0     0        5        3  ...         0         0         0   \n",
       "43         6     0        5        3  ...         0         0         1   \n",
       "44         1     0        0        3  ...         0         0         0   \n",
       "45         6     0        0        3  ...         0         0         0   \n",
       "46         1     0        0        2  ...         0         0         0   \n",
       "47         2     0        0        4  ...         0         0         1   \n",
       "48         1     0        0        6  ...         0         0        10   \n",
       "49         0     0        0        3  ...         0         0         0   \n",
       "50         0     0        3        3  ...         0         0         0   \n",
       "51         2     0        3        4  ...         0         0         0   \n",
       "52         0     0        3        2  ...         0         0         0   \n",
       "53         5     0        3        4  ...         0         0         0   \n",
       "54         1     0        3        3  ...         0         0         0   \n",
       "55         1     0        0        3  ...         0         0         0   \n",
       "56         1     0        0        6  ...         1         1         0   \n",
       "57         1     0        0        7  ...         1         1         0   \n",
       "58         1     0        0        2  ...         0         0         0   \n",
       "59         0     3        0        3  ...         0         0         0   \n",
       "\n",
       "    crescent  triangle  icon  animate text  topleft  botright  \n",
       "0          0         0     1        0    0    black     green  \n",
       "1          0         0     0        1    0      red       red  \n",
       "2          1         0     0        0    0    green     white  \n",
       "3          0         1     1        1    0     blue       red  \n",
       "4          0         0     0        0    0     blue       red  \n",
       "5          0         0     1        0    0      red     black  \n",
       "6          0         0     0        1    0    white      blue  \n",
       "7          0         1     0        0    0    black       red  \n",
       "8          0         0     0        0    0     blue      blue  \n",
       "9          0         0     0        0    0     blue      blue  \n",
       "10         0         0     0        0    0    white      blue  \n",
       "11         0         0     0        0    0      red       red  \n",
       "12         0         1     0        0    0     blue      blue  \n",
       "13         0         0     0        0    0    white       red  \n",
       "14         0         0     0        0    0    green     green  \n",
       "15         0         0     1        0    0     blue      blue  \n",
       "16         0         0     0        0    0    black       red  \n",
       "17         0         0     1        1    1      red       red  \n",
       "18         0         0     0        0    0    green     green  \n",
       "19         0         0     1        1    0    white       red  \n",
       "20         0         0     0        1    0   orange       red  \n",
       "21         0         0     0        0    0      red     green  \n",
       "22         0         0     0        0    0     blue      blue  \n",
       "23         0         0     0        0    1    green     green  \n",
       "24         0         0     1        1    1    white      blue  \n",
       "25         0         1     1        1    1    white      gold  \n",
       "26         0         0     1        1    0    white       red  \n",
       "27         0         0     0        0    0      red     green  \n",
       "28         0         0     1        1    0     blue       red  \n",
       "29         0         0     0        0    0    white     white  \n",
       "30         0         0     0        0    0    green      gold  \n",
       "31         0         0     0        1    0      red       red  \n",
       "32         0         0     0        1    0      red     green  \n",
       "33         0         0     1        1    1    white      blue  \n",
       "34         0         0     0        0    0     blue      gold  \n",
       "35         0         0     0        0    0     blue       red  \n",
       "36         0         0     0        0    0     blue       red  \n",
       "37         0         0     0        0    0      red       red  \n",
       "38         0         0     0        0    0     gold       red  \n",
       "39         1         0     0        0    0    green     green  \n",
       "40         0         0     1        1    0      red       red  \n",
       "41         0         0     0        0    0    white      blue  \n",
       "42         0         0     0        0    0     blue      blue  \n",
       "43         0         1     0        0    0     blue      blue  \n",
       "44         0         0     1        1    0    white     white  \n",
       "45         0         1     0        0    0    white       red  \n",
       "46         0         0     0        0    0      red       red  \n",
       "47         0         1     0        0    0    white     green  \n",
       "48         0         0     0        1    0    green     green  \n",
       "49         0         0     0        0    0     blue      blue  \n",
       "50         0         0     0        0    0     gold       red  \n",
       "51         0         0     0        1    1      red     black  \n",
       "52         0         0     0        0    0     blue      blue  \n",
       "53         0         1     0        0    0    green       red  \n",
       "54         0         0     0        0    0    green       red  \n",
       "55         0         0     0        0    0    white     white  \n",
       "56         0         0     1        1    1    white      blue  \n",
       "57         0         0     1        1    0    white      blue  \n",
       "58         0         0     0        0    0    white     white  \n",
       "59         0         0     0        0    0     blue       red  \n",
       "\n",
       "[60 rows x 30 columns]"
      ]
     },
     "execution_count": 3,
     "metadata": {},
     "output_type": "execute_result"
    }
   ],
   "source": [
    "my_file=\"flag.data\"\n",
    "\n",
    "flag=pd.read_csv(my_file, sep=',', decimal='.', header = None, \\\n",
    "                      names=['name', 'landmass', 'zone', 'area', 'population', 'language', 'religion',\n",
    "                             'bars', 'stripes', 'colours', 'red','green', 'blue', 'gold', 'white',\n",
    "                             'black', 'orange', 'mainhue', 'circles', 'crosses', 'saltires', 'quarters',\n",
    "                             'sunstars', 'crescent', 'triangle', 'icon', 'animate', 'text', 'topleft', 'botright'])\n",
    "flag.head(60)"
   ]
  },
  {
   "cell_type": "code",
   "execution_count": 4,
   "id": "3ab59176",
   "metadata": {},
   "outputs": [
    {
     "data": {
      "text/html": [
       "<div>\n",
       "<style scoped>\n",
       "    .dataframe tbody tr th:only-of-type {\n",
       "        vertical-align: middle;\n",
       "    }\n",
       "\n",
       "    .dataframe tbody tr th {\n",
       "        vertical-align: top;\n",
       "    }\n",
       "\n",
       "    .dataframe thead th {\n",
       "        text-align: right;\n",
       "    }\n",
       "</style>\n",
       "<table border=\"1\" class=\"dataframe\">\n",
       "  <thead>\n",
       "    <tr style=\"text-align: right;\">\n",
       "      <th></th>\n",
       "      <th>name</th>\n",
       "      <th>landmass</th>\n",
       "      <th>zone</th>\n",
       "      <th>area</th>\n",
       "      <th>population</th>\n",
       "      <th>language</th>\n",
       "      <th>religion</th>\n",
       "      <th>bars</th>\n",
       "      <th>stripes</th>\n",
       "      <th>colours</th>\n",
       "      <th>...</th>\n",
       "      <th>saltires</th>\n",
       "      <th>quarters</th>\n",
       "      <th>sunstars</th>\n",
       "      <th>crescent</th>\n",
       "      <th>triangle</th>\n",
       "      <th>icon</th>\n",
       "      <th>animate</th>\n",
       "      <th>text</th>\n",
       "      <th>topleft</th>\n",
       "      <th>botright</th>\n",
       "    </tr>\n",
       "  </thead>\n",
       "  <tbody>\n",
       "    <tr>\n",
       "      <th>134</th>\n",
       "      <td>Papua-New-Guinea</td>\n",
       "      <td>6</td>\n",
       "      <td>2</td>\n",
       "      <td>463</td>\n",
       "      <td>3</td>\n",
       "      <td>1</td>\n",
       "      <td>5</td>\n",
       "      <td>0</td>\n",
       "      <td>0</td>\n",
       "      <td>4</td>\n",
       "      <td>...</td>\n",
       "      <td>0</td>\n",
       "      <td>0</td>\n",
       "      <td>5</td>\n",
       "      <td>0</td>\n",
       "      <td>1</td>\n",
       "      <td>0</td>\n",
       "      <td>1</td>\n",
       "      <td>0</td>\n",
       "      <td>red</td>\n",
       "      <td>black</td>\n",
       "    </tr>\n",
       "    <tr>\n",
       "      <th>135</th>\n",
       "      <td>Parguay</td>\n",
       "      <td>2</td>\n",
       "      <td>3</td>\n",
       "      <td>407</td>\n",
       "      <td>3</td>\n",
       "      <td>2</td>\n",
       "      <td>0</td>\n",
       "      <td>0</td>\n",
       "      <td>3</td>\n",
       "      <td>6</td>\n",
       "      <td>...</td>\n",
       "      <td>0</td>\n",
       "      <td>0</td>\n",
       "      <td>1</td>\n",
       "      <td>0</td>\n",
       "      <td>0</td>\n",
       "      <td>1</td>\n",
       "      <td>1</td>\n",
       "      <td>1</td>\n",
       "      <td>red</td>\n",
       "      <td>blue</td>\n",
       "    </tr>\n",
       "    <tr>\n",
       "      <th>136</th>\n",
       "      <td>Peru</td>\n",
       "      <td>2</td>\n",
       "      <td>3</td>\n",
       "      <td>1285</td>\n",
       "      <td>14</td>\n",
       "      <td>2</td>\n",
       "      <td>0</td>\n",
       "      <td>3</td>\n",
       "      <td>0</td>\n",
       "      <td>2</td>\n",
       "      <td>...</td>\n",
       "      <td>0</td>\n",
       "      <td>0</td>\n",
       "      <td>0</td>\n",
       "      <td>0</td>\n",
       "      <td>0</td>\n",
       "      <td>0</td>\n",
       "      <td>0</td>\n",
       "      <td>0</td>\n",
       "      <td>red</td>\n",
       "      <td>red</td>\n",
       "    </tr>\n",
       "    <tr>\n",
       "      <th>137</th>\n",
       "      <td>Philippines</td>\n",
       "      <td>6</td>\n",
       "      <td>1</td>\n",
       "      <td>300</td>\n",
       "      <td>48</td>\n",
       "      <td>10</td>\n",
       "      <td>0</td>\n",
       "      <td>0</td>\n",
       "      <td>0</td>\n",
       "      <td>4</td>\n",
       "      <td>...</td>\n",
       "      <td>0</td>\n",
       "      <td>0</td>\n",
       "      <td>4</td>\n",
       "      <td>0</td>\n",
       "      <td>1</td>\n",
       "      <td>0</td>\n",
       "      <td>0</td>\n",
       "      <td>0</td>\n",
       "      <td>blue</td>\n",
       "      <td>red</td>\n",
       "    </tr>\n",
       "    <tr>\n",
       "      <th>138</th>\n",
       "      <td>Poland</td>\n",
       "      <td>3</td>\n",
       "      <td>1</td>\n",
       "      <td>313</td>\n",
       "      <td>36</td>\n",
       "      <td>5</td>\n",
       "      <td>6</td>\n",
       "      <td>0</td>\n",
       "      <td>2</td>\n",
       "      <td>2</td>\n",
       "      <td>...</td>\n",
       "      <td>0</td>\n",
       "      <td>0</td>\n",
       "      <td>0</td>\n",
       "      <td>0</td>\n",
       "      <td>0</td>\n",
       "      <td>0</td>\n",
       "      <td>0</td>\n",
       "      <td>0</td>\n",
       "      <td>white</td>\n",
       "      <td>red</td>\n",
       "    </tr>\n",
       "    <tr>\n",
       "      <th>139</th>\n",
       "      <td>Portugal</td>\n",
       "      <td>3</td>\n",
       "      <td>4</td>\n",
       "      <td>92</td>\n",
       "      <td>10</td>\n",
       "      <td>6</td>\n",
       "      <td>0</td>\n",
       "      <td>0</td>\n",
       "      <td>0</td>\n",
       "      <td>5</td>\n",
       "      <td>...</td>\n",
       "      <td>0</td>\n",
       "      <td>0</td>\n",
       "      <td>0</td>\n",
       "      <td>0</td>\n",
       "      <td>0</td>\n",
       "      <td>1</td>\n",
       "      <td>0</td>\n",
       "      <td>0</td>\n",
       "      <td>green</td>\n",
       "      <td>red</td>\n",
       "    </tr>\n",
       "    <tr>\n",
       "      <th>140</th>\n",
       "      <td>Puerto-Rico</td>\n",
       "      <td>1</td>\n",
       "      <td>4</td>\n",
       "      <td>9</td>\n",
       "      <td>3</td>\n",
       "      <td>2</td>\n",
       "      <td>0</td>\n",
       "      <td>0</td>\n",
       "      <td>5</td>\n",
       "      <td>3</td>\n",
       "      <td>...</td>\n",
       "      <td>0</td>\n",
       "      <td>0</td>\n",
       "      <td>1</td>\n",
       "      <td>0</td>\n",
       "      <td>1</td>\n",
       "      <td>0</td>\n",
       "      <td>0</td>\n",
       "      <td>0</td>\n",
       "      <td>red</td>\n",
       "      <td>red</td>\n",
       "    </tr>\n",
       "    <tr>\n",
       "      <th>141</th>\n",
       "      <td>Qatar</td>\n",
       "      <td>5</td>\n",
       "      <td>1</td>\n",
       "      <td>11</td>\n",
       "      <td>0</td>\n",
       "      <td>8</td>\n",
       "      <td>2</td>\n",
       "      <td>0</td>\n",
       "      <td>0</td>\n",
       "      <td>2</td>\n",
       "      <td>...</td>\n",
       "      <td>0</td>\n",
       "      <td>0</td>\n",
       "      <td>0</td>\n",
       "      <td>0</td>\n",
       "      <td>0</td>\n",
       "      <td>0</td>\n",
       "      <td>0</td>\n",
       "      <td>0</td>\n",
       "      <td>white</td>\n",
       "      <td>brown</td>\n",
       "    </tr>\n",
       "    <tr>\n",
       "      <th>142</th>\n",
       "      <td>Romania</td>\n",
       "      <td>3</td>\n",
       "      <td>1</td>\n",
       "      <td>237</td>\n",
       "      <td>22</td>\n",
       "      <td>6</td>\n",
       "      <td>6</td>\n",
       "      <td>3</td>\n",
       "      <td>0</td>\n",
       "      <td>7</td>\n",
       "      <td>...</td>\n",
       "      <td>0</td>\n",
       "      <td>0</td>\n",
       "      <td>2</td>\n",
       "      <td>0</td>\n",
       "      <td>0</td>\n",
       "      <td>1</td>\n",
       "      <td>1</td>\n",
       "      <td>1</td>\n",
       "      <td>blue</td>\n",
       "      <td>red</td>\n",
       "    </tr>\n",
       "    <tr>\n",
       "      <th>143</th>\n",
       "      <td>Rwanda</td>\n",
       "      <td>4</td>\n",
       "      <td>2</td>\n",
       "      <td>26</td>\n",
       "      <td>5</td>\n",
       "      <td>10</td>\n",
       "      <td>5</td>\n",
       "      <td>3</td>\n",
       "      <td>0</td>\n",
       "      <td>4</td>\n",
       "      <td>...</td>\n",
       "      <td>0</td>\n",
       "      <td>0</td>\n",
       "      <td>0</td>\n",
       "      <td>0</td>\n",
       "      <td>0</td>\n",
       "      <td>0</td>\n",
       "      <td>0</td>\n",
       "      <td>1</td>\n",
       "      <td>red</td>\n",
       "      <td>green</td>\n",
       "    </tr>\n",
       "    <tr>\n",
       "      <th>144</th>\n",
       "      <td>San-Marino</td>\n",
       "      <td>3</td>\n",
       "      <td>1</td>\n",
       "      <td>0</td>\n",
       "      <td>0</td>\n",
       "      <td>6</td>\n",
       "      <td>0</td>\n",
       "      <td>0</td>\n",
       "      <td>2</td>\n",
       "      <td>2</td>\n",
       "      <td>...</td>\n",
       "      <td>0</td>\n",
       "      <td>0</td>\n",
       "      <td>0</td>\n",
       "      <td>0</td>\n",
       "      <td>0</td>\n",
       "      <td>0</td>\n",
       "      <td>0</td>\n",
       "      <td>0</td>\n",
       "      <td>white</td>\n",
       "      <td>blue</td>\n",
       "    </tr>\n",
       "    <tr>\n",
       "      <th>145</th>\n",
       "      <td>Sao-Tome</td>\n",
       "      <td>4</td>\n",
       "      <td>1</td>\n",
       "      <td>0</td>\n",
       "      <td>0</td>\n",
       "      <td>6</td>\n",
       "      <td>0</td>\n",
       "      <td>0</td>\n",
       "      <td>3</td>\n",
       "      <td>4</td>\n",
       "      <td>...</td>\n",
       "      <td>0</td>\n",
       "      <td>0</td>\n",
       "      <td>2</td>\n",
       "      <td>0</td>\n",
       "      <td>1</td>\n",
       "      <td>0</td>\n",
       "      <td>0</td>\n",
       "      <td>0</td>\n",
       "      <td>green</td>\n",
       "      <td>green</td>\n",
       "    </tr>\n",
       "    <tr>\n",
       "      <th>146</th>\n",
       "      <td>Saudi-Arabia</td>\n",
       "      <td>5</td>\n",
       "      <td>1</td>\n",
       "      <td>2150</td>\n",
       "      <td>9</td>\n",
       "      <td>8</td>\n",
       "      <td>2</td>\n",
       "      <td>0</td>\n",
       "      <td>0</td>\n",
       "      <td>2</td>\n",
       "      <td>...</td>\n",
       "      <td>0</td>\n",
       "      <td>0</td>\n",
       "      <td>0</td>\n",
       "      <td>0</td>\n",
       "      <td>0</td>\n",
       "      <td>1</td>\n",
       "      <td>0</td>\n",
       "      <td>1</td>\n",
       "      <td>green</td>\n",
       "      <td>green</td>\n",
       "    </tr>\n",
       "    <tr>\n",
       "      <th>147</th>\n",
       "      <td>Senegal</td>\n",
       "      <td>4</td>\n",
       "      <td>4</td>\n",
       "      <td>196</td>\n",
       "      <td>6</td>\n",
       "      <td>3</td>\n",
       "      <td>2</td>\n",
       "      <td>3</td>\n",
       "      <td>0</td>\n",
       "      <td>3</td>\n",
       "      <td>...</td>\n",
       "      <td>0</td>\n",
       "      <td>0</td>\n",
       "      <td>1</td>\n",
       "      <td>0</td>\n",
       "      <td>0</td>\n",
       "      <td>0</td>\n",
       "      <td>0</td>\n",
       "      <td>0</td>\n",
       "      <td>green</td>\n",
       "      <td>red</td>\n",
       "    </tr>\n",
       "    <tr>\n",
       "      <th>148</th>\n",
       "      <td>Seychelles</td>\n",
       "      <td>4</td>\n",
       "      <td>2</td>\n",
       "      <td>0</td>\n",
       "      <td>0</td>\n",
       "      <td>1</td>\n",
       "      <td>1</td>\n",
       "      <td>0</td>\n",
       "      <td>0</td>\n",
       "      <td>3</td>\n",
       "      <td>...</td>\n",
       "      <td>0</td>\n",
       "      <td>0</td>\n",
       "      <td>0</td>\n",
       "      <td>0</td>\n",
       "      <td>0</td>\n",
       "      <td>0</td>\n",
       "      <td>0</td>\n",
       "      <td>0</td>\n",
       "      <td>red</td>\n",
       "      <td>green</td>\n",
       "    </tr>\n",
       "    <tr>\n",
       "      <th>149</th>\n",
       "      <td>Sierra-Leone</td>\n",
       "      <td>4</td>\n",
       "      <td>4</td>\n",
       "      <td>72</td>\n",
       "      <td>3</td>\n",
       "      <td>1</td>\n",
       "      <td>5</td>\n",
       "      <td>0</td>\n",
       "      <td>3</td>\n",
       "      <td>3</td>\n",
       "      <td>...</td>\n",
       "      <td>0</td>\n",
       "      <td>0</td>\n",
       "      <td>0</td>\n",
       "      <td>0</td>\n",
       "      <td>0</td>\n",
       "      <td>0</td>\n",
       "      <td>0</td>\n",
       "      <td>0</td>\n",
       "      <td>green</td>\n",
       "      <td>blue</td>\n",
       "    </tr>\n",
       "    <tr>\n",
       "      <th>150</th>\n",
       "      <td>Singapore</td>\n",
       "      <td>5</td>\n",
       "      <td>1</td>\n",
       "      <td>1</td>\n",
       "      <td>3</td>\n",
       "      <td>7</td>\n",
       "      <td>3</td>\n",
       "      <td>0</td>\n",
       "      <td>2</td>\n",
       "      <td>2</td>\n",
       "      <td>...</td>\n",
       "      <td>0</td>\n",
       "      <td>0</td>\n",
       "      <td>5</td>\n",
       "      <td>1</td>\n",
       "      <td>0</td>\n",
       "      <td>0</td>\n",
       "      <td>0</td>\n",
       "      <td>0</td>\n",
       "      <td>red</td>\n",
       "      <td>white</td>\n",
       "    </tr>\n",
       "    <tr>\n",
       "      <th>151</th>\n",
       "      <td>Soloman-Islands</td>\n",
       "      <td>6</td>\n",
       "      <td>2</td>\n",
       "      <td>30</td>\n",
       "      <td>0</td>\n",
       "      <td>1</td>\n",
       "      <td>1</td>\n",
       "      <td>0</td>\n",
       "      <td>0</td>\n",
       "      <td>4</td>\n",
       "      <td>...</td>\n",
       "      <td>0</td>\n",
       "      <td>0</td>\n",
       "      <td>5</td>\n",
       "      <td>0</td>\n",
       "      <td>1</td>\n",
       "      <td>0</td>\n",
       "      <td>0</td>\n",
       "      <td>0</td>\n",
       "      <td>blue</td>\n",
       "      <td>green</td>\n",
       "    </tr>\n",
       "    <tr>\n",
       "      <th>152</th>\n",
       "      <td>Somalia</td>\n",
       "      <td>4</td>\n",
       "      <td>1</td>\n",
       "      <td>637</td>\n",
       "      <td>5</td>\n",
       "      <td>10</td>\n",
       "      <td>2</td>\n",
       "      <td>0</td>\n",
       "      <td>0</td>\n",
       "      <td>2</td>\n",
       "      <td>...</td>\n",
       "      <td>0</td>\n",
       "      <td>0</td>\n",
       "      <td>1</td>\n",
       "      <td>0</td>\n",
       "      <td>0</td>\n",
       "      <td>0</td>\n",
       "      <td>0</td>\n",
       "      <td>0</td>\n",
       "      <td>blue</td>\n",
       "      <td>blue</td>\n",
       "    </tr>\n",
       "    <tr>\n",
       "      <th>153</th>\n",
       "      <td>South-Africa</td>\n",
       "      <td>4</td>\n",
       "      <td>2</td>\n",
       "      <td>1221</td>\n",
       "      <td>29</td>\n",
       "      <td>6</td>\n",
       "      <td>1</td>\n",
       "      <td>0</td>\n",
       "      <td>3</td>\n",
       "      <td>5</td>\n",
       "      <td>...</td>\n",
       "      <td>1</td>\n",
       "      <td>0</td>\n",
       "      <td>0</td>\n",
       "      <td>0</td>\n",
       "      <td>0</td>\n",
       "      <td>0</td>\n",
       "      <td>0</td>\n",
       "      <td>0</td>\n",
       "      <td>orange</td>\n",
       "      <td>blue</td>\n",
       "    </tr>\n",
       "    <tr>\n",
       "      <th>154</th>\n",
       "      <td>South-Korea</td>\n",
       "      <td>5</td>\n",
       "      <td>1</td>\n",
       "      <td>99</td>\n",
       "      <td>39</td>\n",
       "      <td>10</td>\n",
       "      <td>7</td>\n",
       "      <td>0</td>\n",
       "      <td>0</td>\n",
       "      <td>4</td>\n",
       "      <td>...</td>\n",
       "      <td>0</td>\n",
       "      <td>0</td>\n",
       "      <td>0</td>\n",
       "      <td>0</td>\n",
       "      <td>0</td>\n",
       "      <td>1</td>\n",
       "      <td>0</td>\n",
       "      <td>0</td>\n",
       "      <td>white</td>\n",
       "      <td>white</td>\n",
       "    </tr>\n",
       "    <tr>\n",
       "      <th>155</th>\n",
       "      <td>South-Yemen</td>\n",
       "      <td>5</td>\n",
       "      <td>1</td>\n",
       "      <td>288</td>\n",
       "      <td>2</td>\n",
       "      <td>8</td>\n",
       "      <td>2</td>\n",
       "      <td>0</td>\n",
       "      <td>3</td>\n",
       "      <td>4</td>\n",
       "      <td>...</td>\n",
       "      <td>0</td>\n",
       "      <td>0</td>\n",
       "      <td>1</td>\n",
       "      <td>0</td>\n",
       "      <td>1</td>\n",
       "      <td>0</td>\n",
       "      <td>0</td>\n",
       "      <td>0</td>\n",
       "      <td>red</td>\n",
       "      <td>black</td>\n",
       "    </tr>\n",
       "    <tr>\n",
       "      <th>156</th>\n",
       "      <td>Spain</td>\n",
       "      <td>3</td>\n",
       "      <td>4</td>\n",
       "      <td>505</td>\n",
       "      <td>38</td>\n",
       "      <td>2</td>\n",
       "      <td>0</td>\n",
       "      <td>0</td>\n",
       "      <td>3</td>\n",
       "      <td>2</td>\n",
       "      <td>...</td>\n",
       "      <td>0</td>\n",
       "      <td>0</td>\n",
       "      <td>0</td>\n",
       "      <td>0</td>\n",
       "      <td>0</td>\n",
       "      <td>0</td>\n",
       "      <td>0</td>\n",
       "      <td>0</td>\n",
       "      <td>red</td>\n",
       "      <td>red</td>\n",
       "    </tr>\n",
       "    <tr>\n",
       "      <th>157</th>\n",
       "      <td>Sri-Lanka</td>\n",
       "      <td>5</td>\n",
       "      <td>1</td>\n",
       "      <td>66</td>\n",
       "      <td>15</td>\n",
       "      <td>10</td>\n",
       "      <td>3</td>\n",
       "      <td>2</td>\n",
       "      <td>0</td>\n",
       "      <td>4</td>\n",
       "      <td>...</td>\n",
       "      <td>0</td>\n",
       "      <td>0</td>\n",
       "      <td>0</td>\n",
       "      <td>0</td>\n",
       "      <td>0</td>\n",
       "      <td>1</td>\n",
       "      <td>1</td>\n",
       "      <td>0</td>\n",
       "      <td>gold</td>\n",
       "      <td>gold</td>\n",
       "    </tr>\n",
       "    <tr>\n",
       "      <th>158</th>\n",
       "      <td>St-Helena</td>\n",
       "      <td>4</td>\n",
       "      <td>3</td>\n",
       "      <td>0</td>\n",
       "      <td>0</td>\n",
       "      <td>1</td>\n",
       "      <td>1</td>\n",
       "      <td>0</td>\n",
       "      <td>0</td>\n",
       "      <td>7</td>\n",
       "      <td>...</td>\n",
       "      <td>1</td>\n",
       "      <td>1</td>\n",
       "      <td>0</td>\n",
       "      <td>0</td>\n",
       "      <td>0</td>\n",
       "      <td>1</td>\n",
       "      <td>0</td>\n",
       "      <td>0</td>\n",
       "      <td>white</td>\n",
       "      <td>blue</td>\n",
       "    </tr>\n",
       "    <tr>\n",
       "      <th>159</th>\n",
       "      <td>St-Kitts-Nevis</td>\n",
       "      <td>1</td>\n",
       "      <td>4</td>\n",
       "      <td>0</td>\n",
       "      <td>0</td>\n",
       "      <td>1</td>\n",
       "      <td>1</td>\n",
       "      <td>0</td>\n",
       "      <td>0</td>\n",
       "      <td>5</td>\n",
       "      <td>...</td>\n",
       "      <td>0</td>\n",
       "      <td>0</td>\n",
       "      <td>2</td>\n",
       "      <td>0</td>\n",
       "      <td>1</td>\n",
       "      <td>0</td>\n",
       "      <td>0</td>\n",
       "      <td>0</td>\n",
       "      <td>green</td>\n",
       "      <td>red</td>\n",
       "    </tr>\n",
       "    <tr>\n",
       "      <th>160</th>\n",
       "      <td>St-Lucia</td>\n",
       "      <td>1</td>\n",
       "      <td>4</td>\n",
       "      <td>0</td>\n",
       "      <td>0</td>\n",
       "      <td>1</td>\n",
       "      <td>1</td>\n",
       "      <td>0</td>\n",
       "      <td>0</td>\n",
       "      <td>4</td>\n",
       "      <td>...</td>\n",
       "      <td>0</td>\n",
       "      <td>0</td>\n",
       "      <td>0</td>\n",
       "      <td>0</td>\n",
       "      <td>1</td>\n",
       "      <td>0</td>\n",
       "      <td>0</td>\n",
       "      <td>0</td>\n",
       "      <td>blue</td>\n",
       "      <td>blue</td>\n",
       "    </tr>\n",
       "    <tr>\n",
       "      <th>161</th>\n",
       "      <td>St-Vincent</td>\n",
       "      <td>1</td>\n",
       "      <td>4</td>\n",
       "      <td>0</td>\n",
       "      <td>0</td>\n",
       "      <td>1</td>\n",
       "      <td>1</td>\n",
       "      <td>5</td>\n",
       "      <td>0</td>\n",
       "      <td>4</td>\n",
       "      <td>...</td>\n",
       "      <td>0</td>\n",
       "      <td>0</td>\n",
       "      <td>0</td>\n",
       "      <td>0</td>\n",
       "      <td>0</td>\n",
       "      <td>1</td>\n",
       "      <td>1</td>\n",
       "      <td>1</td>\n",
       "      <td>blue</td>\n",
       "      <td>green</td>\n",
       "    </tr>\n",
       "    <tr>\n",
       "      <th>162</th>\n",
       "      <td>Sudan</td>\n",
       "      <td>4</td>\n",
       "      <td>1</td>\n",
       "      <td>2506</td>\n",
       "      <td>20</td>\n",
       "      <td>8</td>\n",
       "      <td>2</td>\n",
       "      <td>0</td>\n",
       "      <td>3</td>\n",
       "      <td>4</td>\n",
       "      <td>...</td>\n",
       "      <td>0</td>\n",
       "      <td>0</td>\n",
       "      <td>0</td>\n",
       "      <td>0</td>\n",
       "      <td>1</td>\n",
       "      <td>0</td>\n",
       "      <td>0</td>\n",
       "      <td>0</td>\n",
       "      <td>red</td>\n",
       "      <td>black</td>\n",
       "    </tr>\n",
       "    <tr>\n",
       "      <th>163</th>\n",
       "      <td>Surinam</td>\n",
       "      <td>2</td>\n",
       "      <td>4</td>\n",
       "      <td>63</td>\n",
       "      <td>0</td>\n",
       "      <td>6</td>\n",
       "      <td>1</td>\n",
       "      <td>0</td>\n",
       "      <td>5</td>\n",
       "      <td>4</td>\n",
       "      <td>...</td>\n",
       "      <td>0</td>\n",
       "      <td>0</td>\n",
       "      <td>1</td>\n",
       "      <td>0</td>\n",
       "      <td>0</td>\n",
       "      <td>0</td>\n",
       "      <td>0</td>\n",
       "      <td>0</td>\n",
       "      <td>green</td>\n",
       "      <td>green</td>\n",
       "    </tr>\n",
       "    <tr>\n",
       "      <th>164</th>\n",
       "      <td>Swaziland</td>\n",
       "      <td>4</td>\n",
       "      <td>2</td>\n",
       "      <td>17</td>\n",
       "      <td>1</td>\n",
       "      <td>10</td>\n",
       "      <td>1</td>\n",
       "      <td>0</td>\n",
       "      <td>5</td>\n",
       "      <td>7</td>\n",
       "      <td>...</td>\n",
       "      <td>0</td>\n",
       "      <td>0</td>\n",
       "      <td>0</td>\n",
       "      <td>0</td>\n",
       "      <td>0</td>\n",
       "      <td>1</td>\n",
       "      <td>0</td>\n",
       "      <td>0</td>\n",
       "      <td>blue</td>\n",
       "      <td>blue</td>\n",
       "    </tr>\n",
       "    <tr>\n",
       "      <th>165</th>\n",
       "      <td>Sweden</td>\n",
       "      <td>3</td>\n",
       "      <td>1</td>\n",
       "      <td>450</td>\n",
       "      <td>8</td>\n",
       "      <td>6</td>\n",
       "      <td>1</td>\n",
       "      <td>0</td>\n",
       "      <td>0</td>\n",
       "      <td>2</td>\n",
       "      <td>...</td>\n",
       "      <td>0</td>\n",
       "      <td>0</td>\n",
       "      <td>0</td>\n",
       "      <td>0</td>\n",
       "      <td>0</td>\n",
       "      <td>0</td>\n",
       "      <td>0</td>\n",
       "      <td>0</td>\n",
       "      <td>blue</td>\n",
       "      <td>blue</td>\n",
       "    </tr>\n",
       "    <tr>\n",
       "      <th>166</th>\n",
       "      <td>Switzerland</td>\n",
       "      <td>3</td>\n",
       "      <td>1</td>\n",
       "      <td>41</td>\n",
       "      <td>6</td>\n",
       "      <td>4</td>\n",
       "      <td>1</td>\n",
       "      <td>0</td>\n",
       "      <td>0</td>\n",
       "      <td>2</td>\n",
       "      <td>...</td>\n",
       "      <td>0</td>\n",
       "      <td>0</td>\n",
       "      <td>0</td>\n",
       "      <td>0</td>\n",
       "      <td>0</td>\n",
       "      <td>0</td>\n",
       "      <td>0</td>\n",
       "      <td>0</td>\n",
       "      <td>red</td>\n",
       "      <td>red</td>\n",
       "    </tr>\n",
       "    <tr>\n",
       "      <th>167</th>\n",
       "      <td>Syria</td>\n",
       "      <td>5</td>\n",
       "      <td>1</td>\n",
       "      <td>185</td>\n",
       "      <td>10</td>\n",
       "      <td>8</td>\n",
       "      <td>2</td>\n",
       "      <td>0</td>\n",
       "      <td>3</td>\n",
       "      <td>4</td>\n",
       "      <td>...</td>\n",
       "      <td>0</td>\n",
       "      <td>0</td>\n",
       "      <td>2</td>\n",
       "      <td>0</td>\n",
       "      <td>0</td>\n",
       "      <td>0</td>\n",
       "      <td>0</td>\n",
       "      <td>0</td>\n",
       "      <td>red</td>\n",
       "      <td>black</td>\n",
       "    </tr>\n",
       "    <tr>\n",
       "      <th>168</th>\n",
       "      <td>Taiwan</td>\n",
       "      <td>5</td>\n",
       "      <td>1</td>\n",
       "      <td>36</td>\n",
       "      <td>18</td>\n",
       "      <td>7</td>\n",
       "      <td>3</td>\n",
       "      <td>0</td>\n",
       "      <td>0</td>\n",
       "      <td>3</td>\n",
       "      <td>...</td>\n",
       "      <td>0</td>\n",
       "      <td>1</td>\n",
       "      <td>1</td>\n",
       "      <td>0</td>\n",
       "      <td>0</td>\n",
       "      <td>0</td>\n",
       "      <td>0</td>\n",
       "      <td>0</td>\n",
       "      <td>blue</td>\n",
       "      <td>red</td>\n",
       "    </tr>\n",
       "    <tr>\n",
       "      <th>169</th>\n",
       "      <td>Tanzania</td>\n",
       "      <td>4</td>\n",
       "      <td>2</td>\n",
       "      <td>945</td>\n",
       "      <td>18</td>\n",
       "      <td>10</td>\n",
       "      <td>5</td>\n",
       "      <td>0</td>\n",
       "      <td>0</td>\n",
       "      <td>4</td>\n",
       "      <td>...</td>\n",
       "      <td>0</td>\n",
       "      <td>0</td>\n",
       "      <td>0</td>\n",
       "      <td>0</td>\n",
       "      <td>1</td>\n",
       "      <td>0</td>\n",
       "      <td>0</td>\n",
       "      <td>0</td>\n",
       "      <td>green</td>\n",
       "      <td>blue</td>\n",
       "    </tr>\n",
       "    <tr>\n",
       "      <th>170</th>\n",
       "      <td>Thailand</td>\n",
       "      <td>5</td>\n",
       "      <td>1</td>\n",
       "      <td>514</td>\n",
       "      <td>49</td>\n",
       "      <td>10</td>\n",
       "      <td>3</td>\n",
       "      <td>0</td>\n",
       "      <td>5</td>\n",
       "      <td>3</td>\n",
       "      <td>...</td>\n",
       "      <td>0</td>\n",
       "      <td>0</td>\n",
       "      <td>0</td>\n",
       "      <td>0</td>\n",
       "      <td>0</td>\n",
       "      <td>0</td>\n",
       "      <td>0</td>\n",
       "      <td>0</td>\n",
       "      <td>red</td>\n",
       "      <td>red</td>\n",
       "    </tr>\n",
       "    <tr>\n",
       "      <th>171</th>\n",
       "      <td>Togo</td>\n",
       "      <td>4</td>\n",
       "      <td>1</td>\n",
       "      <td>57</td>\n",
       "      <td>2</td>\n",
       "      <td>3</td>\n",
       "      <td>7</td>\n",
       "      <td>0</td>\n",
       "      <td>5</td>\n",
       "      <td>4</td>\n",
       "      <td>...</td>\n",
       "      <td>0</td>\n",
       "      <td>1</td>\n",
       "      <td>1</td>\n",
       "      <td>0</td>\n",
       "      <td>0</td>\n",
       "      <td>0</td>\n",
       "      <td>0</td>\n",
       "      <td>0</td>\n",
       "      <td>red</td>\n",
       "      <td>green</td>\n",
       "    </tr>\n",
       "    <tr>\n",
       "      <th>172</th>\n",
       "      <td>Tonga</td>\n",
       "      <td>6</td>\n",
       "      <td>2</td>\n",
       "      <td>1</td>\n",
       "      <td>0</td>\n",
       "      <td>10</td>\n",
       "      <td>1</td>\n",
       "      <td>0</td>\n",
       "      <td>0</td>\n",
       "      <td>2</td>\n",
       "      <td>...</td>\n",
       "      <td>0</td>\n",
       "      <td>1</td>\n",
       "      <td>0</td>\n",
       "      <td>0</td>\n",
       "      <td>0</td>\n",
       "      <td>0</td>\n",
       "      <td>0</td>\n",
       "      <td>0</td>\n",
       "      <td>white</td>\n",
       "      <td>red</td>\n",
       "    </tr>\n",
       "    <tr>\n",
       "      <th>173</th>\n",
       "      <td>Trinidad-Tobago</td>\n",
       "      <td>2</td>\n",
       "      <td>4</td>\n",
       "      <td>5</td>\n",
       "      <td>1</td>\n",
       "      <td>1</td>\n",
       "      <td>1</td>\n",
       "      <td>0</td>\n",
       "      <td>0</td>\n",
       "      <td>3</td>\n",
       "      <td>...</td>\n",
       "      <td>0</td>\n",
       "      <td>0</td>\n",
       "      <td>0</td>\n",
       "      <td>0</td>\n",
       "      <td>1</td>\n",
       "      <td>0</td>\n",
       "      <td>0</td>\n",
       "      <td>0</td>\n",
       "      <td>white</td>\n",
       "      <td>white</td>\n",
       "    </tr>\n",
       "    <tr>\n",
       "      <th>174</th>\n",
       "      <td>Tunisia</td>\n",
       "      <td>4</td>\n",
       "      <td>1</td>\n",
       "      <td>164</td>\n",
       "      <td>7</td>\n",
       "      <td>8</td>\n",
       "      <td>2</td>\n",
       "      <td>0</td>\n",
       "      <td>0</td>\n",
       "      <td>2</td>\n",
       "      <td>...</td>\n",
       "      <td>0</td>\n",
       "      <td>0</td>\n",
       "      <td>1</td>\n",
       "      <td>1</td>\n",
       "      <td>0</td>\n",
       "      <td>0</td>\n",
       "      <td>0</td>\n",
       "      <td>0</td>\n",
       "      <td>red</td>\n",
       "      <td>red</td>\n",
       "    </tr>\n",
       "    <tr>\n",
       "      <th>175</th>\n",
       "      <td>Turkey</td>\n",
       "      <td>5</td>\n",
       "      <td>1</td>\n",
       "      <td>781</td>\n",
       "      <td>45</td>\n",
       "      <td>9</td>\n",
       "      <td>2</td>\n",
       "      <td>0</td>\n",
       "      <td>0</td>\n",
       "      <td>2</td>\n",
       "      <td>...</td>\n",
       "      <td>0</td>\n",
       "      <td>0</td>\n",
       "      <td>1</td>\n",
       "      <td>1</td>\n",
       "      <td>0</td>\n",
       "      <td>0</td>\n",
       "      <td>0</td>\n",
       "      <td>0</td>\n",
       "      <td>red</td>\n",
       "      <td>red</td>\n",
       "    </tr>\n",
       "    <tr>\n",
       "      <th>176</th>\n",
       "      <td>Turks-Cocos-Islands</td>\n",
       "      <td>1</td>\n",
       "      <td>4</td>\n",
       "      <td>0</td>\n",
       "      <td>0</td>\n",
       "      <td>1</td>\n",
       "      <td>1</td>\n",
       "      <td>0</td>\n",
       "      <td>0</td>\n",
       "      <td>6</td>\n",
       "      <td>...</td>\n",
       "      <td>1</td>\n",
       "      <td>1</td>\n",
       "      <td>0</td>\n",
       "      <td>0</td>\n",
       "      <td>0</td>\n",
       "      <td>1</td>\n",
       "      <td>1</td>\n",
       "      <td>0</td>\n",
       "      <td>white</td>\n",
       "      <td>blue</td>\n",
       "    </tr>\n",
       "    <tr>\n",
       "      <th>177</th>\n",
       "      <td>Tuvalu</td>\n",
       "      <td>6</td>\n",
       "      <td>2</td>\n",
       "      <td>0</td>\n",
       "      <td>0</td>\n",
       "      <td>1</td>\n",
       "      <td>1</td>\n",
       "      <td>0</td>\n",
       "      <td>0</td>\n",
       "      <td>5</td>\n",
       "      <td>...</td>\n",
       "      <td>1</td>\n",
       "      <td>1</td>\n",
       "      <td>9</td>\n",
       "      <td>0</td>\n",
       "      <td>0</td>\n",
       "      <td>0</td>\n",
       "      <td>0</td>\n",
       "      <td>0</td>\n",
       "      <td>white</td>\n",
       "      <td>blue</td>\n",
       "    </tr>\n",
       "    <tr>\n",
       "      <th>178</th>\n",
       "      <td>UAE</td>\n",
       "      <td>5</td>\n",
       "      <td>1</td>\n",
       "      <td>84</td>\n",
       "      <td>1</td>\n",
       "      <td>8</td>\n",
       "      <td>2</td>\n",
       "      <td>1</td>\n",
       "      <td>3</td>\n",
       "      <td>4</td>\n",
       "      <td>...</td>\n",
       "      <td>0</td>\n",
       "      <td>0</td>\n",
       "      <td>0</td>\n",
       "      <td>0</td>\n",
       "      <td>0</td>\n",
       "      <td>0</td>\n",
       "      <td>0</td>\n",
       "      <td>0</td>\n",
       "      <td>red</td>\n",
       "      <td>black</td>\n",
       "    </tr>\n",
       "    <tr>\n",
       "      <th>179</th>\n",
       "      <td>Uganda</td>\n",
       "      <td>4</td>\n",
       "      <td>1</td>\n",
       "      <td>236</td>\n",
       "      <td>13</td>\n",
       "      <td>10</td>\n",
       "      <td>5</td>\n",
       "      <td>0</td>\n",
       "      <td>6</td>\n",
       "      <td>5</td>\n",
       "      <td>...</td>\n",
       "      <td>0</td>\n",
       "      <td>0</td>\n",
       "      <td>0</td>\n",
       "      <td>0</td>\n",
       "      <td>0</td>\n",
       "      <td>0</td>\n",
       "      <td>1</td>\n",
       "      <td>0</td>\n",
       "      <td>black</td>\n",
       "      <td>red</td>\n",
       "    </tr>\n",
       "    <tr>\n",
       "      <th>180</th>\n",
       "      <td>UK</td>\n",
       "      <td>3</td>\n",
       "      <td>4</td>\n",
       "      <td>245</td>\n",
       "      <td>56</td>\n",
       "      <td>1</td>\n",
       "      <td>1</td>\n",
       "      <td>0</td>\n",
       "      <td>0</td>\n",
       "      <td>3</td>\n",
       "      <td>...</td>\n",
       "      <td>1</td>\n",
       "      <td>0</td>\n",
       "      <td>0</td>\n",
       "      <td>0</td>\n",
       "      <td>0</td>\n",
       "      <td>0</td>\n",
       "      <td>0</td>\n",
       "      <td>0</td>\n",
       "      <td>white</td>\n",
       "      <td>red</td>\n",
       "    </tr>\n",
       "    <tr>\n",
       "      <th>181</th>\n",
       "      <td>Uruguay</td>\n",
       "      <td>2</td>\n",
       "      <td>3</td>\n",
       "      <td>178</td>\n",
       "      <td>3</td>\n",
       "      <td>2</td>\n",
       "      <td>0</td>\n",
       "      <td>0</td>\n",
       "      <td>9</td>\n",
       "      <td>3</td>\n",
       "      <td>...</td>\n",
       "      <td>0</td>\n",
       "      <td>1</td>\n",
       "      <td>1</td>\n",
       "      <td>0</td>\n",
       "      <td>0</td>\n",
       "      <td>0</td>\n",
       "      <td>0</td>\n",
       "      <td>0</td>\n",
       "      <td>white</td>\n",
       "      <td>white</td>\n",
       "    </tr>\n",
       "    <tr>\n",
       "      <th>182</th>\n",
       "      <td>US-Virgin-Isles</td>\n",
       "      <td>1</td>\n",
       "      <td>4</td>\n",
       "      <td>0</td>\n",
       "      <td>0</td>\n",
       "      <td>1</td>\n",
       "      <td>1</td>\n",
       "      <td>0</td>\n",
       "      <td>0</td>\n",
       "      <td>6</td>\n",
       "      <td>...</td>\n",
       "      <td>0</td>\n",
       "      <td>0</td>\n",
       "      <td>0</td>\n",
       "      <td>0</td>\n",
       "      <td>0</td>\n",
       "      <td>1</td>\n",
       "      <td>1</td>\n",
       "      <td>1</td>\n",
       "      <td>white</td>\n",
       "      <td>white</td>\n",
       "    </tr>\n",
       "    <tr>\n",
       "      <th>183</th>\n",
       "      <td>USA</td>\n",
       "      <td>1</td>\n",
       "      <td>4</td>\n",
       "      <td>9363</td>\n",
       "      <td>231</td>\n",
       "      <td>1</td>\n",
       "      <td>1</td>\n",
       "      <td>0</td>\n",
       "      <td>13</td>\n",
       "      <td>3</td>\n",
       "      <td>...</td>\n",
       "      <td>0</td>\n",
       "      <td>1</td>\n",
       "      <td>50</td>\n",
       "      <td>0</td>\n",
       "      <td>0</td>\n",
       "      <td>0</td>\n",
       "      <td>0</td>\n",
       "      <td>0</td>\n",
       "      <td>blue</td>\n",
       "      <td>red</td>\n",
       "    </tr>\n",
       "    <tr>\n",
       "      <th>184</th>\n",
       "      <td>USSR</td>\n",
       "      <td>5</td>\n",
       "      <td>1</td>\n",
       "      <td>22402</td>\n",
       "      <td>274</td>\n",
       "      <td>5</td>\n",
       "      <td>6</td>\n",
       "      <td>0</td>\n",
       "      <td>0</td>\n",
       "      <td>2</td>\n",
       "      <td>...</td>\n",
       "      <td>0</td>\n",
       "      <td>0</td>\n",
       "      <td>1</td>\n",
       "      <td>0</td>\n",
       "      <td>0</td>\n",
       "      <td>1</td>\n",
       "      <td>0</td>\n",
       "      <td>0</td>\n",
       "      <td>red</td>\n",
       "      <td>red</td>\n",
       "    </tr>\n",
       "    <tr>\n",
       "      <th>185</th>\n",
       "      <td>Vanuatu</td>\n",
       "      <td>6</td>\n",
       "      <td>2</td>\n",
       "      <td>15</td>\n",
       "      <td>0</td>\n",
       "      <td>6</td>\n",
       "      <td>1</td>\n",
       "      <td>0</td>\n",
       "      <td>0</td>\n",
       "      <td>4</td>\n",
       "      <td>...</td>\n",
       "      <td>0</td>\n",
       "      <td>0</td>\n",
       "      <td>0</td>\n",
       "      <td>0</td>\n",
       "      <td>1</td>\n",
       "      <td>0</td>\n",
       "      <td>1</td>\n",
       "      <td>0</td>\n",
       "      <td>black</td>\n",
       "      <td>green</td>\n",
       "    </tr>\n",
       "    <tr>\n",
       "      <th>186</th>\n",
       "      <td>Vatican-City</td>\n",
       "      <td>3</td>\n",
       "      <td>1</td>\n",
       "      <td>0</td>\n",
       "      <td>0</td>\n",
       "      <td>6</td>\n",
       "      <td>0</td>\n",
       "      <td>2</td>\n",
       "      <td>0</td>\n",
       "      <td>4</td>\n",
       "      <td>...</td>\n",
       "      <td>0</td>\n",
       "      <td>0</td>\n",
       "      <td>0</td>\n",
       "      <td>0</td>\n",
       "      <td>0</td>\n",
       "      <td>1</td>\n",
       "      <td>0</td>\n",
       "      <td>0</td>\n",
       "      <td>gold</td>\n",
       "      <td>white</td>\n",
       "    </tr>\n",
       "    <tr>\n",
       "      <th>187</th>\n",
       "      <td>Venezuela</td>\n",
       "      <td>2</td>\n",
       "      <td>4</td>\n",
       "      <td>912</td>\n",
       "      <td>15</td>\n",
       "      <td>2</td>\n",
       "      <td>0</td>\n",
       "      <td>0</td>\n",
       "      <td>3</td>\n",
       "      <td>7</td>\n",
       "      <td>...</td>\n",
       "      <td>0</td>\n",
       "      <td>0</td>\n",
       "      <td>7</td>\n",
       "      <td>0</td>\n",
       "      <td>0</td>\n",
       "      <td>1</td>\n",
       "      <td>1</td>\n",
       "      <td>0</td>\n",
       "      <td>gold</td>\n",
       "      <td>red</td>\n",
       "    </tr>\n",
       "    <tr>\n",
       "      <th>188</th>\n",
       "      <td>Vietnam</td>\n",
       "      <td>5</td>\n",
       "      <td>1</td>\n",
       "      <td>333</td>\n",
       "      <td>60</td>\n",
       "      <td>10</td>\n",
       "      <td>6</td>\n",
       "      <td>0</td>\n",
       "      <td>0</td>\n",
       "      <td>2</td>\n",
       "      <td>...</td>\n",
       "      <td>0</td>\n",
       "      <td>0</td>\n",
       "      <td>1</td>\n",
       "      <td>0</td>\n",
       "      <td>0</td>\n",
       "      <td>0</td>\n",
       "      <td>0</td>\n",
       "      <td>0</td>\n",
       "      <td>red</td>\n",
       "      <td>red</td>\n",
       "    </tr>\n",
       "    <tr>\n",
       "      <th>189</th>\n",
       "      <td>Western-Samoa</td>\n",
       "      <td>6</td>\n",
       "      <td>3</td>\n",
       "      <td>3</td>\n",
       "      <td>0</td>\n",
       "      <td>1</td>\n",
       "      <td>1</td>\n",
       "      <td>0</td>\n",
       "      <td>0</td>\n",
       "      <td>3</td>\n",
       "      <td>...</td>\n",
       "      <td>0</td>\n",
       "      <td>1</td>\n",
       "      <td>5</td>\n",
       "      <td>0</td>\n",
       "      <td>0</td>\n",
       "      <td>0</td>\n",
       "      <td>0</td>\n",
       "      <td>0</td>\n",
       "      <td>blue</td>\n",
       "      <td>red</td>\n",
       "    </tr>\n",
       "    <tr>\n",
       "      <th>190</th>\n",
       "      <td>Yugoslavia</td>\n",
       "      <td>3</td>\n",
       "      <td>1</td>\n",
       "      <td>256</td>\n",
       "      <td>22</td>\n",
       "      <td>6</td>\n",
       "      <td>6</td>\n",
       "      <td>0</td>\n",
       "      <td>3</td>\n",
       "      <td>4</td>\n",
       "      <td>...</td>\n",
       "      <td>0</td>\n",
       "      <td>0</td>\n",
       "      <td>1</td>\n",
       "      <td>0</td>\n",
       "      <td>0</td>\n",
       "      <td>0</td>\n",
       "      <td>0</td>\n",
       "      <td>0</td>\n",
       "      <td>blue</td>\n",
       "      <td>red</td>\n",
       "    </tr>\n",
       "    <tr>\n",
       "      <th>191</th>\n",
       "      <td>Zaire</td>\n",
       "      <td>4</td>\n",
       "      <td>2</td>\n",
       "      <td>905</td>\n",
       "      <td>28</td>\n",
       "      <td>10</td>\n",
       "      <td>5</td>\n",
       "      <td>0</td>\n",
       "      <td>0</td>\n",
       "      <td>4</td>\n",
       "      <td>...</td>\n",
       "      <td>0</td>\n",
       "      <td>0</td>\n",
       "      <td>0</td>\n",
       "      <td>0</td>\n",
       "      <td>0</td>\n",
       "      <td>1</td>\n",
       "      <td>1</td>\n",
       "      <td>0</td>\n",
       "      <td>green</td>\n",
       "      <td>green</td>\n",
       "    </tr>\n",
       "    <tr>\n",
       "      <th>192</th>\n",
       "      <td>Zambia</td>\n",
       "      <td>4</td>\n",
       "      <td>2</td>\n",
       "      <td>753</td>\n",
       "      <td>6</td>\n",
       "      <td>10</td>\n",
       "      <td>5</td>\n",
       "      <td>3</td>\n",
       "      <td>0</td>\n",
       "      <td>4</td>\n",
       "      <td>...</td>\n",
       "      <td>0</td>\n",
       "      <td>0</td>\n",
       "      <td>0</td>\n",
       "      <td>0</td>\n",
       "      <td>0</td>\n",
       "      <td>0</td>\n",
       "      <td>1</td>\n",
       "      <td>0</td>\n",
       "      <td>green</td>\n",
       "      <td>brown</td>\n",
       "    </tr>\n",
       "    <tr>\n",
       "      <th>193</th>\n",
       "      <td>Zimbabwe</td>\n",
       "      <td>4</td>\n",
       "      <td>2</td>\n",
       "      <td>391</td>\n",
       "      <td>8</td>\n",
       "      <td>10</td>\n",
       "      <td>5</td>\n",
       "      <td>0</td>\n",
       "      <td>7</td>\n",
       "      <td>5</td>\n",
       "      <td>...</td>\n",
       "      <td>0</td>\n",
       "      <td>0</td>\n",
       "      <td>1</td>\n",
       "      <td>0</td>\n",
       "      <td>1</td>\n",
       "      <td>1</td>\n",
       "      <td>1</td>\n",
       "      <td>0</td>\n",
       "      <td>green</td>\n",
       "      <td>green</td>\n",
       "    </tr>\n",
       "  </tbody>\n",
       "</table>\n",
       "<p>60 rows × 30 columns</p>\n",
       "</div>"
      ],
      "text/plain": [
       "                    name  landmass  zone   area  population  language  \\\n",
       "134     Papua-New-Guinea         6     2    463           3         1   \n",
       "135              Parguay         2     3    407           3         2   \n",
       "136                 Peru         2     3   1285          14         2   \n",
       "137          Philippines         6     1    300          48        10   \n",
       "138               Poland         3     1    313          36         5   \n",
       "139             Portugal         3     4     92          10         6   \n",
       "140          Puerto-Rico         1     4      9           3         2   \n",
       "141                Qatar         5     1     11           0         8   \n",
       "142              Romania         3     1    237          22         6   \n",
       "143               Rwanda         4     2     26           5        10   \n",
       "144           San-Marino         3     1      0           0         6   \n",
       "145             Sao-Tome         4     1      0           0         6   \n",
       "146         Saudi-Arabia         5     1   2150           9         8   \n",
       "147              Senegal         4     4    196           6         3   \n",
       "148           Seychelles         4     2      0           0         1   \n",
       "149         Sierra-Leone         4     4     72           3         1   \n",
       "150            Singapore         5     1      1           3         7   \n",
       "151      Soloman-Islands         6     2     30           0         1   \n",
       "152              Somalia         4     1    637           5        10   \n",
       "153         South-Africa         4     2   1221          29         6   \n",
       "154          South-Korea         5     1     99          39        10   \n",
       "155          South-Yemen         5     1    288           2         8   \n",
       "156                Spain         3     4    505          38         2   \n",
       "157            Sri-Lanka         5     1     66          15        10   \n",
       "158            St-Helena         4     3      0           0         1   \n",
       "159       St-Kitts-Nevis         1     4      0           0         1   \n",
       "160             St-Lucia         1     4      0           0         1   \n",
       "161           St-Vincent         1     4      0           0         1   \n",
       "162                Sudan         4     1   2506          20         8   \n",
       "163              Surinam         2     4     63           0         6   \n",
       "164            Swaziland         4     2     17           1        10   \n",
       "165               Sweden         3     1    450           8         6   \n",
       "166          Switzerland         3     1     41           6         4   \n",
       "167                Syria         5     1    185          10         8   \n",
       "168               Taiwan         5     1     36          18         7   \n",
       "169             Tanzania         4     2    945          18        10   \n",
       "170             Thailand         5     1    514          49        10   \n",
       "171                 Togo         4     1     57           2         3   \n",
       "172                Tonga         6     2      1           0        10   \n",
       "173      Trinidad-Tobago         2     4      5           1         1   \n",
       "174              Tunisia         4     1    164           7         8   \n",
       "175               Turkey         5     1    781          45         9   \n",
       "176  Turks-Cocos-Islands         1     4      0           0         1   \n",
       "177               Tuvalu         6     2      0           0         1   \n",
       "178                  UAE         5     1     84           1         8   \n",
       "179               Uganda         4     1    236          13        10   \n",
       "180                   UK         3     4    245          56         1   \n",
       "181              Uruguay         2     3    178           3         2   \n",
       "182      US-Virgin-Isles         1     4      0           0         1   \n",
       "183                  USA         1     4   9363         231         1   \n",
       "184                 USSR         5     1  22402         274         5   \n",
       "185              Vanuatu         6     2     15           0         6   \n",
       "186         Vatican-City         3     1      0           0         6   \n",
       "187            Venezuela         2     4    912          15         2   \n",
       "188              Vietnam         5     1    333          60        10   \n",
       "189        Western-Samoa         6     3      3           0         1   \n",
       "190           Yugoslavia         3     1    256          22         6   \n",
       "191                Zaire         4     2    905          28        10   \n",
       "192               Zambia         4     2    753           6        10   \n",
       "193             Zimbabwe         4     2    391           8        10   \n",
       "\n",
       "     religion  bars  stripes  colours  ...  saltires  quarters  sunstars  \\\n",
       "134         5     0        0        4  ...         0         0         5   \n",
       "135         0     0        3        6  ...         0         0         1   \n",
       "136         0     3        0        2  ...         0         0         0   \n",
       "137         0     0        0        4  ...         0         0         4   \n",
       "138         6     0        2        2  ...         0         0         0   \n",
       "139         0     0        0        5  ...         0         0         0   \n",
       "140         0     0        5        3  ...         0         0         1   \n",
       "141         2     0        0        2  ...         0         0         0   \n",
       "142         6     3        0        7  ...         0         0         2   \n",
       "143         5     3        0        4  ...         0         0         0   \n",
       "144         0     0        2        2  ...         0         0         0   \n",
       "145         0     0        3        4  ...         0         0         2   \n",
       "146         2     0        0        2  ...         0         0         0   \n",
       "147         2     3        0        3  ...         0         0         1   \n",
       "148         1     0        0        3  ...         0         0         0   \n",
       "149         5     0        3        3  ...         0         0         0   \n",
       "150         3     0        2        2  ...         0         0         5   \n",
       "151         1     0        0        4  ...         0         0         5   \n",
       "152         2     0        0        2  ...         0         0         1   \n",
       "153         1     0        3        5  ...         1         0         0   \n",
       "154         7     0        0        4  ...         0         0         0   \n",
       "155         2     0        3        4  ...         0         0         1   \n",
       "156         0     0        3        2  ...         0         0         0   \n",
       "157         3     2        0        4  ...         0         0         0   \n",
       "158         1     0        0        7  ...         1         1         0   \n",
       "159         1     0        0        5  ...         0         0         2   \n",
       "160         1     0        0        4  ...         0         0         0   \n",
       "161         1     5        0        4  ...         0         0         0   \n",
       "162         2     0        3        4  ...         0         0         0   \n",
       "163         1     0        5        4  ...         0         0         1   \n",
       "164         1     0        5        7  ...         0         0         0   \n",
       "165         1     0        0        2  ...         0         0         0   \n",
       "166         1     0        0        2  ...         0         0         0   \n",
       "167         2     0        3        4  ...         0         0         2   \n",
       "168         3     0        0        3  ...         0         1         1   \n",
       "169         5     0        0        4  ...         0         0         0   \n",
       "170         3     0        5        3  ...         0         0         0   \n",
       "171         7     0        5        4  ...         0         1         1   \n",
       "172         1     0        0        2  ...         0         1         0   \n",
       "173         1     0        0        3  ...         0         0         0   \n",
       "174         2     0        0        2  ...         0         0         1   \n",
       "175         2     0        0        2  ...         0         0         1   \n",
       "176         1     0        0        6  ...         1         1         0   \n",
       "177         1     0        0        5  ...         1         1         9   \n",
       "178         2     1        3        4  ...         0         0         0   \n",
       "179         5     0        6        5  ...         0         0         0   \n",
       "180         1     0        0        3  ...         1         0         0   \n",
       "181         0     0        9        3  ...         0         1         1   \n",
       "182         1     0        0        6  ...         0         0         0   \n",
       "183         1     0       13        3  ...         0         1        50   \n",
       "184         6     0        0        2  ...         0         0         1   \n",
       "185         1     0        0        4  ...         0         0         0   \n",
       "186         0     2        0        4  ...         0         0         0   \n",
       "187         0     0        3        7  ...         0         0         7   \n",
       "188         6     0        0        2  ...         0         0         1   \n",
       "189         1     0        0        3  ...         0         1         5   \n",
       "190         6     0        3        4  ...         0         0         1   \n",
       "191         5     0        0        4  ...         0         0         0   \n",
       "192         5     3        0        4  ...         0         0         0   \n",
       "193         5     0        7        5  ...         0         0         1   \n",
       "\n",
       "     crescent  triangle  icon  animate text  topleft  botright  \n",
       "134         0         1     0        1    0      red     black  \n",
       "135         0         0     1        1    1      red      blue  \n",
       "136         0         0     0        0    0      red       red  \n",
       "137         0         1     0        0    0     blue       red  \n",
       "138         0         0     0        0    0    white       red  \n",
       "139         0         0     1        0    0    green       red  \n",
       "140         0         1     0        0    0      red       red  \n",
       "141         0         0     0        0    0    white     brown  \n",
       "142         0         0     1        1    1     blue       red  \n",
       "143         0         0     0        0    1      red     green  \n",
       "144         0         0     0        0    0    white      blue  \n",
       "145         0         1     0        0    0    green     green  \n",
       "146         0         0     1        0    1    green     green  \n",
       "147         0         0     0        0    0    green       red  \n",
       "148         0         0     0        0    0      red     green  \n",
       "149         0         0     0        0    0    green      blue  \n",
       "150         1         0     0        0    0      red     white  \n",
       "151         0         1     0        0    0     blue     green  \n",
       "152         0         0     0        0    0     blue      blue  \n",
       "153         0         0     0        0    0   orange      blue  \n",
       "154         0         0     1        0    0    white     white  \n",
       "155         0         1     0        0    0      red     black  \n",
       "156         0         0     0        0    0      red       red  \n",
       "157         0         0     1        1    0     gold      gold  \n",
       "158         0         0     1        0    0    white      blue  \n",
       "159         0         1     0        0    0    green       red  \n",
       "160         0         1     0        0    0     blue      blue  \n",
       "161         0         0     1        1    1     blue     green  \n",
       "162         0         1     0        0    0      red     black  \n",
       "163         0         0     0        0    0    green     green  \n",
       "164         0         0     1        0    0     blue      blue  \n",
       "165         0         0     0        0    0     blue      blue  \n",
       "166         0         0     0        0    0      red       red  \n",
       "167         0         0     0        0    0      red     black  \n",
       "168         0         0     0        0    0     blue       red  \n",
       "169         0         1     0        0    0    green      blue  \n",
       "170         0         0     0        0    0      red       red  \n",
       "171         0         0     0        0    0      red     green  \n",
       "172         0         0     0        0    0    white       red  \n",
       "173         0         1     0        0    0    white     white  \n",
       "174         1         0     0        0    0      red       red  \n",
       "175         1         0     0        0    0      red       red  \n",
       "176         0         0     1        1    0    white      blue  \n",
       "177         0         0     0        0    0    white      blue  \n",
       "178         0         0     0        0    0      red     black  \n",
       "179         0         0     0        1    0    black       red  \n",
       "180         0         0     0        0    0    white       red  \n",
       "181         0         0     0        0    0    white     white  \n",
       "182         0         0     1        1    1    white     white  \n",
       "183         0         0     0        0    0     blue       red  \n",
       "184         0         0     1        0    0      red       red  \n",
       "185         0         1     0        1    0    black     green  \n",
       "186         0         0     1        0    0     gold     white  \n",
       "187         0         0     1        1    0     gold       red  \n",
       "188         0         0     0        0    0      red       red  \n",
       "189         0         0     0        0    0     blue       red  \n",
       "190         0         0     0        0    0     blue       red  \n",
       "191         0         0     1        1    0    green     green  \n",
       "192         0         0     0        1    0    green     brown  \n",
       "193         0         1     1        1    0    green     green  \n",
       "\n",
       "[60 rows x 30 columns]"
      ]
     },
     "execution_count": 4,
     "metadata": {},
     "output_type": "execute_result"
    }
   ],
   "source": [
    "flag.tail(60) # To get last few rows from the columns"
   ]
  },
  {
   "cell_type": "code",
   "execution_count": 5,
   "id": "92b72943",
   "metadata": {},
   "outputs": [
    {
     "name": "stdout",
     "output_type": "stream",
     "text": [
      "             name  landmass  zone  area  population  language  religion  bars  \\\n",
      "0     Afghanistan         5     1   648          16        10         2     0   \n",
      "1         Albania         3     1    29           3         6         6     0   \n",
      "2         Algeria         4     1  2388          20         8         2     2   \n",
      "3  American-Samoa         6     3     0           0         1         1     0   \n",
      "4         Andorra         3     1     0           0         6         0     3   \n",
      "\n",
      "   stripes  colours  ...  saltires  quarters  sunstars  crescent  triangle  \\\n",
      "0        3        5  ...         0         0         1         0         0   \n",
      "1        0        3  ...         0         0         1         0         0   \n",
      "2        0        3  ...         0         0         1         1         0   \n",
      "3        0        5  ...         0         0         0         0         1   \n",
      "4        0        3  ...         0         0         0         0         0   \n",
      "\n",
      "   icon  animate text  topleft  botright  \n",
      "0     1        0    0    black     green  \n",
      "1     0        1    0      red       red  \n",
      "2     0        0    0    green     white  \n",
      "3     1        1    0     blue       red  \n",
      "4     0        0    0     blue       red  \n",
      "\n",
      "[5 rows x 30 columns]\n"
     ]
    }
   ],
   "source": [
    "print(flag.head()) # To get the first few initial rows from the columns"
   ]
  },
  {
   "cell_type": "markdown",
   "id": "fd8c0f6b",
   "metadata": {},
   "source": [
    "# Checking the types of loaded columns\n",
    "Here, `flag.dtypes` function is used to check the datatypes of the `flag` dataset's loaded columns. As an output, few variables are found which are objects that known as `name`,`mainhue`,`topleft`,`botright`. On the other hand, some integer numbers also have obtained which are named as `landmass`,`zone`,`area`,`population`,`language`,`religion`,`bars`,`stripes`,`colours`,`red`,`green`,`blue`,`gold`, `white`,`black`,`orange`,`circles`,`crosses`,`saltires`,`quarters`,`sunstars`,`crescent`,`triangle`,`icon`,`animate`,`text`."
   ]
  },
  {
   "cell_type": "code",
   "execution_count": 6,
   "id": "9b858398",
   "metadata": {},
   "outputs": [
    {
     "data": {
      "text/plain": [
       "name          object\n",
       "landmass       int64\n",
       "zone           int64\n",
       "area           int64\n",
       "population     int64\n",
       "language       int64\n",
       "religion       int64\n",
       "bars           int64\n",
       "stripes        int64\n",
       "colours        int64\n",
       "red            int64\n",
       "green          int64\n",
       "blue           int64\n",
       "gold           int64\n",
       "white          int64\n",
       "black          int64\n",
       "orange         int64\n",
       "mainhue       object\n",
       "circles        int64\n",
       "crosses        int64\n",
       "saltires       int64\n",
       "quarters       int64\n",
       "sunstars       int64\n",
       "crescent       int64\n",
       "triangle       int64\n",
       "icon           int64\n",
       "animate        int64\n",
       "text           int64\n",
       "topleft       object\n",
       "botright      object\n",
       "dtype: object"
      ]
     },
     "execution_count": 6,
     "metadata": {},
     "output_type": "execute_result"
    }
   ],
   "source": [
    "flag.dtypes "
   ]
  },
  {
   "cell_type": "markdown",
   "id": "17acbcbc",
   "metadata": {},
   "source": [
    "The entire `flag` dataframe's structure has been checked using `info()` function where 194 observations(rows) and 30 variables(columns) have been found as an output. Apart from this, 26 int64 and 4 object data types have been found from this `flag` dataset which are enlightened in the below output pane."
   ]
  },
  {
   "cell_type": "code",
   "execution_count": 7,
   "id": "97ef00eb",
   "metadata": {},
   "outputs": [
    {
     "name": "stdout",
     "output_type": "stream",
     "text": [
      "<class 'pandas.core.frame.DataFrame'>\n",
      "RangeIndex: 194 entries, 0 to 193\n",
      "Data columns (total 30 columns):\n",
      " #   Column      Non-Null Count  Dtype \n",
      "---  ------      --------------  ----- \n",
      " 0   name        194 non-null    object\n",
      " 1   landmass    194 non-null    int64 \n",
      " 2   zone        194 non-null    int64 \n",
      " 3   area        194 non-null    int64 \n",
      " 4   population  194 non-null    int64 \n",
      " 5   language    194 non-null    int64 \n",
      " 6   religion    194 non-null    int64 \n",
      " 7   bars        194 non-null    int64 \n",
      " 8   stripes     194 non-null    int64 \n",
      " 9   colours     194 non-null    int64 \n",
      " 10  red         194 non-null    int64 \n",
      " 11  green       194 non-null    int64 \n",
      " 12  blue        194 non-null    int64 \n",
      " 13  gold        194 non-null    int64 \n",
      " 14  white       194 non-null    int64 \n",
      " 15  black       194 non-null    int64 \n",
      " 16  orange      194 non-null    int64 \n",
      " 17  mainhue     194 non-null    object\n",
      " 18  circles     194 non-null    int64 \n",
      " 19  crosses     194 non-null    int64 \n",
      " 20  saltires    194 non-null    int64 \n",
      " 21  quarters    194 non-null    int64 \n",
      " 22  sunstars    194 non-null    int64 \n",
      " 23  crescent    194 non-null    int64 \n",
      " 24  triangle    194 non-null    int64 \n",
      " 25  icon        194 non-null    int64 \n",
      " 26  animate     194 non-null    int64 \n",
      " 27  text        194 non-null    int64 \n",
      " 28  topleft     194 non-null    object\n",
      " 29  botright    194 non-null    object\n",
      "dtypes: int64(26), object(4)\n",
      "memory usage: 45.6+ KB\n"
     ]
    }
   ],
   "source": [
    "flag.info() "
   ]
  },
  {
   "cell_type": "markdown",
   "id": "7567feba",
   "metadata": {},
   "source": [
    "## Full Description of the dataset:"
   ]
  },
  {
   "cell_type": "markdown",
   "id": "f751a71b",
   "metadata": {},
   "source": [
    "This data file contains details of various nations and their flags. In this file the fields are separated by commas. With this data, it might happens to predict the religion of a country from its size and the colours in its flag. Here, 10 attributes are numeric-valued and the remainder are either Boolean-or nominal-valued. Apart from this, number of instances are 194 and number of attributes are 30 (overall). This dataset has been found from the following link:\n",
    "https://archive.ics.uci.edu/ml/datasets/Flags\n",
    "\n",
    "Attributes Information:\n",
    "\n",
    "1) name: Name of the country concerned\n",
    "2) landmass: 1=N.America, 2=S.America, 3=Europe, 4=Africa, 5=Asia, 6=Oceania\n",
    "3) zone: Geographic quadrant, based on Greenwich and the Equator 1=NE, 2=SE, 3=SW, 4=NW\n",
    "4) area: in thousands of square km\n",
    "5) population: in round millions\n",
    "6) language: 1=English, 2=Spanish, 3=French, 4=German, 5=Slavic, 6=Other Indo-European, 7=Chinese, 8=Arabic, 9=Japanese/Turkish/Finnish/Magyar, 10=Others\n",
    "7) religion: 0=Catholic, 1=Other Christian, 2=Muslim, 3=Buddhist, 4=Hindu, 5=Ethnic, 6=Marxist, 7=Others\n",
    "8) bars: Number of vertical bars in the flag\n",
    "9) stripes: Number of horizontal stripes in the flag\n",
    "10) colours: Number of different colours in the flag\n",
    "11) red: 0 if red absent, 1 if red present in the flag\n",
    "12) green: same for green\n",
    "13) blue: same for blue\n",
    "14) gold: same for gold (also yellow)\n",
    "15) white: same for white\n",
    "16) black: same for black\n",
    "17) orange: same for orange (also brown)\n",
    "18) mainhue: predominant colour in the flag (tie-breaks decided by taking the topmost hue, if that fails then the most central hue, and if that fails the leftmost hue)\n",
    "19) circles: Number of circles in the flag\n",
    "20) crosses: Number of (upright) crosses\n",
    "21) saltires: Number of diagonal crosses\n",
    "22) quarters: Number of quartered sections\n",
    "23) sunstars: Number of sun or star symbols\n",
    "24) crescent: 1 if a crescent moon symbol present, else 0\n",
    "25) triangle: 1 if any triangles present, 0 otherwise\n",
    "26) icon: 1 if an inanimate image present (e.g., a boat), otherwise 0\n",
    "27) animate: 1 if an animate image (e.g., an eagle, a tree, a human hand)present, 0 otherwise\n",
    "28) text: 1 if any letters or writing on the flag (e.g., a motto or slogan), 0 otherwise\n",
    "29) topleft: colour in the top-left corner (moving right to decide tie-breaks)\n",
    "30) botright: Colour in the bottom-left corner (moving left to decide tie-breaks).\n",
    "Missing values: None."
   ]
  },
  {
   "cell_type": "markdown",
   "id": "b1b6c27c",
   "metadata": {},
   "source": [
    "In the following step, conversion process has been done where `name`, `mainhue`, `topleft` and `botright`variables are converted from object datatypes to category types using `astype()` function."
   ]
  },
  {
   "cell_type": "code",
   "execution_count": 8,
   "id": "ca30a19b",
   "metadata": {},
   "outputs": [],
   "source": [
    "flag['name'] = flag['name'].astype('category')\n",
    "flag['mainhue'] = flag['mainhue'].astype('category')\n",
    "flag['topleft'] = flag['topleft'].astype('category')\n",
    "flag['botright'] = flag['botright'].astype('category')"
   ]
  },
  {
   "cell_type": "markdown",
   "id": "173e9de7",
   "metadata": {},
   "source": [
    "The entire flag dataframe's structure has been checked using `info()` function again where 194 observations(rows) and 30 variables(columns) have been found as an output. Apart from this, 26 `int64` and 4 `category` data types have been found from this flag dataset which are enlightened in the below output pane."
   ]
  },
  {
   "cell_type": "code",
   "execution_count": 9,
   "id": "c509f6d6",
   "metadata": {},
   "outputs": [
    {
     "name": "stdout",
     "output_type": "stream",
     "text": [
      "<class 'pandas.core.frame.DataFrame'>\n",
      "RangeIndex: 194 entries, 0 to 193\n",
      "Data columns (total 30 columns):\n",
      " #   Column      Non-Null Count  Dtype   \n",
      "---  ------      --------------  -----   \n",
      " 0   name        194 non-null    category\n",
      " 1   landmass    194 non-null    int64   \n",
      " 2   zone        194 non-null    int64   \n",
      " 3   area        194 non-null    int64   \n",
      " 4   population  194 non-null    int64   \n",
      " 5   language    194 non-null    int64   \n",
      " 6   religion    194 non-null    int64   \n",
      " 7   bars        194 non-null    int64   \n",
      " 8   stripes     194 non-null    int64   \n",
      " 9   colours     194 non-null    int64   \n",
      " 10  red         194 non-null    int64   \n",
      " 11  green       194 non-null    int64   \n",
      " 12  blue        194 non-null    int64   \n",
      " 13  gold        194 non-null    int64   \n",
      " 14  white       194 non-null    int64   \n",
      " 15  black       194 non-null    int64   \n",
      " 16  orange      194 non-null    int64   \n",
      " 17  mainhue     194 non-null    category\n",
      " 18  circles     194 non-null    int64   \n",
      " 19  crosses     194 non-null    int64   \n",
      " 20  saltires    194 non-null    int64   \n",
      " 21  quarters    194 non-null    int64   \n",
      " 22  sunstars    194 non-null    int64   \n",
      " 23  crescent    194 non-null    int64   \n",
      " 24  triangle    194 non-null    int64   \n",
      " 25  icon        194 non-null    int64   \n",
      " 26  animate     194 non-null    int64   \n",
      " 27  text        194 non-null    int64   \n",
      " 28  topleft     194 non-null    category\n",
      " 29  botright    194 non-null    category\n",
      "dtypes: category(4), int64(26)\n",
      "memory usage: 47.1 KB\n"
     ]
    }
   ],
   "source": [
    "flag.info()"
   ]
  },
  {
   "cell_type": "markdown",
   "id": "74f60ca2",
   "metadata": {},
   "source": [
    "In the next step, extra-whitespace errors has been checked using `str.strip()` function for the given variables such as `name`, `mainhue`, `topleft` and `botright`."
   ]
  },
  {
   "cell_type": "code",
   "execution_count": 10,
   "id": "0ab81843",
   "metadata": {},
   "outputs": [],
   "source": [
    "flag['name']= flag['name'].str.strip()\n",
    "flag['mainhue']= flag['mainhue'].str.strip()\n",
    "flag['topleft']= flag['topleft'].str.strip()\n",
    "flag['botright']= flag['botright'].str.strip()\n"
   ]
  },
  {
   "cell_type": "markdown",
   "id": "cacbfb90",
   "metadata": {},
   "source": [
    "As this `Malagasy` is an Austronesian language of `Sunda islands` and as `Malaysia` is one of the country of the part of `Sunda islands`, therefore this `Malagasy` language name has been changed as a country name `Malaysia` to enhance the readability and consistency of this dataset. During this manpulation, the `replace()` function has been applied in the following step."
   ]
  },
  {
   "cell_type": "code",
   "execution_count": 11,
   "id": "f7dcc990",
   "metadata": {},
   "outputs": [],
   "source": [
    "flag['name'].replace('Malagasy', 'Malaysia', inplace=True) "
   ]
  },
  {
   "cell_type": "markdown",
   "id": "45dc1f61",
   "metadata": {},
   "source": [
    "Here,it has been found that `0`is redundant value compare with the other values in the `area` variable which can also make \n",
    "inconsistency in this`flag` dataset. Hence, to extend the sanity of the dataset, 'area' variable's values have been \n",
    "modified using the above function."
   ]
  },
  {
   "cell_type": "code",
   "execution_count": 12,
   "id": "a2c25aa3",
   "metadata": {},
   "outputs": [
    {
     "data": {
      "text/html": [
       "<div>\n",
       "<style scoped>\n",
       "    .dataframe tbody tr th:only-of-type {\n",
       "        vertical-align: middle;\n",
       "    }\n",
       "\n",
       "    .dataframe tbody tr th {\n",
       "        vertical-align: top;\n",
       "    }\n",
       "\n",
       "    .dataframe thead th {\n",
       "        text-align: right;\n",
       "    }\n",
       "</style>\n",
       "<table border=\"1\" class=\"dataframe\">\n",
       "  <thead>\n",
       "    <tr style=\"text-align: right;\">\n",
       "      <th></th>\n",
       "      <th>name</th>\n",
       "      <th>landmass</th>\n",
       "      <th>zone</th>\n",
       "      <th>area</th>\n",
       "      <th>population</th>\n",
       "      <th>language</th>\n",
       "      <th>religion</th>\n",
       "      <th>bars</th>\n",
       "      <th>stripes</th>\n",
       "      <th>colours</th>\n",
       "      <th>...</th>\n",
       "      <th>saltires</th>\n",
       "      <th>quarters</th>\n",
       "      <th>sunstars</th>\n",
       "      <th>crescent</th>\n",
       "      <th>triangle</th>\n",
       "      <th>icon</th>\n",
       "      <th>animate</th>\n",
       "      <th>text</th>\n",
       "      <th>topleft</th>\n",
       "      <th>botright</th>\n",
       "    </tr>\n",
       "  </thead>\n",
       "  <tbody>\n",
       "    <tr>\n",
       "      <th>0</th>\n",
       "      <td>Afghanistan</td>\n",
       "      <td>5</td>\n",
       "      <td>1</td>\n",
       "      <td>648</td>\n",
       "      <td>16</td>\n",
       "      <td>10</td>\n",
       "      <td>2</td>\n",
       "      <td>0</td>\n",
       "      <td>3</td>\n",
       "      <td>5</td>\n",
       "      <td>...</td>\n",
       "      <td>0</td>\n",
       "      <td>0</td>\n",
       "      <td>1</td>\n",
       "      <td>0</td>\n",
       "      <td>0</td>\n",
       "      <td>1</td>\n",
       "      <td>0</td>\n",
       "      <td>0</td>\n",
       "      <td>black</td>\n",
       "      <td>green</td>\n",
       "    </tr>\n",
       "    <tr>\n",
       "      <th>1</th>\n",
       "      <td>Albania</td>\n",
       "      <td>3</td>\n",
       "      <td>1</td>\n",
       "      <td>29</td>\n",
       "      <td>3</td>\n",
       "      <td>6</td>\n",
       "      <td>6</td>\n",
       "      <td>0</td>\n",
       "      <td>0</td>\n",
       "      <td>3</td>\n",
       "      <td>...</td>\n",
       "      <td>0</td>\n",
       "      <td>0</td>\n",
       "      <td>1</td>\n",
       "      <td>0</td>\n",
       "      <td>0</td>\n",
       "      <td>0</td>\n",
       "      <td>1</td>\n",
       "      <td>0</td>\n",
       "      <td>red</td>\n",
       "      <td>red</td>\n",
       "    </tr>\n",
       "    <tr>\n",
       "      <th>2</th>\n",
       "      <td>Algeria</td>\n",
       "      <td>4</td>\n",
       "      <td>1</td>\n",
       "      <td>2388</td>\n",
       "      <td>20</td>\n",
       "      <td>8</td>\n",
       "      <td>2</td>\n",
       "      <td>2</td>\n",
       "      <td>0</td>\n",
       "      <td>3</td>\n",
       "      <td>...</td>\n",
       "      <td>0</td>\n",
       "      <td>0</td>\n",
       "      <td>1</td>\n",
       "      <td>1</td>\n",
       "      <td>0</td>\n",
       "      <td>0</td>\n",
       "      <td>0</td>\n",
       "      <td>0</td>\n",
       "      <td>green</td>\n",
       "      <td>white</td>\n",
       "    </tr>\n",
       "    <tr>\n",
       "      <th>5</th>\n",
       "      <td>Angola</td>\n",
       "      <td>4</td>\n",
       "      <td>2</td>\n",
       "      <td>1247</td>\n",
       "      <td>7</td>\n",
       "      <td>10</td>\n",
       "      <td>5</td>\n",
       "      <td>0</td>\n",
       "      <td>2</td>\n",
       "      <td>3</td>\n",
       "      <td>...</td>\n",
       "      <td>0</td>\n",
       "      <td>0</td>\n",
       "      <td>1</td>\n",
       "      <td>0</td>\n",
       "      <td>0</td>\n",
       "      <td>1</td>\n",
       "      <td>0</td>\n",
       "      <td>0</td>\n",
       "      <td>red</td>\n",
       "      <td>black</td>\n",
       "    </tr>\n",
       "    <tr>\n",
       "      <th>8</th>\n",
       "      <td>Argentina</td>\n",
       "      <td>2</td>\n",
       "      <td>3</td>\n",
       "      <td>2777</td>\n",
       "      <td>28</td>\n",
       "      <td>2</td>\n",
       "      <td>0</td>\n",
       "      <td>0</td>\n",
       "      <td>3</td>\n",
       "      <td>2</td>\n",
       "      <td>...</td>\n",
       "      <td>0</td>\n",
       "      <td>0</td>\n",
       "      <td>0</td>\n",
       "      <td>0</td>\n",
       "      <td>0</td>\n",
       "      <td>0</td>\n",
       "      <td>0</td>\n",
       "      <td>0</td>\n",
       "      <td>blue</td>\n",
       "      <td>blue</td>\n",
       "    </tr>\n",
       "    <tr>\n",
       "      <th>...</th>\n",
       "      <td>...</td>\n",
       "      <td>...</td>\n",
       "      <td>...</td>\n",
       "      <td>...</td>\n",
       "      <td>...</td>\n",
       "      <td>...</td>\n",
       "      <td>...</td>\n",
       "      <td>...</td>\n",
       "      <td>...</td>\n",
       "      <td>...</td>\n",
       "      <td>...</td>\n",
       "      <td>...</td>\n",
       "      <td>...</td>\n",
       "      <td>...</td>\n",
       "      <td>...</td>\n",
       "      <td>...</td>\n",
       "      <td>...</td>\n",
       "      <td>...</td>\n",
       "      <td>...</td>\n",
       "      <td>...</td>\n",
       "      <td>...</td>\n",
       "    </tr>\n",
       "    <tr>\n",
       "      <th>189</th>\n",
       "      <td>Western-Samoa</td>\n",
       "      <td>6</td>\n",
       "      <td>3</td>\n",
       "      <td>3</td>\n",
       "      <td>0</td>\n",
       "      <td>1</td>\n",
       "      <td>1</td>\n",
       "      <td>0</td>\n",
       "      <td>0</td>\n",
       "      <td>3</td>\n",
       "      <td>...</td>\n",
       "      <td>0</td>\n",
       "      <td>1</td>\n",
       "      <td>5</td>\n",
       "      <td>0</td>\n",
       "      <td>0</td>\n",
       "      <td>0</td>\n",
       "      <td>0</td>\n",
       "      <td>0</td>\n",
       "      <td>blue</td>\n",
       "      <td>red</td>\n",
       "    </tr>\n",
       "    <tr>\n",
       "      <th>190</th>\n",
       "      <td>Yugoslavia</td>\n",
       "      <td>3</td>\n",
       "      <td>1</td>\n",
       "      <td>256</td>\n",
       "      <td>22</td>\n",
       "      <td>6</td>\n",
       "      <td>6</td>\n",
       "      <td>0</td>\n",
       "      <td>3</td>\n",
       "      <td>4</td>\n",
       "      <td>...</td>\n",
       "      <td>0</td>\n",
       "      <td>0</td>\n",
       "      <td>1</td>\n",
       "      <td>0</td>\n",
       "      <td>0</td>\n",
       "      <td>0</td>\n",
       "      <td>0</td>\n",
       "      <td>0</td>\n",
       "      <td>blue</td>\n",
       "      <td>red</td>\n",
       "    </tr>\n",
       "    <tr>\n",
       "      <th>191</th>\n",
       "      <td>Zaire</td>\n",
       "      <td>4</td>\n",
       "      <td>2</td>\n",
       "      <td>905</td>\n",
       "      <td>28</td>\n",
       "      <td>10</td>\n",
       "      <td>5</td>\n",
       "      <td>0</td>\n",
       "      <td>0</td>\n",
       "      <td>4</td>\n",
       "      <td>...</td>\n",
       "      <td>0</td>\n",
       "      <td>0</td>\n",
       "      <td>0</td>\n",
       "      <td>0</td>\n",
       "      <td>0</td>\n",
       "      <td>1</td>\n",
       "      <td>1</td>\n",
       "      <td>0</td>\n",
       "      <td>green</td>\n",
       "      <td>green</td>\n",
       "    </tr>\n",
       "    <tr>\n",
       "      <th>192</th>\n",
       "      <td>Zambia</td>\n",
       "      <td>4</td>\n",
       "      <td>2</td>\n",
       "      <td>753</td>\n",
       "      <td>6</td>\n",
       "      <td>10</td>\n",
       "      <td>5</td>\n",
       "      <td>3</td>\n",
       "      <td>0</td>\n",
       "      <td>4</td>\n",
       "      <td>...</td>\n",
       "      <td>0</td>\n",
       "      <td>0</td>\n",
       "      <td>0</td>\n",
       "      <td>0</td>\n",
       "      <td>0</td>\n",
       "      <td>0</td>\n",
       "      <td>1</td>\n",
       "      <td>0</td>\n",
       "      <td>green</td>\n",
       "      <td>brown</td>\n",
       "    </tr>\n",
       "    <tr>\n",
       "      <th>193</th>\n",
       "      <td>Zimbabwe</td>\n",
       "      <td>4</td>\n",
       "      <td>2</td>\n",
       "      <td>391</td>\n",
       "      <td>8</td>\n",
       "      <td>10</td>\n",
       "      <td>5</td>\n",
       "      <td>0</td>\n",
       "      <td>7</td>\n",
       "      <td>5</td>\n",
       "      <td>...</td>\n",
       "      <td>0</td>\n",
       "      <td>0</td>\n",
       "      <td>1</td>\n",
       "      <td>0</td>\n",
       "      <td>1</td>\n",
       "      <td>1</td>\n",
       "      <td>1</td>\n",
       "      <td>0</td>\n",
       "      <td>green</td>\n",
       "      <td>green</td>\n",
       "    </tr>\n",
       "  </tbody>\n",
       "</table>\n",
       "<p>160 rows × 30 columns</p>\n",
       "</div>"
      ],
      "text/plain": [
       "              name  landmass  zone  area  population  language  religion  \\\n",
       "0      Afghanistan         5     1   648          16        10         2   \n",
       "1          Albania         3     1    29           3         6         6   \n",
       "2          Algeria         4     1  2388          20         8         2   \n",
       "5           Angola         4     2  1247           7        10         5   \n",
       "8        Argentina         2     3  2777          28         2         0   \n",
       "..             ...       ...   ...   ...         ...       ...       ...   \n",
       "189  Western-Samoa         6     3     3           0         1         1   \n",
       "190     Yugoslavia         3     1   256          22         6         6   \n",
       "191          Zaire         4     2   905          28        10         5   \n",
       "192         Zambia         4     2   753           6        10         5   \n",
       "193       Zimbabwe         4     2   391           8        10         5   \n",
       "\n",
       "     bars  stripes  colours  ...  saltires  quarters  sunstars  crescent  \\\n",
       "0       0        3        5  ...         0         0         1         0   \n",
       "1       0        0        3  ...         0         0         1         0   \n",
       "2       2        0        3  ...         0         0         1         1   \n",
       "5       0        2        3  ...         0         0         1         0   \n",
       "8       0        3        2  ...         0         0         0         0   \n",
       "..    ...      ...      ...  ...       ...       ...       ...       ...   \n",
       "189     0        0        3  ...         0         1         5         0   \n",
       "190     0        3        4  ...         0         0         1         0   \n",
       "191     0        0        4  ...         0         0         0         0   \n",
       "192     3        0        4  ...         0         0         0         0   \n",
       "193     0        7        5  ...         0         0         1         0   \n",
       "\n",
       "     triangle  icon  animate text  topleft  botright  \n",
       "0           0     1        0    0    black     green  \n",
       "1           0     0        1    0      red       red  \n",
       "2           0     0        0    0    green     white  \n",
       "5           0     1        0    0      red     black  \n",
       "8           0     0        0    0     blue      blue  \n",
       "..        ...   ...      ...  ...      ...       ...  \n",
       "189         0     0        0    0     blue       red  \n",
       "190         0     0        0    0     blue       red  \n",
       "191         0     1        1    0    green     green  \n",
       "192         0     0        1    0    green     brown  \n",
       "193         1     1        1    0    green     green  \n",
       "\n",
       "[160 rows x 30 columns]"
      ]
     },
     "execution_count": 12,
     "metadata": {},
     "output_type": "execute_result"
    }
   ],
   "source": [
    "new_flag = flag[flag.area != 0]\n",
    "new_flag"
   ]
  },
  {
   "cell_type": "markdown",
   "id": "9e0f00d2",
   "metadata": {},
   "source": [
    " Here,it has been found that `0` is also redundant value compare with the other values in the `population`variable which can also make inconsistency in this `flag` dataset. Hence, to extend the sanity of the dataset, the above variables' values have been modified using the following functions."
   ]
  },
  {
   "cell_type": "code",
   "execution_count": 13,
   "id": "bb1cb879",
   "metadata": {},
   "outputs": [
    {
     "data": {
      "text/html": [
       "<div>\n",
       "<style scoped>\n",
       "    .dataframe tbody tr th:only-of-type {\n",
       "        vertical-align: middle;\n",
       "    }\n",
       "\n",
       "    .dataframe tbody tr th {\n",
       "        vertical-align: top;\n",
       "    }\n",
       "\n",
       "    .dataframe thead th {\n",
       "        text-align: right;\n",
       "    }\n",
       "</style>\n",
       "<table border=\"1\" class=\"dataframe\">\n",
       "  <thead>\n",
       "    <tr style=\"text-align: right;\">\n",
       "      <th></th>\n",
       "      <th>name</th>\n",
       "      <th>landmass</th>\n",
       "      <th>zone</th>\n",
       "      <th>area</th>\n",
       "      <th>population</th>\n",
       "      <th>language</th>\n",
       "      <th>religion</th>\n",
       "      <th>bars</th>\n",
       "      <th>stripes</th>\n",
       "      <th>colours</th>\n",
       "      <th>...</th>\n",
       "      <th>saltires</th>\n",
       "      <th>quarters</th>\n",
       "      <th>sunstars</th>\n",
       "      <th>crescent</th>\n",
       "      <th>triangle</th>\n",
       "      <th>icon</th>\n",
       "      <th>animate</th>\n",
       "      <th>text</th>\n",
       "      <th>topleft</th>\n",
       "      <th>botright</th>\n",
       "    </tr>\n",
       "  </thead>\n",
       "  <tbody>\n",
       "    <tr>\n",
       "      <th>0</th>\n",
       "      <td>Afghanistan</td>\n",
       "      <td>5</td>\n",
       "      <td>1</td>\n",
       "      <td>648</td>\n",
       "      <td>16</td>\n",
       "      <td>10</td>\n",
       "      <td>2</td>\n",
       "      <td>0</td>\n",
       "      <td>3</td>\n",
       "      <td>5</td>\n",
       "      <td>...</td>\n",
       "      <td>0</td>\n",
       "      <td>0</td>\n",
       "      <td>1</td>\n",
       "      <td>0</td>\n",
       "      <td>0</td>\n",
       "      <td>1</td>\n",
       "      <td>0</td>\n",
       "      <td>0</td>\n",
       "      <td>black</td>\n",
       "      <td>green</td>\n",
       "    </tr>\n",
       "    <tr>\n",
       "      <th>1</th>\n",
       "      <td>Albania</td>\n",
       "      <td>3</td>\n",
       "      <td>1</td>\n",
       "      <td>29</td>\n",
       "      <td>3</td>\n",
       "      <td>6</td>\n",
       "      <td>6</td>\n",
       "      <td>0</td>\n",
       "      <td>0</td>\n",
       "      <td>3</td>\n",
       "      <td>...</td>\n",
       "      <td>0</td>\n",
       "      <td>0</td>\n",
       "      <td>1</td>\n",
       "      <td>0</td>\n",
       "      <td>0</td>\n",
       "      <td>0</td>\n",
       "      <td>1</td>\n",
       "      <td>0</td>\n",
       "      <td>red</td>\n",
       "      <td>red</td>\n",
       "    </tr>\n",
       "    <tr>\n",
       "      <th>2</th>\n",
       "      <td>Algeria</td>\n",
       "      <td>4</td>\n",
       "      <td>1</td>\n",
       "      <td>2388</td>\n",
       "      <td>20</td>\n",
       "      <td>8</td>\n",
       "      <td>2</td>\n",
       "      <td>2</td>\n",
       "      <td>0</td>\n",
       "      <td>3</td>\n",
       "      <td>...</td>\n",
       "      <td>0</td>\n",
       "      <td>0</td>\n",
       "      <td>1</td>\n",
       "      <td>1</td>\n",
       "      <td>0</td>\n",
       "      <td>0</td>\n",
       "      <td>0</td>\n",
       "      <td>0</td>\n",
       "      <td>green</td>\n",
       "      <td>white</td>\n",
       "    </tr>\n",
       "    <tr>\n",
       "      <th>5</th>\n",
       "      <td>Angola</td>\n",
       "      <td>4</td>\n",
       "      <td>2</td>\n",
       "      <td>1247</td>\n",
       "      <td>7</td>\n",
       "      <td>10</td>\n",
       "      <td>5</td>\n",
       "      <td>0</td>\n",
       "      <td>2</td>\n",
       "      <td>3</td>\n",
       "      <td>...</td>\n",
       "      <td>0</td>\n",
       "      <td>0</td>\n",
       "      <td>1</td>\n",
       "      <td>0</td>\n",
       "      <td>0</td>\n",
       "      <td>1</td>\n",
       "      <td>0</td>\n",
       "      <td>0</td>\n",
       "      <td>red</td>\n",
       "      <td>black</td>\n",
       "    </tr>\n",
       "    <tr>\n",
       "      <th>8</th>\n",
       "      <td>Argentina</td>\n",
       "      <td>2</td>\n",
       "      <td>3</td>\n",
       "      <td>2777</td>\n",
       "      <td>28</td>\n",
       "      <td>2</td>\n",
       "      <td>0</td>\n",
       "      <td>0</td>\n",
       "      <td>3</td>\n",
       "      <td>2</td>\n",
       "      <td>...</td>\n",
       "      <td>0</td>\n",
       "      <td>0</td>\n",
       "      <td>0</td>\n",
       "      <td>0</td>\n",
       "      <td>0</td>\n",
       "      <td>0</td>\n",
       "      <td>0</td>\n",
       "      <td>0</td>\n",
       "      <td>blue</td>\n",
       "      <td>blue</td>\n",
       "    </tr>\n",
       "    <tr>\n",
       "      <th>...</th>\n",
       "      <td>...</td>\n",
       "      <td>...</td>\n",
       "      <td>...</td>\n",
       "      <td>...</td>\n",
       "      <td>...</td>\n",
       "      <td>...</td>\n",
       "      <td>...</td>\n",
       "      <td>...</td>\n",
       "      <td>...</td>\n",
       "      <td>...</td>\n",
       "      <td>...</td>\n",
       "      <td>...</td>\n",
       "      <td>...</td>\n",
       "      <td>...</td>\n",
       "      <td>...</td>\n",
       "      <td>...</td>\n",
       "      <td>...</td>\n",
       "      <td>...</td>\n",
       "      <td>...</td>\n",
       "      <td>...</td>\n",
       "      <td>...</td>\n",
       "    </tr>\n",
       "    <tr>\n",
       "      <th>188</th>\n",
       "      <td>Vietnam</td>\n",
       "      <td>5</td>\n",
       "      <td>1</td>\n",
       "      <td>333</td>\n",
       "      <td>60</td>\n",
       "      <td>10</td>\n",
       "      <td>6</td>\n",
       "      <td>0</td>\n",
       "      <td>0</td>\n",
       "      <td>2</td>\n",
       "      <td>...</td>\n",
       "      <td>0</td>\n",
       "      <td>0</td>\n",
       "      <td>1</td>\n",
       "      <td>0</td>\n",
       "      <td>0</td>\n",
       "      <td>0</td>\n",
       "      <td>0</td>\n",
       "      <td>0</td>\n",
       "      <td>red</td>\n",
       "      <td>red</td>\n",
       "    </tr>\n",
       "    <tr>\n",
       "      <th>190</th>\n",
       "      <td>Yugoslavia</td>\n",
       "      <td>3</td>\n",
       "      <td>1</td>\n",
       "      <td>256</td>\n",
       "      <td>22</td>\n",
       "      <td>6</td>\n",
       "      <td>6</td>\n",
       "      <td>0</td>\n",
       "      <td>3</td>\n",
       "      <td>4</td>\n",
       "      <td>...</td>\n",
       "      <td>0</td>\n",
       "      <td>0</td>\n",
       "      <td>1</td>\n",
       "      <td>0</td>\n",
       "      <td>0</td>\n",
       "      <td>0</td>\n",
       "      <td>0</td>\n",
       "      <td>0</td>\n",
       "      <td>blue</td>\n",
       "      <td>red</td>\n",
       "    </tr>\n",
       "    <tr>\n",
       "      <th>191</th>\n",
       "      <td>Zaire</td>\n",
       "      <td>4</td>\n",
       "      <td>2</td>\n",
       "      <td>905</td>\n",
       "      <td>28</td>\n",
       "      <td>10</td>\n",
       "      <td>5</td>\n",
       "      <td>0</td>\n",
       "      <td>0</td>\n",
       "      <td>4</td>\n",
       "      <td>...</td>\n",
       "      <td>0</td>\n",
       "      <td>0</td>\n",
       "      <td>0</td>\n",
       "      <td>0</td>\n",
       "      <td>0</td>\n",
       "      <td>1</td>\n",
       "      <td>1</td>\n",
       "      <td>0</td>\n",
       "      <td>green</td>\n",
       "      <td>green</td>\n",
       "    </tr>\n",
       "    <tr>\n",
       "      <th>192</th>\n",
       "      <td>Zambia</td>\n",
       "      <td>4</td>\n",
       "      <td>2</td>\n",
       "      <td>753</td>\n",
       "      <td>6</td>\n",
       "      <td>10</td>\n",
       "      <td>5</td>\n",
       "      <td>3</td>\n",
       "      <td>0</td>\n",
       "      <td>4</td>\n",
       "      <td>...</td>\n",
       "      <td>0</td>\n",
       "      <td>0</td>\n",
       "      <td>0</td>\n",
       "      <td>0</td>\n",
       "      <td>0</td>\n",
       "      <td>0</td>\n",
       "      <td>1</td>\n",
       "      <td>0</td>\n",
       "      <td>green</td>\n",
       "      <td>brown</td>\n",
       "    </tr>\n",
       "    <tr>\n",
       "      <th>193</th>\n",
       "      <td>Zimbabwe</td>\n",
       "      <td>4</td>\n",
       "      <td>2</td>\n",
       "      <td>391</td>\n",
       "      <td>8</td>\n",
       "      <td>10</td>\n",
       "      <td>5</td>\n",
       "      <td>0</td>\n",
       "      <td>7</td>\n",
       "      <td>5</td>\n",
       "      <td>...</td>\n",
       "      <td>0</td>\n",
       "      <td>0</td>\n",
       "      <td>1</td>\n",
       "      <td>0</td>\n",
       "      <td>1</td>\n",
       "      <td>1</td>\n",
       "      <td>1</td>\n",
       "      <td>0</td>\n",
       "      <td>green</td>\n",
       "      <td>green</td>\n",
       "    </tr>\n",
       "  </tbody>\n",
       "</table>\n",
       "<p>138 rows × 30 columns</p>\n",
       "</div>"
      ],
      "text/plain": [
       "            name  landmass  zone  area  population  language  religion  bars  \\\n",
       "0    Afghanistan         5     1   648          16        10         2     0   \n",
       "1        Albania         3     1    29           3         6         6     0   \n",
       "2        Algeria         4     1  2388          20         8         2     2   \n",
       "5         Angola         4     2  1247           7        10         5     0   \n",
       "8      Argentina         2     3  2777          28         2         0     0   \n",
       "..           ...       ...   ...   ...         ...       ...       ...   ...   \n",
       "188      Vietnam         5     1   333          60        10         6     0   \n",
       "190   Yugoslavia         3     1   256          22         6         6     0   \n",
       "191        Zaire         4     2   905          28        10         5     0   \n",
       "192       Zambia         4     2   753           6        10         5     3   \n",
       "193     Zimbabwe         4     2   391           8        10         5     0   \n",
       "\n",
       "     stripes  colours  ...  saltires  quarters  sunstars  crescent  triangle  \\\n",
       "0          3        5  ...         0         0         1         0         0   \n",
       "1          0        3  ...         0         0         1         0         0   \n",
       "2          0        3  ...         0         0         1         1         0   \n",
       "5          2        3  ...         0         0         1         0         0   \n",
       "8          3        2  ...         0         0         0         0         0   \n",
       "..       ...      ...  ...       ...       ...       ...       ...       ...   \n",
       "188        0        2  ...         0         0         1         0         0   \n",
       "190        3        4  ...         0         0         1         0         0   \n",
       "191        0        4  ...         0         0         0         0         0   \n",
       "192        0        4  ...         0         0         0         0         0   \n",
       "193        7        5  ...         0         0         1         0         1   \n",
       "\n",
       "     icon  animate text  topleft  botright  \n",
       "0       1        0    0    black     green  \n",
       "1       0        1    0      red       red  \n",
       "2       0        0    0    green     white  \n",
       "5       1        0    0      red     black  \n",
       "8       0        0    0     blue      blue  \n",
       "..    ...      ...  ...      ...       ...  \n",
       "188     0        0    0      red       red  \n",
       "190     0        0    0     blue       red  \n",
       "191     1        1    0    green     green  \n",
       "192     0        1    0    green     brown  \n",
       "193     1        1    0    green     green  \n",
       "\n",
       "[138 rows x 30 columns]"
      ]
     },
     "execution_count": 13,
     "metadata": {},
     "output_type": "execute_result"
    }
   ],
   "source": [
    "new_flag= flag[flag.population != 0]\n",
    "new_flag"
   ]
  },
  {
   "cell_type": "code",
   "execution_count": 14,
   "id": "c61023d9",
   "metadata": {},
   "outputs": [
    {
     "data": {
      "text/html": [
       "<div>\n",
       "<style scoped>\n",
       "    .dataframe tbody tr th:only-of-type {\n",
       "        vertical-align: middle;\n",
       "    }\n",
       "\n",
       "    .dataframe tbody tr th {\n",
       "        vertical-align: top;\n",
       "    }\n",
       "\n",
       "    .dataframe thead th {\n",
       "        text-align: right;\n",
       "    }\n",
       "</style>\n",
       "<table border=\"1\" class=\"dataframe\">\n",
       "  <thead>\n",
       "    <tr style=\"text-align: right;\">\n",
       "      <th></th>\n",
       "      <th>name</th>\n",
       "      <th>landmass</th>\n",
       "      <th>zone</th>\n",
       "      <th>area</th>\n",
       "      <th>population</th>\n",
       "      <th>language</th>\n",
       "      <th>religion</th>\n",
       "      <th>bars</th>\n",
       "      <th>stripes</th>\n",
       "      <th>colours</th>\n",
       "      <th>...</th>\n",
       "      <th>saltires</th>\n",
       "      <th>quarters</th>\n",
       "      <th>sunstars</th>\n",
       "      <th>crescent</th>\n",
       "      <th>triangle</th>\n",
       "      <th>icon</th>\n",
       "      <th>animate</th>\n",
       "      <th>text</th>\n",
       "      <th>topleft</th>\n",
       "      <th>botright</th>\n",
       "    </tr>\n",
       "  </thead>\n",
       "  <tbody>\n",
       "    <tr>\n",
       "      <th>0</th>\n",
       "      <td>Afghanistan</td>\n",
       "      <td>5</td>\n",
       "      <td>1</td>\n",
       "      <td>648</td>\n",
       "      <td>16</td>\n",
       "      <td>10</td>\n",
       "      <td>2</td>\n",
       "      <td>0</td>\n",
       "      <td>3</td>\n",
       "      <td>5</td>\n",
       "      <td>...</td>\n",
       "      <td>0</td>\n",
       "      <td>0</td>\n",
       "      <td>1</td>\n",
       "      <td>0</td>\n",
       "      <td>0</td>\n",
       "      <td>1</td>\n",
       "      <td>0</td>\n",
       "      <td>0</td>\n",
       "      <td>black</td>\n",
       "      <td>green</td>\n",
       "    </tr>\n",
       "    <tr>\n",
       "      <th>1</th>\n",
       "      <td>Albania</td>\n",
       "      <td>3</td>\n",
       "      <td>1</td>\n",
       "      <td>29</td>\n",
       "      <td>3</td>\n",
       "      <td>6</td>\n",
       "      <td>6</td>\n",
       "      <td>0</td>\n",
       "      <td>0</td>\n",
       "      <td>3</td>\n",
       "      <td>...</td>\n",
       "      <td>0</td>\n",
       "      <td>0</td>\n",
       "      <td>1</td>\n",
       "      <td>0</td>\n",
       "      <td>0</td>\n",
       "      <td>0</td>\n",
       "      <td>1</td>\n",
       "      <td>0</td>\n",
       "      <td>red</td>\n",
       "      <td>red</td>\n",
       "    </tr>\n",
       "    <tr>\n",
       "      <th>2</th>\n",
       "      <td>Algeria</td>\n",
       "      <td>4</td>\n",
       "      <td>1</td>\n",
       "      <td>2388</td>\n",
       "      <td>20</td>\n",
       "      <td>8</td>\n",
       "      <td>2</td>\n",
       "      <td>2</td>\n",
       "      <td>0</td>\n",
       "      <td>3</td>\n",
       "      <td>...</td>\n",
       "      <td>0</td>\n",
       "      <td>0</td>\n",
       "      <td>1</td>\n",
       "      <td>1</td>\n",
       "      <td>0</td>\n",
       "      <td>0</td>\n",
       "      <td>0</td>\n",
       "      <td>0</td>\n",
       "      <td>green</td>\n",
       "      <td>white</td>\n",
       "    </tr>\n",
       "    <tr>\n",
       "      <th>5</th>\n",
       "      <td>Angola</td>\n",
       "      <td>4</td>\n",
       "      <td>2</td>\n",
       "      <td>1247</td>\n",
       "      <td>7</td>\n",
       "      <td>10</td>\n",
       "      <td>5</td>\n",
       "      <td>0</td>\n",
       "      <td>2</td>\n",
       "      <td>3</td>\n",
       "      <td>...</td>\n",
       "      <td>0</td>\n",
       "      <td>0</td>\n",
       "      <td>1</td>\n",
       "      <td>0</td>\n",
       "      <td>0</td>\n",
       "      <td>1</td>\n",
       "      <td>0</td>\n",
       "      <td>0</td>\n",
       "      <td>red</td>\n",
       "      <td>black</td>\n",
       "    </tr>\n",
       "    <tr>\n",
       "      <th>8</th>\n",
       "      <td>Argentina</td>\n",
       "      <td>2</td>\n",
       "      <td>3</td>\n",
       "      <td>2777</td>\n",
       "      <td>28</td>\n",
       "      <td>2</td>\n",
       "      <td>0</td>\n",
       "      <td>0</td>\n",
       "      <td>3</td>\n",
       "      <td>2</td>\n",
       "      <td>...</td>\n",
       "      <td>0</td>\n",
       "      <td>0</td>\n",
       "      <td>0</td>\n",
       "      <td>0</td>\n",
       "      <td>0</td>\n",
       "      <td>0</td>\n",
       "      <td>0</td>\n",
       "      <td>0</td>\n",
       "      <td>blue</td>\n",
       "      <td>blue</td>\n",
       "    </tr>\n",
       "    <tr>\n",
       "      <th>...</th>\n",
       "      <td>...</td>\n",
       "      <td>...</td>\n",
       "      <td>...</td>\n",
       "      <td>...</td>\n",
       "      <td>...</td>\n",
       "      <td>...</td>\n",
       "      <td>...</td>\n",
       "      <td>...</td>\n",
       "      <td>...</td>\n",
       "      <td>...</td>\n",
       "      <td>...</td>\n",
       "      <td>...</td>\n",
       "      <td>...</td>\n",
       "      <td>...</td>\n",
       "      <td>...</td>\n",
       "      <td>...</td>\n",
       "      <td>...</td>\n",
       "      <td>...</td>\n",
       "      <td>...</td>\n",
       "      <td>...</td>\n",
       "      <td>...</td>\n",
       "    </tr>\n",
       "    <tr>\n",
       "      <th>188</th>\n",
       "      <td>Vietnam</td>\n",
       "      <td>5</td>\n",
       "      <td>1</td>\n",
       "      <td>333</td>\n",
       "      <td>60</td>\n",
       "      <td>10</td>\n",
       "      <td>6</td>\n",
       "      <td>0</td>\n",
       "      <td>0</td>\n",
       "      <td>2</td>\n",
       "      <td>...</td>\n",
       "      <td>0</td>\n",
       "      <td>0</td>\n",
       "      <td>1</td>\n",
       "      <td>0</td>\n",
       "      <td>0</td>\n",
       "      <td>0</td>\n",
       "      <td>0</td>\n",
       "      <td>0</td>\n",
       "      <td>red</td>\n",
       "      <td>red</td>\n",
       "    </tr>\n",
       "    <tr>\n",
       "      <th>190</th>\n",
       "      <td>Yugoslavia</td>\n",
       "      <td>3</td>\n",
       "      <td>1</td>\n",
       "      <td>256</td>\n",
       "      <td>22</td>\n",
       "      <td>6</td>\n",
       "      <td>6</td>\n",
       "      <td>0</td>\n",
       "      <td>3</td>\n",
       "      <td>4</td>\n",
       "      <td>...</td>\n",
       "      <td>0</td>\n",
       "      <td>0</td>\n",
       "      <td>1</td>\n",
       "      <td>0</td>\n",
       "      <td>0</td>\n",
       "      <td>0</td>\n",
       "      <td>0</td>\n",
       "      <td>0</td>\n",
       "      <td>blue</td>\n",
       "      <td>red</td>\n",
       "    </tr>\n",
       "    <tr>\n",
       "      <th>191</th>\n",
       "      <td>Zaire</td>\n",
       "      <td>4</td>\n",
       "      <td>2</td>\n",
       "      <td>905</td>\n",
       "      <td>28</td>\n",
       "      <td>10</td>\n",
       "      <td>5</td>\n",
       "      <td>0</td>\n",
       "      <td>0</td>\n",
       "      <td>4</td>\n",
       "      <td>...</td>\n",
       "      <td>0</td>\n",
       "      <td>0</td>\n",
       "      <td>0</td>\n",
       "      <td>0</td>\n",
       "      <td>0</td>\n",
       "      <td>1</td>\n",
       "      <td>1</td>\n",
       "      <td>0</td>\n",
       "      <td>green</td>\n",
       "      <td>green</td>\n",
       "    </tr>\n",
       "    <tr>\n",
       "      <th>192</th>\n",
       "      <td>Zambia</td>\n",
       "      <td>4</td>\n",
       "      <td>2</td>\n",
       "      <td>753</td>\n",
       "      <td>6</td>\n",
       "      <td>10</td>\n",
       "      <td>5</td>\n",
       "      <td>3</td>\n",
       "      <td>0</td>\n",
       "      <td>4</td>\n",
       "      <td>...</td>\n",
       "      <td>0</td>\n",
       "      <td>0</td>\n",
       "      <td>0</td>\n",
       "      <td>0</td>\n",
       "      <td>0</td>\n",
       "      <td>0</td>\n",
       "      <td>1</td>\n",
       "      <td>0</td>\n",
       "      <td>green</td>\n",
       "      <td>brown</td>\n",
       "    </tr>\n",
       "    <tr>\n",
       "      <th>193</th>\n",
       "      <td>Zimbabwe</td>\n",
       "      <td>4</td>\n",
       "      <td>2</td>\n",
       "      <td>391</td>\n",
       "      <td>8</td>\n",
       "      <td>10</td>\n",
       "      <td>5</td>\n",
       "      <td>0</td>\n",
       "      <td>7</td>\n",
       "      <td>5</td>\n",
       "      <td>...</td>\n",
       "      <td>0</td>\n",
       "      <td>0</td>\n",
       "      <td>1</td>\n",
       "      <td>0</td>\n",
       "      <td>1</td>\n",
       "      <td>1</td>\n",
       "      <td>1</td>\n",
       "      <td>0</td>\n",
       "      <td>green</td>\n",
       "      <td>green</td>\n",
       "    </tr>\n",
       "  </tbody>\n",
       "</table>\n",
       "<p>138 rows × 30 columns</p>\n",
       "</div>"
      ],
      "text/plain": [
       "            name  landmass  zone  area  population  language  religion  bars  \\\n",
       "0    Afghanistan         5     1   648          16        10         2     0   \n",
       "1        Albania         3     1    29           3         6         6     0   \n",
       "2        Algeria         4     1  2388          20         8         2     2   \n",
       "5         Angola         4     2  1247           7        10         5     0   \n",
       "8      Argentina         2     3  2777          28         2         0     0   \n",
       "..           ...       ...   ...   ...         ...       ...       ...   ...   \n",
       "188      Vietnam         5     1   333          60        10         6     0   \n",
       "190   Yugoslavia         3     1   256          22         6         6     0   \n",
       "191        Zaire         4     2   905          28        10         5     0   \n",
       "192       Zambia         4     2   753           6        10         5     3   \n",
       "193     Zimbabwe         4     2   391           8        10         5     0   \n",
       "\n",
       "     stripes  colours  ...  saltires  quarters  sunstars  crescent  triangle  \\\n",
       "0          3        5  ...         0         0         1         0         0   \n",
       "1          0        3  ...         0         0         1         0         0   \n",
       "2          0        3  ...         0         0         1         1         0   \n",
       "5          2        3  ...         0         0         1         0         0   \n",
       "8          3        2  ...         0         0         0         0         0   \n",
       "..       ...      ...  ...       ...       ...       ...       ...       ...   \n",
       "188        0        2  ...         0         0         1         0         0   \n",
       "190        3        4  ...         0         0         1         0         0   \n",
       "191        0        4  ...         0         0         0         0         0   \n",
       "192        0        4  ...         0         0         0         0         0   \n",
       "193        7        5  ...         0         0         1         0         1   \n",
       "\n",
       "     icon  animate text  topleft  botright  \n",
       "0       1        0    0    black     green  \n",
       "1       0        1    0      red       red  \n",
       "2       0        0    0    green     white  \n",
       "5       1        0    0      red     black  \n",
       "8       0        0    0     blue      blue  \n",
       "..    ...      ...  ...      ...       ...  \n",
       "188     0        0    0      red       red  \n",
       "190     0        0    0     blue       red  \n",
       "191     1        1    0    green     green  \n",
       "192     0        1    0    green     brown  \n",
       "193     1        1    0    green     green  \n",
       "\n",
       "[138 rows x 30 columns]"
      ]
     },
     "execution_count": 14,
     "metadata": {},
     "output_type": "execute_result"
    }
   ],
   "source": [
    "new_flag.dropna(inplace=True)\n",
    "new_flag # Here, `dropna()` function has been used with the `inplace=True` argument to ensure that all missing values are \n",
    "# dropped from this `flag` dataset."
   ]
  },
  {
   "cell_type": "markdown",
   "id": "4508d967",
   "metadata": {},
   "source": [
    "To check the null values, the `isnull()` and `values.any()` functions are applied. As a result, `False` is highlighted as the evidence of not having any missing values in the output."
   ]
  },
  {
   "cell_type": "code",
   "execution_count": 15,
   "id": "3dfac646",
   "metadata": {},
   "outputs": [
    {
     "data": {
      "text/plain": [
       "False"
      ]
     },
     "execution_count": 15,
     "metadata": {},
     "output_type": "execute_result"
    }
   ],
   "source": [
    "new_flag.isnull().values.any() "
   ]
  },
  {
   "cell_type": "markdown",
   "id": "b1d51dcf",
   "metadata": {},
   "source": [
    "## Task 2: Data Exploration"
   ]
  },
  {
   "cell_type": "markdown",
   "id": "1d09c11b",
   "metadata": {},
   "source": [
    "## 1. Pie chart"
   ]
  },
  {
   "cell_type": "markdown",
   "id": "9134d244",
   "metadata": {},
   "source": [
    "Here,`value.counts()` function has been used for the `botright` variable and different kinds of values have obtained from the output pane which are highlighting as red, green, blue, white, black, gold, orange, brown values and this values observation numbers are 50, 30, 28,  12, 9, 7, 1, 1 respectively."
   ]
  },
  {
   "cell_type": "code",
   "execution_count": 16,
   "id": "985d3c18",
   "metadata": {},
   "outputs": [
    {
     "data": {
      "text/plain": [
       "red       50\n",
       "green     30\n",
       "blue      28\n",
       "white     12\n",
       "black      9\n",
       "gold       7\n",
       "orange     1\n",
       "brown      1\n",
       "Name: botright, dtype: int64"
      ]
     },
     "execution_count": 16,
     "metadata": {},
     "output_type": "execute_result"
    }
   ],
   "source": [
    "new_flag['botright'].value_counts()"
   ]
  },
  {
   "cell_type": "markdown",
   "id": "91a95a97",
   "metadata": {},
   "source": [
    "Here, the libraries numpy, matplotlib and matplotlib.pyplot are imported as np, mpl and plt respectively to explore the pie plot. In this pie plot, all the values of the `botright` variable are subsetted using `array()` function which is added with the numpy and character as the all values are showing character attributes and all these have been defined by `botright_values` object.Again, the `botright_value_counts` object is made by applying the `array()` function which is added with the numpy and  highlighted all the observation numbers orderly for all values of the `botright` variable. Apart from this, different types of colours have been used in order using the `colors` object. Here, the `porcent` object has been generated to get all the observation numbers' percentage accurately. After that, the `plt.pie()` function is applied to obtained the perfect pie plot which is accumulated with the `startangle=90` by defining every slice is rotated counter-clockwise with the 90 degrees, and the first slice starts on the positive y-axis and the radius parameter which is highllighted as 1.2 in the output pane. Here, `labels` object is used by highlighting this claculation `{0} - {1:1.2f} %` to get all values auto percentages and `format()` function has been used for i and j which are mentioning by zipping with the `botright_values` and `porcent` respectively. Here, `sort_legend=True` argument has been used to keep the legend in orderwise and `dummy` object is used by applying the `zip()` function to preserve all the same properties where `key=lamda` and `reverse=True` arguments are highlighted. Additionally, the `plt.legend()` function is applied  by representing the `fontsize`, `loc`, and `bbox_to_anchor` arguments where the fontsize is 15, the loc parameter specifies in which corner of the bounding box(bbox) legend will be placed and the default for loc is `loc= best` which gives unpredictable results when the `bbox_to_anchor` argument is used where the default for `bbox_to_anchor=(-0.1,1.)` is mentioning a bounding box over the complete axes. According to the comparing of the values proportion,red, green, blue, white, black, gold, orange, brown values are showing '36.23%', '21.74%', '20.29%', '8.70%', '6.52%', '5.07%', '0.72' and '0.72%' respectively from the following pie chart. Finally, the `plt.title()` function has been used to highlight the title name of the pie chart which named as `new_flag_botright_Info` and the `plt.savefig()` function is used to save the pie chart figure appropriately which are highlighted in the output pane. As it is a circular statistical graph, it does not have any x-axis and y-axis."
   ]
  },
  {
   "cell_type": "code",
   "execution_count": 17,
   "id": "10982934",
   "metadata": {},
   "outputs": [
    {
     "data": {
      "image/png": "[encoded data removed]",
      "text/plain": [
       "<Figure size 432x288 with 1 Axes>"
      ]
     },
     "metadata": {},
     "output_type": "display_data"
    }
   ],
   "source": [
    "import numpy as np\n",
    "import matplotlib as mpl \n",
    "import matplotlib.pyplot as plt\n",
    "\n",
    "botright_values = np.char.array(['red','green','blue','white','black','gold','orange','brown'])\n",
    "botright_value_counts= np.array([50, 30, 28, 12, 9, 7, 1, 1])\n",
    "colors = ['red','green','blue','lightgrey','black','gold','orange','brown']\n",
    "porcent = 100.*botright_value_counts/botright_value_counts.sum()\n",
    "\n",
    "patches, text = plt.pie(botright_value_counts, colors=colors, startangle=90, radius=1.2)\n",
    "labels = ['{0} - {1:1.2f} %'.format(i,j) for i,j in zip(botright_values, porcent)]\n",
    "\n",
    "sort_legend = True\n",
    "if sort_legend:\n",
    "    patches, labels, dummy =  zip(*sorted(zip(patches, labels,botright_value_counts),\n",
    "                                          key=lambda botright_values: botright_values[2],\n",
    "                                          reverse=True))\n",
    "\n",
    "plt.legend(patches,labels, loc='best', bbox_to_anchor=(-0.1, 1.),\n",
    "           fontsize=15)\n",
    "plt.title('new_flag_botright_Info')\n",
    "plt.savefig('piechart.png', bbox_inches='tight')\n",
    "# https://matplotlib.org/stable/api/_as_gen/matplotlib.pyplot.pie.html"
   ]
  },
  {
   "cell_type": "markdown",
   "id": "5267f375",
   "metadata": {},
   "source": [
    "## 2. Bar chart"
   ]
  },
  {
   "cell_type": "markdown",
   "id": "b68eeb0a",
   "metadata": {},
   "source": [
    "Here, the libraries pandas, matplotlib and matplotlib.pyplot are imported as pd, mpl and plt respectively to explore the bar plot."
   ]
  },
  {
   "cell_type": "code",
   "execution_count": 18,
   "id": "f0de317f",
   "metadata": {},
   "outputs": [],
   "source": [
    "import pandas as pd\n",
    "import matplotlib as mpl \n",
    "import matplotlib.pyplot as plt"
   ]
  },
  {
   "cell_type": "markdown",
   "id": "924c7b79",
   "metadata": {},
   "source": [
    "Here,`value.counts()` function has been used for the `mainhue` variable and different kinds of values have obtained from the output pane which are highlighting as red, green, blue, white, gold, black, orange, brown values and this values observation numbers are 56, 24, 21,  14, 13, 5, 4, 1 respectively."
   ]
  },
  {
   "cell_type": "code",
   "execution_count": 19,
   "id": "bd068124",
   "metadata": {},
   "outputs": [
    {
     "data": {
      "text/plain": [
       "red       56\n",
       "green     24\n",
       "blue      21\n",
       "white     14\n",
       "gold      13\n",
       "black      5\n",
       "orange     4\n",
       "brown      1\n",
       "Name: mainhue, dtype: int64"
      ]
     },
     "execution_count": 19,
     "metadata": {},
     "output_type": "execute_result"
    }
   ],
   "source": [
    "new_flag['mainhue'].value_counts() "
   ]
  },
  {
   "cell_type": "markdown",
   "id": "e1e563c3",
   "metadata": {},
   "source": [
    "To generate this bar plot, the `mainhue` variable which is categorical and subsetted with the `new_flag` dataset as well as added with the `value.counts()` function where 'X' object has been made with those functions. After that,the `plot()` function has been applied using the various argument such as kind='bar',figsize=(10,8) and fontsize=(15) to get the appropriate bar plot. Here, the `plt.title()`,`plt.xlabel()`, `plt.ylabel()`, `plt.grid()` and `plt.legend()` functions have been used to get the title of the barplot as `flag_mainhue-Info`, xlabel as `mainhue`, ylabel as `count`, background of the barplot as `grid`, and the legend which explores the symbol of the colours of the bars respectively. Apart from this, the `plt.show()`function is applied to demonstrate the bar plot adequately. From this barplot, it is represented that the number of the `red` value of the `mainhue` variable is cpmparatively higher than the other values which is shown over `50` where `brown` value is showing it's lowest demonstration in this bar plot."
   ]
  },
  {
   "cell_type": "code",
   "execution_count": 20,
   "id": "bdace3c6",
   "metadata": {},
   "outputs": [
    {
     "data": {
      "image/png": "[encoded data removed]",
      "text/plain": [
       "<Figure size 720x576 with 1 Axes>"
      ]
     },
     "metadata": {
      "needs_background": "light"
     },
     "output_type": "display_data"
    }
   ],
   "source": [
    "X = new_flag['mainhue'].value_counts()\n",
    "X.plot(kind='bar',figsize=(10,8), fontsize=(15),color='purple')\n",
    "plt.title('new_flag_mainhue-Info')\n",
    "plt.xlabel('mainhue')\n",
    "plt.ylabel('count')\n",
    "plt.grid()\n",
    "plt.legend()\n",
    "plt.show()\n",
    "# https://www.analyticsvidhya.com/blog/2021/08/understanding-bar-plots-in-python-beginners-guide-to-data-visualization/"
   ]
  },
  {
   "cell_type": "markdown",
   "id": "9c215f87",
   "metadata": {},
   "source": [
    "## 3. Histogram"
   ]
  },
  {
   "cell_type": "markdown",
   "id": "84416eb4",
   "metadata": {},
   "source": [
    "To check the number of the values, the `value_counts()` function is used for the `language` variable of the `new_flag` dataset. As an output, various numbers of the values have been found for the `language` variable such as 10,2,6,8,1,3,4,5,7,9 and which are named as 1=English, 2=Spanish, 3=French, 4=German, 5=Slavic, 6=Other Indo-European, 7=Chinese, 8=Arabic, 9=Japanese/Turkish/Finnish/Magyar, 10=Others."
   ]
  },
  {
   "cell_type": "code",
   "execution_count": 21,
   "id": "6dd08bd6",
   "metadata": {},
   "outputs": [
    {
     "data": {
      "text/plain": [
       "10    38\n",
       "2     21\n",
       "6     19\n",
       "8     17\n",
       "1     15\n",
       "3     12\n",
       "4      4\n",
       "5      4\n",
       "7      4\n",
       "9      4\n",
       "Name: language, dtype: int64"
      ]
     },
     "execution_count": 21,
     "metadata": {},
     "output_type": "execute_result"
    }
   ],
   "source": [
    "new_flag['language'].value_counts() "
   ]
  },
  {
   "cell_type": "markdown",
   "id": "f0c6b1d0",
   "metadata": {},
   "source": [
    "Here, the libraries pandas, matplotlib and matplotlib.pyplot are imported as pd, mpl and plt respectively to explore the plot. In the following histogram plot,the `language` variable is subsetted with the `new_flag` dataframe where the `plot()` function is highlighting the kind of hist which means histogram and bins= 10 means 10 different range of languages.After that, the `plt.title()` function has been used to get the title name of the histogram chart which named as `new_flag-language Info` and highlighted in the output pane. Apart from this, the histogram has shown the xlabel or x-axis as `language` using the `plt.xlabel()` function whether it does not have any `ylabel` by default. Here, the `plt.legend()` function is applied to get the explicit information about the number of languages where `10` number means `other` languages frequency which is higher than the rest of the number of languages in this `new_flag` dataset. Here, the `language` variable is describing, 1=English, 2=Spanish, 3=French, 4=German, 5=Slavic, 6=Other Indo-European, 7=Chinese, 8=Arabic, 9=Japanese/Turkish/Finnish/Magyar, 10=Others. Finally, the `plt.grid()`function is used to demonstrate the background of the histogram as grid and the `plt.show()` function is applied to explore the histogram graph explicitly."
   ]
  },
  {
   "cell_type": "code",
   "execution_count": 22,
   "id": "c433d827",
   "metadata": {},
   "outputs": [
    {
     "data": {
      "image/png": "[encoded data removed]",
      "text/plain": [
       "<Figure size 432x288 with 1 Axes>"
      ]
     },
     "metadata": {
      "needs_background": "light"
     },
     "output_type": "display_data"
    }
   ],
   "source": [
    "import pandas as pd\n",
    "import matplotlib as mpl \n",
    "import matplotlib.pyplot as plt\n",
    "\n",
    "new_flag['language'].plot(kind='hist',bins= 10,fontsize=(12))\n",
    "plt.title('new_flag - language Info')\n",
    "plt.xlabel('language')\n",
    "plt.legend()\n",
    "plt.grid()\n",
    "plt.show()"
   ]
  },
  {
   "cell_type": "markdown",
   "id": "bb76035e",
   "metadata": {},
   "source": [
    "## 4. Boxplot"
   ]
  },
  {
   "cell_type": "markdown",
   "id": "06dafa6b",
   "metadata": {},
   "source": [
    "In the next step, the `value_counts()` function is used for the `religion` variable of the `new_flag` dataset. As an output, various numbers of the values have been found for the `religion` variable such as 0,1,2,3,4,5,6,7 and which are mentioned as 0=Catholic, 1=Other Christian, 2=Muslim, 3=Buddhist, 4=Hindu, 5=Ethnic, 6=Marxist, 7=Others."
   ]
  },
  {
   "cell_type": "code",
   "execution_count": 23,
   "id": "d00c6b9d",
   "metadata": {},
   "outputs": [
    {
     "data": {
      "text/plain": [
       "2    30\n",
       "0    29\n",
       "5    26\n",
       "1    22\n",
       "6    15\n",
       "3     8\n",
       "4     4\n",
       "7     4\n",
       "Name: religion, dtype: int64"
      ]
     },
     "execution_count": 23,
     "metadata": {},
     "output_type": "execute_result"
    }
   ],
   "source": [
    "new_flag['religion'].value_counts()"
   ]
  },
  {
   "cell_type": "markdown",
   "id": "284f407c",
   "metadata": {},
   "source": [
    "According to the boxplot, it will give the information about the distribution of the data. Here, the boxplot is created using the `boxplot()` function in terms of detecting the outliers of the `religion` variable of `new_flag` dataset. Apart from this, `dropna()` function has been used in the following step to double-check and to drop the missing values during this operation time. After using those above functions, it is found that there is no outlier highlighting both in the upper fence and lower fence of the boxplot. Here, the `plt.title()` function is used to generate the title `new_flag_religion-Info`whether it does not have any legend by default which are shown in the following boxplot."
   ]
  },
  {
   "cell_type": "code",
   "execution_count": 24,
   "id": "65b5bb59",
   "metadata": {},
   "outputs": [
    {
     "data": {
      "image/png": "[encoded data removed]",
      "text/plain": [
       "<Figure size 576x360 with 1 Axes>"
      ]
     },
     "metadata": {
      "needs_background": "light"
     },
     "output_type": "display_data"
    }
   ],
   "source": [
    "new_flag.dropna().boxplot(column = 'religion',figsize=(8,5), fontsize=(15))\n",
    "plt.title('new_flag_religion-Info')\n",
    "plt.show()"
   ]
  },
  {
   "cell_type": "markdown",
   "id": "f1cef128",
   "metadata": {},
   "source": [
    "## 5. Pie chart"
   ]
  },
  {
   "cell_type": "markdown",
   "id": "4b791ce1",
   "metadata": {},
   "source": [
    "Here, the `value.counts()` function has been used for the `topleft` variable of the `new_flag` dataset and different kinds of values have obtained from the output pane which are demonstrating as red, blue, green, white, black, gold, orange values and this values observation numbers are 46, 29, 26, 18, 10, 5, 4 respectively."
   ]
  },
  {
   "cell_type": "code",
   "execution_count": 25,
   "id": "c1efd50a",
   "metadata": {},
   "outputs": [
    {
     "data": {
      "text/plain": [
       "red       46\n",
       "blue      29\n",
       "green     26\n",
       "white     18\n",
       "black     10\n",
       "gold       5\n",
       "orange     4\n",
       "Name: topleft, dtype: int64"
      ]
     },
     "execution_count": 25,
     "metadata": {},
     "output_type": "execute_result"
    }
   ],
   "source": [
    "new_flag['topleft'].value_counts()"
   ]
  },
  {
   "cell_type": "markdown",
   "id": "fc1f2494",
   "metadata": {},
   "source": [
    "Here, the libraries numpy, matplotlib and matplotlib.pyplot are imported as np, mpl and plt respectively to explore the pie plot. In this pie plot, all the values of the `topleft` variable are subsetted using `array()` function which is added with the numpy and character as the all values are showing character attributes and all these have been defined by `topleft_values` object.Again, the `topleft_value_counts` object is made by applying the `array()` function which is added with the numpy and  highlighted all the observation numbers orderly for all values of the `topleft` variable. Apart from this, different types of colours have been used in order using the `colors` object. Here, the `porcent` object has been generated to get all the observation numbers' percentage accurately. After that, the `plt.pie()` function is applied to obtained the perfect pie plot which is accumulated with the `startangle=90` by defining every slice is rotated counter-clockwise with the 90 degrees, and the first slice starts on the positive y-axis and the radius parameter which is highllighted as 1.2 in the output pane. Here, `labels` object is used by highlighting this claculation `{0} - {1:1.2f} %` to get all values auto percentages and `format()` function has been used for i and j which are mentioning by zipping with the `topleft_values` and `porcent` respectively. Here, `sort_legend=True` argument has been used to keep the legend in orderwise and `dummy` object is used by applying the `zip()` function to preserve all the same properties where `key=lamda` and `reverse=True` arguments are highlighted. Additionally, the `plt.legend()` function is applied  by representing the `fontsize`, `loc`, and `bbox_to_anchor` arguments where the fontsize is 15, the loc parameter specifies in which corner of the bounding box(bbox) legend will be placed and the default for loc is `loc= best` which gives unpredictable results when the `bbox_to_anchor` argument is used where the default for `bbox_to_anchor=(-0.1,1.)` is mentioning a bounding box over the complete axes. According to the comparing of the values proportion,red, blue, white, black, gold, orange, green values are showing '33.33%', '21.01%', '18.84%', '13.04%', '7.25%', '3.62%', and '2.90%' respectively from the following pie chart. Finally, the `plt.title()` function has been used to highlight the title name of the pie chart which named as `new_flag_botright_Info` and the `plt.savefig()` function is used to save the pie chart figure appropriately which are highlighted in the output pane. As it is a circular statistical graph, it does not have any x-axis and y-axis."
   ]
  },
  {
   "cell_type": "code",
   "execution_count": 26,
   "id": "92690179",
   "metadata": {},
   "outputs": [
    {
     "data": {
      "image/png": "[encoded data removed]",
      "text/plain": [
       "<Figure size 432x288 with 1 Axes>"
      ]
     },
     "metadata": {},
     "output_type": "display_data"
    }
   ],
   "source": [
    "import numpy as np\n",
    "import matplotlib as mpl \n",
    "import matplotlib.pyplot as plt\n",
    "\n",
    "topleft_values = np.char.array(['red','blue','white','black','gold','orange','green'])\n",
    "topleft_value_counts= np.array([46, 29, 26, 18, 10, 5, 4])\n",
    "colors = ['red','blue','lightgrey','black','gold','orange','green']\n",
    "porcent = 100.*topleft_value_counts/topleft_value_counts.sum()\n",
    "\n",
    "patches, text = plt.pie(botright_value_counts, colors=colors, startangle=90, radius=1.2)\n",
    "labels = ['{0} - {1:1.2f} %'.format(i,j) for i,j in zip(topleft_values, porcent)]\n",
    "\n",
    "sort_legend = True\n",
    "if sort_legend:\n",
    "    patches, labels, dummy =  zip(*sorted(zip(patches, labels, topleft_value_counts),\n",
    "                                          key=lambda topleft_values: topleft_values[2],\n",
    "                                          reverse=True))\n",
    "\n",
    "plt.legend(patches,labels, loc='best', bbox_to_anchor=(-0.1, 1.),\n",
    "           fontsize=15)\n",
    "plt.title('new_flag_topleft-Info')\n",
    "plt.savefig('piechart.png', bbox_inches='tight')\n",
    "# https://stackoverflow.com/questions/23577505/how-to-avoid-overlapping-of-labels-autopct-in-a-matplotlib-pie-chart\n"
   ]
  },
  {
   "cell_type": "markdown",
   "id": "d8019471",
   "metadata": {},
   "source": [
    "## 6. Bar chart"
   ]
  },
  {
   "cell_type": "markdown",
   "id": "63b462ab",
   "metadata": {},
   "source": [
    "Here,the `value.counts()` function is applied for the `icon` variable of the `new_flag` dataset and only two values have found from the output pane as the numbers of `0` and `1` which are mentioning `1` if an inanimate image present (e.g., a boat), otherwise `0` "
   ]
  },
  {
   "cell_type": "code",
   "execution_count": 27,
   "id": "684adba9",
   "metadata": {},
   "outputs": [
    {
     "data": {
      "text/plain": [
       "0    110\n",
       "1     28\n",
       "Name: icon, dtype: int64"
      ]
     },
     "execution_count": 27,
     "metadata": {},
     "output_type": "execute_result"
    }
   ],
   "source": [
    "new_flag['icon'].value_counts()"
   ]
  },
  {
   "cell_type": "markdown",
   "id": "14b9e6f5",
   "metadata": {},
   "source": [
    "To generate this bar plot, the `icon` variable is subsetted with the `new_flag` dataset as well as added with the `value.counts()` function where 'X' object has been made with those functions. After that, the `plot()` function is applied using the various argument such as kind='bar',figsize=(10,8), fontsize=(15) and color= `violet` to get the appropriate bar plot. Here, the `plt.title()`,`plt.xlabel()`, `plt.ylabel()`, `plt.grid()` and `plt.legend()` functions have been used to get the title of the barplot as `new_flag_icon-Info`, xlabel as `icon`, ylabel as `count`, background of the barplot as 'grid', and the legend which explores the symbol of the colours of the bars respectively. Apart from this, the `plt.show()`function is applied to demonstrate the bar plot adequately. From this barplot, it is highlighted that the number of the `0` value of the `icon` variable is cpmparatively higher which is shown over 100 than the number of `1` value which is showing it's lowest representation by demonstrating it's figure only over 20 through the following bar plot."
   ]
  },
  {
   "cell_type": "code",
   "execution_count": 28,
   "id": "2d2d7630",
   "metadata": {},
   "outputs": [
    {
     "data": {
      "image/png": "[encoded data removed]",
      "text/plain": [
       "<Figure size 720x576 with 1 Axes>"
      ]
     },
     "metadata": {
      "needs_background": "light"
     },
     "output_type": "display_data"
    }
   ],
   "source": [
    "import numpy as np\n",
    "import matplotlib.pyplot as plt\n",
    "X = new_flag['icon'].value_counts()\n",
    "X.plot(kind='bar',figsize=(10,8), fontsize=(15),color='violet')\n",
    "plt.title('new_flag_icon-Info')\n",
    "plt.xlabel('icon')\n",
    "plt.ylabel('count')\n",
    "plt.grid()\n",
    "plt.legend() \n",
    "plt.show()"
   ]
  },
  {
   "cell_type": "markdown",
   "id": "43de2979",
   "metadata": {},
   "source": [
    "## 7. Box plot"
   ]
  },
  {
   "cell_type": "markdown",
   "id": "88381e85",
   "metadata": {},
   "source": [
    "Here,the `value.counts()` function has been used for the `colours`variable and different kinds of values have obtained from the output pane which are highlighting as the number of 3, 2, 4, 5, 7, 6, 1."
   ]
  },
  {
   "cell_type": "code",
   "execution_count": 29,
   "id": "87157c71",
   "metadata": {},
   "outputs": [
    {
     "data": {
      "text/plain": [
       "3    57\n",
       "2    34\n",
       "4    31\n",
       "5     9\n",
       "7     4\n",
       "6     2\n",
       "1     1\n",
       "Name: colours, dtype: int64"
      ]
     },
     "execution_count": 29,
     "metadata": {},
     "output_type": "execute_result"
    }
   ],
   "source": [
    "new_flag['colours'].value_counts()"
   ]
  },
  {
   "cell_type": "markdown",
   "id": "acff8ed6",
   "metadata": {},
   "source": [
    "According to the boxplot, it will give the information about the distribution of the data. Here, the boxplot is created using the `boxplot()` function in terms of detecting the outliers of the `colours` variable of the `new_flag` dataset. Apart from this, `dropna()` function has been used in the following step to double-check and to drop the missing values during the operation time. After using above those functions, it is found that one outlier is highlighting in the upper fence of the boxplot. This outlier indicates that it's value range is very inconsistent compare to the other values of the `colours` variable which is really uncountable and known as outlier. Apart from this, `3` number values are showing more colours than the other values of the `colours` varable. Here, the `plt.title()` function is used to generate the title `new_flag_colours-Info` whether it does not have any legend by default which are shown in the given boxplot."
   ]
  },
  {
   "cell_type": "code",
   "execution_count": 30,
   "id": "e270b31f",
   "metadata": {},
   "outputs": [
    {
     "data": {
      "image/png": "[encoded data removed]",
      "text/plain": [
       "<Figure size 576x360 with 1 Axes>"
      ]
     },
     "metadata": {
      "needs_background": "light"
     },
     "output_type": "display_data"
    }
   ],
   "source": [
    "new_flag.dropna().boxplot(column = 'colours',figsize=(8,5), fontsize=(15))\n",
    "plt.title('new_flag_colours-Info')\n",
    "plt.show() "
   ]
  },
  {
   "cell_type": "markdown",
   "id": "7ad98b6b",
   "metadata": {},
   "source": [
    "## 8. Histogram"
   ]
  },
  {
   "cell_type": "markdown",
   "id": "e60cea1e",
   "metadata": {},
   "source": [
    "In the next step, the `value_counts()` function is used for the `landmass`  variable of the `new_flag` dataset. As an output, various numbers of the values have been found for the `landmass` variable such as 4,5,3,2,1,6 and which are mentioned as 1=N.America, 2=S.America, 3=Europe, 4=Africa, 5=Asia, 6=Oceania."
   ]
  },
  {
   "cell_type": "code",
   "execution_count": 31,
   "id": "2b899e22",
   "metadata": {},
   "outputs": [
    {
     "data": {
      "text/plain": [
       "4    45\n",
       "5    35\n",
       "3    25\n",
       "2    14\n",
       "1    13\n",
       "6     6\n",
       "Name: landmass, dtype: int64"
      ]
     },
     "execution_count": 31,
     "metadata": {},
     "output_type": "execute_result"
    }
   ],
   "source": [
    "new_flag['landmass'].value_counts()"
   ]
  },
  {
   "cell_type": "markdown",
   "id": "91a545d0",
   "metadata": {},
   "source": [
    " Here, the libraries pandas, matplotlib and matplotlib.pyplot are imported as pd, mpl and plt respectively to explore the plot. In the following histogram graph,the `language` variable is subsetted with the `new_flag` dataframe where the `plot()` function is highlighting the kind of hist which means histogram and bins= 8 means 8 different range of `landmass`.After that, the the `plt.title()` function has been used to get the title name of the histogram chart which named as `new_flag-language Info` and highlighted in the output pane. Apart from this, the histogram has shown the xlabel or x-axis as `landmass` using the `plt.xlabel()` function whether it does not have any ylabel by default.Here, the `plt.legend()` function is applied to get the explicit information about the number of landmass where `4` number value's frequency is higher compare to the rest of the number of landmass in this `new_flag` dataset as the `landmass`variable is describing, 1=N.America, 2=S.America, 3=Europe, 4=Africa, 5=Asia, 6=Oceania. Finally, the `plt.grid()` and `plt.show()` functions are applied to demonstrate the background as grid and to show the histogram graph appropriately."
   ]
  },
  {
   "cell_type": "code",
   "execution_count": 32,
   "id": "a71f86f2",
   "metadata": {},
   "outputs": [
    {
     "data": {
      "image/png": "[encoded data removed]",
      "text/plain": [
       "<Figure size 432x288 with 1 Axes>"
      ]
     },
     "metadata": {
      "needs_background": "light"
     },
     "output_type": "display_data"
    }
   ],
   "source": [
    "import pandas as pd\n",
    "import matplotlib as mpl \n",
    "import matplotlib.pyplot as plt\n",
    "\n",
    "new_flag['landmass'].plot(kind='hist',bins= 8,fontsize=(12))\n",
    "plt.title('new_flag - landmass Info')\n",
    "plt.xlabel('landmass')\n",
    "plt.legend()\n",
    "plt.grid()\n",
    "plt.show()"
   ]
  },
  {
   "cell_type": "markdown",
   "id": "f600f877",
   "metadata": {},
   "source": [
    "## 9. Bar plot"
   ]
  },
  {
   "cell_type": "markdown",
   "id": "39784f78",
   "metadata": {},
   "source": [
    "Here, the `value.counts()` function is applied for the `triangle` variable of the `new_flag` dataset and only two values are found from the output pane as the numbers of `0` and `1` which are mentioning if any triangle present, it will be `1` otherwise it will be `0`."
   ]
  },
  {
   "cell_type": "code",
   "execution_count": 33,
   "id": "fe9951d7",
   "metadata": {},
   "outputs": [
    {
     "data": {
      "text/plain": [
       "0    123\n",
       "1     15\n",
       "Name: triangle, dtype: int64"
      ]
     },
     "execution_count": 33,
     "metadata": {},
     "output_type": "execute_result"
    }
   ],
   "source": [
    "new_flag['triangle'].value_counts()"
   ]
  },
  {
   "cell_type": "markdown",
   "id": "2fb68a0a",
   "metadata": {},
   "source": [
    "To generate this bar plot, the `triangle` variable is subsetted with the `new_flag` dataset as well as added with the `value.counts()` function where 'X' object has been made with those functions. After that, the `plot()` function is applied using the various argument such as kind='bar',figsize=(10,8), fontsize=(15) and color='deeppink' to get the appropriate bar plot. Here, the `plt.title()`,`plt.xlabel()`, `plt.ylabel()`, `plt.grid()` and `plt.legend()` functions have been used to get the title of the barplot as `new_flag_triangle-Info`, xlabel as `triangle`, ylabel as `count`, background of the barplot as `grid`, and the legend which explores the symbol of the colours of the bars respectively. Apart from this, the `plt.show()` function is applied to demonstrate the bar plot adequately. From this barplot, it is represented that the number of the `0` value of the `triangle` variable is cpmparatively higher which is shown over 120 than the number of `1` value which is showing it's lowest representation by demonstrating it's figure only over 10 through the following bar plot."
   ]
  },
  {
   "cell_type": "code",
   "execution_count": 34,
   "id": "5ffa44d9",
   "metadata": {},
   "outputs": [
    {
     "data": {
      "image/png": "[encoded data removed]",
      "text/plain": [
       "<Figure size 720x576 with 1 Axes>"
      ]
     },
     "metadata": {
      "needs_background": "light"
     },
     "output_type": "display_data"
    }
   ],
   "source": [
    "import numpy as np\n",
    "import matplotlib.pyplot as plt\n",
    "X = new_flag['triangle'].value_counts()\n",
    "X.plot(kind='bar',figsize=(10,8), fontsize=(15), color='deeppink')\n",
    "plt.title('new_flag_triangle-Info')\n",
    "plt.xlabel('triangle')\n",
    "plt.ylabel('count')\n",
    "plt.grid()\n",
    "plt.legend() \n",
    "plt.show()"
   ]
  },
  {
   "cell_type": "markdown",
   "id": "f8dc19af",
   "metadata": {},
   "source": [
    "## 10. Countplot(Bar plot)"
   ]
  },
  {
   "cell_type": "markdown",
   "id": "e59a257c",
   "metadata": {},
   "source": [
    "In the next step, the `value_counts()` function is used for the `zone` variable of the `new_flag` dataset. As an output, few numbers of the values have been found for the `zone` variable such as 1,4,2,3 and which are mentioned as 1=NE, 2=SE, 3=SW, 4=NW."
   ]
  },
  {
   "cell_type": "code",
   "execution_count": 35,
   "id": "b0e3d026",
   "metadata": {},
   "outputs": [
    {
     "data": {
      "text/plain": [
       "1    73\n",
       "4    34\n",
       "2    22\n",
       "3     9\n",
       "Name: zone, dtype: int64"
      ]
     },
     "execution_count": 35,
     "metadata": {},
     "output_type": "execute_result"
    }
   ],
   "source": [
    "new_flag['zone'].value_counts()"
   ]
  },
  {
   "cell_type": "markdown",
   "id": "63e106e7",
   "metadata": {},
   "source": [
    "Here, the libraries seaborn, numpy, matplotlib.pyplot are imported as sns, np and plt respectively to explore the plot.As the count plot is one of the bar plot, therefore to generate this bar plot, the `zone` variable is subsetted with the `new_flag` dataset. Here, the `countplot()` function has been used with the seaborn package. Apart from this, the `plt.figure()`, `plt.title()`, `plt.xlabel()`, and `plt.ylabel()` functions are applied where figsize are x-axis=10 and y-axis=5, the title name of the plot is `new_flag_zone & saltires-Info`, xlabel as `zone` and ylabel as `count`respectively whether it does not have any `legend` by default. Apart from this, the `plt.show()`function has been used to demonstrate the count plot adequately. From this count plot, it is represented that zone number `1` which means north east(NE) zone is higher than the other zone of the flag dataset which is highlighted over the number of 70 where `3` number value is showing it's lowest demonstration in this bar plot or count plot."
   ]
  },
  {
   "cell_type": "markdown",
   "id": "37a9808e",
   "metadata": {},
   "source": [
    "The `countplot` is one of the bar plot. Here, `plt.legend()` is not giving any result by default. In this countplot, no.`1` zone is shown "
   ]
  },
  {
   "cell_type": "code",
   "execution_count": 36,
   "id": "6cf3630a",
   "metadata": {},
   "outputs": [
    {
     "data": {
      "image/png": "[encoded data removed]",
      "text/plain": [
       "<Figure size 720x360 with 1 Axes>"
      ]
     },
     "metadata": {
      "needs_background": "light"
     },
     "output_type": "display_data"
    }
   ],
   "source": [
    "import seaborn as sns\n",
    "import numpy as np\n",
    "import matplotlib.pyplot as plt\n",
    "import warnings\n",
    "warnings.filterwarnings('ignore') # As the error message is highlighted here, the `warnings` is imported and error message \n",
    "# has been removed using the `filterwarnings('ignore')` function.\n",
    "\n",
    "plt.figure(figsize=(10, 5))\n",
    "sns.countplot(new_flag['zone'])\n",
    "plt.title('new_flag_zone-Info')\n",
    "plt.xlabel('zone')\n",
    "plt.ylabel('count')\n",
    "plt.show() "
   ]
  },
  {
   "cell_type": "markdown",
   "id": "8a201a43",
   "metadata": {},
   "source": [
    "## Task 2(Subtask 2): The relationships between columns"
   ]
  },
  {
   "cell_type": "markdown",
   "id": "a16400cd",
   "metadata": {},
   "source": [
    "### Relationship no.1"
   ]
  },
  {
   "cell_type": "markdown",
   "id": "2bed903d",
   "metadata": {},
   "source": [
    "In the next step, the `value_counts()` function is used for the `landmass` variable of the `new_flag` dataset. As an output, various numbers of the values have been found for the landmass variable such as 4,5,3,2,1,6 and which are mentioned as 1=N.America, 2=S.America, 3=Europe, 4=Africa, 5=Asia, 6=Oceania."
   ]
  },
  {
   "cell_type": "code",
   "execution_count": 37,
   "id": "d151e365",
   "metadata": {},
   "outputs": [
    {
     "data": {
      "text/plain": [
       "4    45\n",
       "5    35\n",
       "3    25\n",
       "2    14\n",
       "1    13\n",
       "6     6\n",
       "Name: landmass, dtype: int64"
      ]
     },
     "execution_count": 37,
     "metadata": {},
     "output_type": "execute_result"
    }
   ],
   "source": [
    "new_flag['landmass'].value_counts()"
   ]
  },
  {
   "cell_type": "markdown",
   "id": "a87331c4",
   "metadata": {},
   "source": [
    "Here, the value.counts() function has been used for the topleft variable of the new_flag dataset and different kinds of values have obtained from the output pane which are demonstrating as red, blue, green, white, black, gold, orange values and this values observation numbers are 46, 29, 26, 18, 10, 5, 4 respectively."
   ]
  },
  {
   "cell_type": "code",
   "execution_count": 38,
   "id": "6136a1ff",
   "metadata": {},
   "outputs": [
    {
     "data": {
      "text/plain": [
       "red       46\n",
       "blue      29\n",
       "green     26\n",
       "white     18\n",
       "black     10\n",
       "gold       5\n",
       "orange     4\n",
       "Name: topleft, dtype: int64"
      ]
     },
     "execution_count": 38,
     "metadata": {},
     "output_type": "execute_result"
    }
   ],
   "source": [
    "new_flag['topleft'].value_counts()"
   ]
  },
  {
   "cell_type": "markdown",
   "id": "57850284",
   "metadata": {},
   "source": [
    "According to the boxplot, it will give the information about the distribution of the data. Here, the boxplot is created using the `boxplot()` function to detect the outliers of the `topleft` variable of the `new_flag` dataset as well as the boxplot is generated in terms of the `landmass` by `topleft` where the `landmass` is plotting onto the `topleft` and seven groups of colours have been formed with the black, blue, gold, green, orange, red and white using the groupby effectively. Apart from this, `dropna()` function has been used in the below step to double-check and to drop the missing values during the operation time. After using those above functions, it is found that few groups of colours are showing their outliers in both the upper and lower fence which are known as `gold` and `green`. Here, these `gold` and `green` colours groups are shown flat plot instead of boxplot because of their all number of values inconsistency with the other groups of colours' values which are highlighting in the following figure. In this case, `black` group is also highlighted it's one outlier in the lower fence which indicates it's value ranges inconsistency compare to the other values of the colours which is really uncountable and known as outlier. However, according to the median explanation, `red` colours group is demonstrated more in the landmass than the other groups of colours which is found from the following boxplots. Here, the `plt.title()`, `plt.xlabel()` and `plt.ylabel()` functions are applied to form the title `new_flag_landmass & topleft-relation`, x-axis `topleft`' and y-axis`landmass` whether it does not have any legend by default which are represented in the given boxplot."
   ]
  },
  {
   "cell_type": "code",
   "execution_count": 39,
   "id": "773738ce",
   "metadata": {},
   "outputs": [
    {
     "data": {
      "image/png": "[encoded data removed]",
      "text/plain": [
       "<Figure size 576x360 with 1 Axes>"
      ]
     },
     "metadata": {
      "needs_background": "light"
     },
     "output_type": "display_data"
    }
   ],
   "source": [
    "new_flag.dropna().boxplot(column = 'landmass', by = 'topleft', figsize=(8,5), fontsize=(15))\n",
    "plt.title('new_flag_landmass & topleft-relation')\n",
    "plt.xlabel('topleft')\n",
    "plt.ylabel('landmass')\n",
    "plt.show()"
   ]
  },
  {
   "cell_type": "markdown",
   "id": "74911c8c",
   "metadata": {},
   "source": [
    "### Relationship no.2"
   ]
  },
  {
   "cell_type": "markdown",
   "id": "b4981cf4",
   "metadata": {},
   "source": [
    "In the next step, the `value_counts()` function is used for the `zone` variable of the `new_flag` dataset. As an output, few numbers of the values have been found for the `zone` variable such as 1,4,2,3 and which are mentioned as 1=NE, 2=SE, 3=SW, 4=NW."
   ]
  },
  {
   "cell_type": "code",
   "execution_count": 40,
   "id": "e1947227",
   "metadata": {},
   "outputs": [
    {
     "data": {
      "text/plain": [
       "1    73\n",
       "4    34\n",
       "2    22\n",
       "3     9\n",
       "Name: zone, dtype: int64"
      ]
     },
     "execution_count": 40,
     "metadata": {},
     "output_type": "execute_result"
    }
   ],
   "source": [
    "new_flag['zone'].value_counts()"
   ]
  },
  {
   "cell_type": "code",
   "execution_count": 41,
   "id": "5e462c8a",
   "metadata": {},
   "outputs": [],
   "source": [
    "colors_palette = {1:'red', 4:'green', 2:'blue', 3:'yellow'}\n",
    "# To find the color for each number of zone, different colors have been entitled with the different number of zone and\n",
    "# made an object as `colors_palette`."
   ]
  },
  {
   "cell_type": "markdown",
   "id": "21390b8e",
   "metadata": {},
   "source": [
    "This `colors_palette` object has been subsetted with the `integer_label` and operated with the other subsetted function \n",
    "named as `new_flag['zone']` to find the color for each number of zones where 'colors' is defined as object."
   ]
  },
  {
   "cell_type": "code",
   "execution_count": 42,
   "id": "f4a7f98a",
   "metadata": {},
   "outputs": [],
   "source": [
    "colors = [colors_palette[integer_label] \n",
    "          for integer_label in new_flag['zone']]"
   ]
  },
  {
   "cell_type": "markdown",
   "id": "740d65c3",
   "metadata": {},
   "source": [
    "Here,the `value.counts()` function has been used for the `stripes` variable and different kinds of values have obtained from the output pane which are highlighting as the number of 0,3,2,5,9,4,6,7,11,13,14."
   ]
  },
  {
   "cell_type": "code",
   "execution_count": 43,
   "id": "81285909",
   "metadata": {},
   "outputs": [
    {
     "data": {
      "text/plain": [
       "0     70\n",
       "3     38\n",
       "2     11\n",
       "5     11\n",
       "9      2\n",
       "4      1\n",
       "6      1\n",
       "7      1\n",
       "11     1\n",
       "13     1\n",
       "14     1\n",
       "Name: stripes, dtype: int64"
      ]
     },
     "execution_count": 43,
     "metadata": {},
     "output_type": "execute_result"
    }
   ],
   "source": [
    "new_flag['stripes'].value_counts()"
   ]
  },
  {
   "cell_type": "markdown",
   "id": "ebdcf733",
   "metadata": {},
   "source": [
    "In the following scatter plot, the `plot()` has been used with the `new_flag`dataframe where `plot()` function is highlighting the kind of scatter and added with x='stripes', y='area', c='colors', figsize=(8,5). Here, x and y is plotting the x-axis and y-axis using the `plt.xlabel()` and `plt.ylabel()` functions as well as colors and figsize are highlighting the different colors of stripes and the different size of the plotting figure respectively. After that, the `plt.title()` function has been used to get the title name of the scatter plot which named as `stripes & area relation-Info` and highlighted in the output pane. Here, the `plt.legend()` function is applied to get the explicit information about the number of stripes' flags onto the number of zone where the number of 1 zone means north-east(NE) zone's flags which are known as red dots and highlighted none stripes or 0 stripes flags in the broader area and indicating over 20000 square km in the following scatter plot. Although, green dots' flags that is number of 4 zone and which known as north-west(NW) zone's flags are also comparatively highlighted in the less-wider area but having the number of stripes at least 3 is more convenient which has been observed from the given scatter plot and found that relatively all zones are used 3 stripes flags than other number of stripes flags.Therefore, it may decide that the number of 3 stripes' flags will be more acceptable and readable to the respected users than the other number of stripes' flags. Finally, the `plt.grid()` and `plt.show()` functions are applied to demonstrate the grid and to show the scatter plot explicitly."
   ]
  },
  {
   "cell_type": "code",
   "execution_count": 44,
   "id": "5dfe6fcc",
   "metadata": {},
   "outputs": [
    {
     "data": {
      "image/png": "[encoded data removed]",
      "text/plain": [
       "<Figure size 576x360 with 1 Axes>"
      ]
     },
     "metadata": {
      "needs_background": "light"
     },
     "output_type": "display_data"
    }
   ],
   "source": [
    "new_flag.plot(kind='scatter',\n",
    "                   x='stripes', y='area',\n",
    "                   c=colors, figsize=(8,5))\n",
    "plt.title('stripes & area relation-Info')\n",
    "plt.legend('colors_palette')\n",
    "plt.xlabel('stripes')\n",
    "plt.ylabel('area')\n",
    "plt.grid()\n",
    "plt.show()"
   ]
  },
  {
   "cell_type": "markdown",
   "id": "cae67ab6",
   "metadata": {},
   "source": [
    "### Relationship no.3"
   ]
  },
  {
   "cell_type": "markdown",
   "id": "a9472d3b",
   "metadata": {},
   "source": [
    "In the next step, the `value_counts()` function is used for the `religion` variable of the `new_flag` dataset. As an output, various numbers of the values have been found for the `religion` variable such as 0,1,2,3,4,5,6,7 and which are mentioned as 0=Catholic, 1=Other Christian, 2=Muslim, 3=Buddhist, 4=Hindu, 5=Ethnic, 6=Marxist, 7=Others."
   ]
  },
  {
   "cell_type": "code",
   "execution_count": 45,
   "id": "4c68f96d",
   "metadata": {},
   "outputs": [
    {
     "data": {
      "text/plain": [
       "2    30\n",
       "0    29\n",
       "5    26\n",
       "1    22\n",
       "6    15\n",
       "3     8\n",
       "4     4\n",
       "7     4\n",
       "Name: religion, dtype: int64"
      ]
     },
     "execution_count": 45,
     "metadata": {},
     "output_type": "execute_result"
    }
   ],
   "source": [
    "new_flag['religion'].value_counts()"
   ]
  },
  {
   "cell_type": "markdown",
   "id": "da2737e0",
   "metadata": {},
   "source": [
    "In the next step, the `value_counts()` function is used for the `zone` variable of the `new_flag` dataset. As an output, few numbers of the values have been found for the `zone` variable such as 1,4,2,3 and which are mentioned as 1=NE, 2=SE, 3=SW, 4=NW."
   ]
  },
  {
   "cell_type": "code",
   "execution_count": 46,
   "id": "82d4684f",
   "metadata": {},
   "outputs": [
    {
     "data": {
      "text/plain": [
       "1    73\n",
       "4    34\n",
       "2    22\n",
       "3     9\n",
       "Name: zone, dtype: int64"
      ]
     },
     "execution_count": 46,
     "metadata": {},
     "output_type": "execute_result"
    }
   ],
   "source": [
    "new_flag['zone'].value_counts()"
   ]
  },
  {
   "cell_type": "markdown",
   "id": "762a663f",
   "metadata": {},
   "source": [
    "Here, the libraries numpy, matplotlib.pyplot and seaborn are imported as np, plt and sns respectively to explore the plot.To generate this bar plot, the `religion` and `zone` variables are subsetted with the `new_flag` dataset where both functions are made an object as `religion` and `zone` respectively. Here, the positions are also set as x-axis=0 and y-axis=1. After that, the `plt.figure()` and `plt.bar()` functions have been used to demonstrate the bar plot where figsize are 10 for x=axis and 5 for y-axis as well as the `color` argument is set as `gold`and width argument is set as 0.5 gradually. Here, the `plt.xlabel()`, `plt.ylabel()`, `plt.title()` functions have been used to get the xlabel as `religion`, ylabel as `zone` and the title of the barplot as `religion & zone relation-Info` respectively. Apart from this,the `plt.grid()` and `plt.show()` functions are applied to demonstrate the grid and to show the bar plot adequately whether it does not have any legend by default. From this barplot, it is represented that `3=Buddhist` and `7=Others` religions ranges are very lower than the rest of the religions. As a result, it is found from the `new_flag` dataset that `Buddist` and `other` religions are dwelling only the `1=NE` zone whereas rest of the religions are located all of the zones from `1=NE` to `4=NW` which are demonstrating in the following bar plot.  "
   ]
  },
  {
   "cell_type": "code",
   "execution_count": 47,
   "id": "bd1e58c8",
   "metadata": {},
   "outputs": [
    {
     "data": {
      "image/png": "[encoded data removed]",
      "text/plain": [
       "<Figure size 720x360 with 1 Axes>"
      ]
     },
     "metadata": {
      "needs_background": "light"
     },
     "output_type": "display_data"
    }
   ],
   "source": [
    "import numpy as np\n",
    "import matplotlib.pyplot as plt\n",
    "import seaborn as sns\n",
    "# Dataset generation\n",
    "religion=new_flag['religion']\n",
    "zone=new_flag['zone']\n",
    "positions=[0,1]\n",
    "fig = plt.figure(figsize = (10, 5))\n",
    "#  Bar plot\n",
    "plt.bar(religion, zone, color ='gold',\n",
    "        width = 0.5)\n",
    "plt.xlabel(\"religion\")\n",
    "plt.ylabel(\"zone\")\n",
    "plt.title(\"religion & zone relation-Info\")\n",
    "plt.grid()\n",
    "plt.show()"
   ]
  },
  {
   "cell_type": "markdown",
   "id": "599dec30",
   "metadata": {},
   "source": [
    "### Relationship no.4"
   ]
  },
  {
   "cell_type": "markdown",
   "id": "28b3fa3a",
   "metadata": {},
   "source": [
    "In the next step, the `value_counts()` function is used for the `religion` variable of the `new_flag` dataset. As an output, various numbers of the values have been found for the `religion` variable such as 0,1,2,3,4,5,6,7 and which are mentioned as 0=Catholic, 1=Other Christian, 2=Muslim, 3=Buddhist, 4=Hindu, 5=Ethnic, 6=Marxist, 7=Others."
   ]
  },
  {
   "cell_type": "code",
   "execution_count": 48,
   "id": "53191957",
   "metadata": {},
   "outputs": [
    {
     "data": {
      "text/plain": [
       "2    30\n",
       "0    29\n",
       "5    26\n",
       "1    22\n",
       "6    15\n",
       "3     8\n",
       "4     4\n",
       "7     4\n",
       "Name: religion, dtype: int64"
      ]
     },
     "execution_count": 48,
     "metadata": {},
     "output_type": "execute_result"
    }
   ],
   "source": [
    "new_flag['religion'].value_counts()"
   ]
  },
  {
   "cell_type": "markdown",
   "id": "c7cd2661",
   "metadata": {},
   "source": [
    "In the next step, the `value_counts()` function is used for the `zone` variable of the `new_flag` dataset. As an output, few numbers of the values have been found for the `zone` variable such as 1,4,2,3 and which are mentioned as 1=NE, 2=SE, 3=SW, 4=NW."
   ]
  },
  {
   "cell_type": "code",
   "execution_count": 49,
   "id": "19b75de3",
   "metadata": {},
   "outputs": [
    {
     "data": {
      "text/plain": [
       "1    73\n",
       "4    34\n",
       "2    22\n",
       "3     9\n",
       "Name: zone, dtype: int64"
      ]
     },
     "execution_count": 49,
     "metadata": {},
     "output_type": "execute_result"
    }
   ],
   "source": [
    "new_flag['zone'].value_counts()"
   ]
  },
  {
   "cell_type": "markdown",
   "id": "d894d3b2",
   "metadata": {},
   "source": [
    "In the following scatter plot, the `plot()` has been used with the `new_flag` dataframe where `plot()` function is highlighting the kind of scatter and added with x='religion', y='population', c='colors', figsize=(8,5). Here, x and y is plotting the x-axis and y-axis with `religion` and `population` as well as `colors` and `figsize` are highlighting the different colors of `zone` and the different size of the plotting figure respectively. After that, the `plt.title()` function has been used to get the title name of the scatter plot which named as `religion & population relation-Info` and highlighted in the output pane. Apart from this, the scatter plot has shown the xlabel or x-axis and ylable or y-axis as `religion` and `population` using the `plt.xlabel()` and `plt.ylabel()` function respectively. Here, the `plt.legend()` function is applied to get the details information about the number of zone's religion where `6=Marxist` religion's population are more in the `1=NE` zone rather than other zones which is indicating around 1000 number of population and highlighting in the given scatter plot. Finally, the `plt.grid()` and `plt.show()` functions are applied to demonstrate the background as grid and to show the scatter plot explicitly."
   ]
  },
  {
   "cell_type": "code",
   "execution_count": 50,
   "id": "76889460",
   "metadata": {},
   "outputs": [
    {
     "data": {
      "image/png": "[encoded data removed]",
      "text/plain": [
       "<Figure size 576x360 with 1 Axes>"
      ]
     },
     "metadata": {
      "needs_background": "light"
     },
     "output_type": "display_data"
    }
   ],
   "source": [
    "new_flag.plot(kind='scatter',\n",
    "                   x='religion', y='population',\n",
    "                   c=colors, figsize=(8,5), fontsize=(15))\n",
    "plt.title('religion & population relation-Info')\n",
    "plt.legend('colors_palette')\n",
    "plt.xlabel('religion')\n",
    "plt.ylabel('population')\n",
    "plt.grid()\n",
    "plt.show()"
   ]
  },
  {
   "cell_type": "markdown",
   "id": "8586f0f6",
   "metadata": {},
   "source": [
    "### Relationship no.5"
   ]
  },
  {
   "cell_type": "markdown",
   "id": "ae746c40",
   "metadata": {},
   "source": [
    "Here, the `value.counts()` function is applied for the `red` variable of the `new_flag` dataset and only two values are found from the output pane as the numbers of `1` and `0` which are mentioning if any `red` colour present, it will be `1` otherwise it will be `0`."
   ]
  },
  {
   "cell_type": "code",
   "execution_count": 51,
   "id": "51eaf968",
   "metadata": {},
   "outputs": [
    {
     "data": {
      "text/plain": [
       "1    109\n",
       "0     29\n",
       "Name: red, dtype: int64"
      ]
     },
     "execution_count": 51,
     "metadata": {},
     "output_type": "execute_result"
    }
   ],
   "source": [
    "new_flag['red'].value_counts()"
   ]
  },
  {
   "cell_type": "markdown",
   "id": "2d073c8e",
   "metadata": {},
   "source": [
    "Here, the libraries numpy, matplotlib.pyplot and seaborn are imported as np, plt and sns respectively to explore the plot.To create this bar plot, the `red` and `area` variables are subsetted with the `new_flag` dataset where both functions are made an object as `red` and `area` respectively. Here, the `positions` are also set as x-axis=0 and y-axis=1. After that, the `plt.figure()` and `plt.bar()` functions have been used to demonstrate the bar plot where figsize are 10 for x=axis and 5 for y-axis as well as the `color` argument is set as `red`and `width` argument is set as 0.5 gradually. Here, the `plt.xlabel()`, `plt.ylabel()`, `plt.title()` functions have been used to get the xlabel as `red`, ylabel as `area` and the title of the barplot as `red & area relation-Info` respectively. Apart from this, the `plt.grid()` and `plt.show()` functions are applied to demonstrate the background as grid and to show the bar plot adequately whether it does not have any legend by default. From this barplot, it is represented that maximum areas of the flag are highlighted `red` colour which are indicating over 20000 square km from the `area` values of the `new-flag` dataset and demonstrating in the following bar plot.  "
   ]
  },
  {
   "cell_type": "code",
   "execution_count": 52,
   "id": "83e4d4eb",
   "metadata": {},
   "outputs": [
    {
     "data": {
      "image/png": "[encoded data removed]",
      "text/plain": [
       "<Figure size 720x360 with 1 Axes>"
      ]
     },
     "metadata": {
      "needs_background": "light"
     },
     "output_type": "display_data"
    }
   ],
   "source": [
    "import numpy as np\n",
    "import matplotlib.pyplot as plt\n",
    "import seaborn as sns\n",
    "# Dataset generation\n",
    "red=new_flag['red']\n",
    "area=new_flag['area']\n",
    "positions=[0,1]\n",
    "fig = plt.figure(figsize = (10, 5))\n",
    "#  Bar plot\n",
    "plt.bar(red, area, color ='red',\n",
    "        width = 0.5)\n",
    "plt.xlabel(\"red\")\n",
    "plt.ylabel(\"area\")\n",
    "plt.title(\"red & area relation-Info\")\n",
    "plt.grid()\n",
    "plt.show()"
   ]
  },
  {
   "cell_type": "markdown",
   "id": "7d1c5928",
   "metadata": {},
   "source": [
    "### Relationship no.6"
   ]
  },
  {
   "cell_type": "markdown",
   "id": "2929f6ce",
   "metadata": {},
   "source": [
    "Here,`value.counts()` function has been used for the `botright` variable and different kinds of values have obtained from the output pane which are highlighting as red, green, blue, white, black, gold, orange, brown values and this values observation numbers are 50, 30, 28,  12, 9, 7, 1, 1 respectively."
   ]
  },
  {
   "cell_type": "code",
   "execution_count": 53,
   "id": "0cbc082e",
   "metadata": {},
   "outputs": [
    {
     "data": {
      "text/plain": [
       "red       50\n",
       "green     30\n",
       "blue      28\n",
       "white     12\n",
       "black      9\n",
       "gold       7\n",
       "orange     1\n",
       "brown      1\n",
       "Name: botright, dtype: int64"
      ]
     },
     "execution_count": 53,
     "metadata": {},
     "output_type": "execute_result"
    }
   ],
   "source": [
    "new_flag['botright'].value_counts()"
   ]
  },
  {
   "cell_type": "markdown",
   "id": "1d4bcb90",
   "metadata": {},
   "source": [
    "According to the boxplot, it will give the information about the distribution of the data. Here, the boxplot is created using the `boxplot()` function to detect the outliers of the `botright` variable of the `new_flag` dataset as well as the boxplot is generated in terms of the `zone` by `botright` where the `zone` is plotting onto the `botright` and `eight` groups of colours have been formed with the black, blue, brown, gold, green, orange, red, and white using the groupby effectively. Apart from this, `dropna()` function has been used in the below step to double-check and to drop the missing values during the operation time. After using those above functions, it is found that few groups of colours such as `black`, `brown`, and `orange` are shown flat plot instead of boxplot because of their all number of values inconsistency with the other groups of colours' values which are highlighting in the following figure. In this case, `black` and `gold` colours groups are also highlighted their one outlier in the upper fence which indicates it's value ranges inconsistency compare to the other values of the colours and which is really uncountable. However, according to the median explanation, `blue`, `green`, and `red` colours group are demonstrated onto the more zones than the other groups of colours which is found from the following boxplots. Here, the `plt.title()`, `plt.xlabel()` and `plt.ylabel()` functions are applied to form the title `zone & botright_relation-Info`, x-axis `botright`' and y-axis`zone` whether it does not have any legend by default which are represented in the given boxplot."
   ]
  },
  {
   "cell_type": "code",
   "execution_count": 54,
   "id": "c4703d13",
   "metadata": {},
   "outputs": [
    {
     "data": {
      "image/png": "[encoded data removed]",
      "text/plain": [
       "<Figure size 576x360 with 1 Axes>"
      ]
     },
     "metadata": {
      "needs_background": "light"
     },
     "output_type": "display_data"
    }
   ],
   "source": [
    "new_flag.dropna().boxplot(column = 'zone', by = 'botright', figsize=(8,5), fontsize=(10))\n",
    "plt.title('zone & botright_relation-Info')\n",
    "plt.xlabel('botright')\n",
    "plt.ylabel('zone')\n",
    "plt.show()"
   ]
  },
  {
   "cell_type": "markdown",
   "id": "937af3d9",
   "metadata": {},
   "source": [
    "### Relationship no.7"
   ]
  },
  {
   "cell_type": "markdown",
   "id": "b4f9fed2",
   "metadata": {},
   "source": [
    "Here, the `value.counts()` function is applied for the `icon` variable of the `new_flag` dataset and only two values are found from the output pane as the numbers of `0` and `1` which are mentioning `1` if an inanimate image present (e.g., a boat), otherwise it will be `0`."
   ]
  },
  {
   "cell_type": "code",
   "execution_count": 55,
   "id": "b90c0cd9",
   "metadata": {},
   "outputs": [
    {
     "data": {
      "text/plain": [
       "0    110\n",
       "1     28\n",
       "Name: icon, dtype: int64"
      ]
     },
     "execution_count": 55,
     "metadata": {},
     "output_type": "execute_result"
    }
   ],
   "source": [
    "new_flag['icon'].value_counts()"
   ]
  },
  {
   "cell_type": "markdown",
   "id": "e1957723",
   "metadata": {},
   "source": [
    "Here, the libraries numpy and matplotlib.pyplot are imported as np and plt respectively to explore the plot.To create this bar plot, the `icon` and `area` variables are subsetted with the `new_flag` dataset where both functions are made an object as `icon` and `area` respectively. Here, the `positions` are also set as x-axis=0 and y-axis=1. After that, the `plt.figure()` and `plt.bar()` functions have been used to demonstrate the bar plot where figsize are 10 for x=axis and 5 for y-axis as well as the `color` argument is set as `orange`and `width` argument is set as 0.5 gradually. Here, the `plt.xlabel()`, `plt.ylabel()`, `plt.title()` functions have been used to get the xlabel as `icon`, ylabel as `area` and the title of the barplot as `red & area relation-Info` respectively. Apart from this, the `plt.grid()` and `plt.show()` functions are applied to demonstrate the background as grid and to show the bar plot adequately whether it does not have any legend by default. From this barplot, it is represented that maximum areas of the flags are highlighted `an inanimate image` which are indicating over 20000 square km from the `area` values of the `new-flag` dataset and demonstrating in the given bar plot.  "
   ]
  },
  {
   "cell_type": "code",
   "execution_count": 56,
   "id": "bae488b7",
   "metadata": {},
   "outputs": [
    {
     "data": {
      "image/png": "[encoded data removed]",
      "text/plain": [
       "<Figure size 720x360 with 1 Axes>"
      ]
     },
     "metadata": {
      "needs_background": "light"
     },
     "output_type": "display_data"
    }
   ],
   "source": [
    "import numpy as np\n",
    "import matplotlib.pyplot as plt\n",
    "# Dataset generation\n",
    "icon=new_flag['icon']\n",
    "area=new_flag['area']\n",
    "positions=[0,1]\n",
    "fig = plt.figure(figsize = (10, 5))\n",
    "#  Bar plot\n",
    "plt.bar(icon, area, color ='orange',\n",
    "        width = 0.5)\n",
    "plt.xlabel(\"icon\")\n",
    "plt.ylabel(\"area\")\n",
    "plt.title(\"icon & area relation_Info\")\n",
    "plt.grid()\n",
    "plt.show()"
   ]
  },
  {
   "cell_type": "markdown",
   "id": "a764583e",
   "metadata": {},
   "source": [
    "### Relationship no.8"
   ]
  },
  {
   "cell_type": "markdown",
   "id": "ff8f07cc",
   "metadata": {},
   "source": [
    "Here, the `value.counts()` function is applied for the `saltires` variable of the `new_flag` dataset and only two values are found from the output pane as the numbers of `0` and `1`."
   ]
  },
  {
   "cell_type": "code",
   "execution_count": 57,
   "id": "cda831ec",
   "metadata": {},
   "outputs": [
    {
     "data": {
      "text/plain": [
       "0    130\n",
       "1      8\n",
       "Name: saltires, dtype: int64"
      ]
     },
     "execution_count": 57,
     "metadata": {},
     "output_type": "execute_result"
    }
   ],
   "source": [
    "new_flag['saltires'].value_counts()"
   ]
  },
  {
   "cell_type": "markdown",
   "id": "a81338ec",
   "metadata": {},
   "source": [
    "In the next step, the `value_counts()` function is used for the `zone` variable of the `new_flag` dataset. As an output, few numbers of the values have been found for the `zone` variable such as 1,4,2,3 and which are mentioned as 1=NE, 2=SE, 3=SW, 4=NW."
   ]
  },
  {
   "cell_type": "code",
   "execution_count": 58,
   "id": "f5ce1188",
   "metadata": {},
   "outputs": [
    {
     "data": {
      "text/plain": [
       "1    73\n",
       "4    34\n",
       "2    22\n",
       "3     9\n",
       "Name: zone, dtype: int64"
      ]
     },
     "execution_count": 58,
     "metadata": {},
     "output_type": "execute_result"
    }
   ],
   "source": [
    "new_flag['zone'].value_counts()"
   ]
  },
  {
   "cell_type": "markdown",
   "id": "e61fe486",
   "metadata": {},
   "source": [
    "In the following scatter plot, the `plot()` has been used with the `new_flag` dataframe where `plot()` function is highlighting the kind of scatter and added with x='religion', y='population', c='colors', figsize=(8,5). Here, x and y is plotting the x-axis and y-axis with `saltires` and `area` as well as `colors` and `figsize` are highlighting the different colors of `zone` and the different size of the plotting figure respectively. After that, the `plt.title()` function has been used to get the title name of the scatter plot which named as `saltires & area relation-Info` and highlighted in the output pane. Apart from this, the scatter plot has shown the xlabel or x-axis and ylable or y-axis as `saltires` and `area` using the `plt.xlabel()` and `plt.ylabel()` function respectively. Here, the `plt.legend()` function is used to get the details information about the number of zone's saltires or diagonal crosses where red dot or `1=NE` zone's saltires or diagonal crosses are `0` which means no diagonal crosses are highlighted in the flags whereas the `blue` dot zone(`2=SE`) is represented in less `area` and indicated the `area` lower than 10000 square km by demonstrating at least one diagonal crosses in the particular areas flags and highlighting in the given scatter plot. Finally, the `plt.grid()` and `plt.show()` functions are used to demonstrate the background as grid and to show the scatter plot appropriately."
   ]
  },
  {
   "cell_type": "code",
   "execution_count": 59,
   "id": "58a195f6",
   "metadata": {},
   "outputs": [
    {
     "data": {
      "image/png": "[encoded data removed]",
      "text/plain": [
       "<Figure size 576x360 with 1 Axes>"
      ]
     },
     "metadata": {
      "needs_background": "light"
     },
     "output_type": "display_data"
    }
   ],
   "source": [
    "new_flag.plot(kind='scatter',\n",
    "                   x='saltires', y='area',\n",
    "                   c=colors, figsize=(8,5), fontsize=(15))\n",
    "plt.title('saltires & area relation-Info')\n",
    "plt.legend('colors_palette')\n",
    "plt.xlabel('saltires')\n",
    "plt.ylabel('area')\n",
    "plt.grid()\n",
    "plt.show()"
   ]
  },
  {
   "cell_type": "markdown",
   "id": "5efbab9f",
   "metadata": {},
   "source": [
    "### Relationship no. 9"
   ]
  },
  {
   "cell_type": "markdown",
   "id": "f7b3b908",
   "metadata": {},
   "source": [
    "Here, the `value.counts()` function is applied for the `animate` variable of the `new_flag` dataset and only two values are found from the output pane as the numbers of `0` and `1` which are mentioning `1` if an animate image (e.g., an eagle, a tree, a human hand) present, otherwise it will be `0`."
   ]
  },
  {
   "cell_type": "code",
   "execution_count": 60,
   "id": "d442c9ec",
   "metadata": {},
   "outputs": [
    {
     "data": {
      "text/plain": [
       "0    117\n",
       "1     21\n",
       "Name: animate, dtype: int64"
      ]
     },
     "execution_count": 60,
     "metadata": {},
     "output_type": "execute_result"
    }
   ],
   "source": [
    "new_flag['animate'].value_counts()"
   ]
  },
  {
   "cell_type": "markdown",
   "id": "a281b6f9",
   "metadata": {},
   "source": [
    "Here, the libraries numpy and matplotlib.pyplot are imported as np and plt respectively to explore the plot.To create this bar plot, the `animate` and `area` variables are subsetted with the `new_flag` dataset where both functions are made an object as `animate` and `area` respectively. Here, the `positions` are also set as x-axis=0 and y-axis=1. After that, the `plt.figure()` and `plt.bar()` functions have been used to demonstrate the bar plot where figsize are 10 for x=axis and 5 for y-axis as well as the `color` argument is set as `red`and `width` argument is set as 0.5 gradually. Here, the `plt.xlabel()`, `plt.ylabel()`, `plt.title()` functions have been used to get the xlabel as `animate`, ylabel as `area` and the title of the barplot as `animate & area relation-Info` respectively. Apart from this, the `plt.grid()` and `plt.show()` functions are applied to demonstrate the background as grid and to show the bar plot adequately whether it does not have any legend by default. From this barplot, it is found that maximum areas of the flags are highlighted non animate image which means `0` values of the `animate` variable and which are indicating over 20000 square km from the `area` values of the `new-flag` dataset and demonstrating in the following bar plot.  "
   ]
  },
  {
   "cell_type": "code",
   "execution_count": 61,
   "id": "e811419e",
   "metadata": {},
   "outputs": [
    {
     "data": {
      "image/png": "[encoded data removed]",
      "text/plain": [
       "<Figure size 720x360 with 1 Axes>"
      ]
     },
     "metadata": {
      "needs_background": "light"
     },
     "output_type": "display_data"
    }
   ],
   "source": [
    "import numpy as np\n",
    "import matplotlib.pyplot as plt\n",
    "# Dataset generation\n",
    "religion=new_flag['animate']\n",
    "zone=new_flag['area']\n",
    "positions=[0,1]\n",
    "fig = plt.figure(figsize = (10, 5))\n",
    "#  Bar plot\n",
    "plt.bar(religion, zone, color ='red',\n",
    "        width = 0.5)\n",
    "plt.xlabel(\"animate\")\n",
    "plt.ylabel(\"area\")\n",
    "plt.title(\"animate & area relation_Info\")\n",
    "plt.grid()\n",
    "plt.show()"
   ]
  },
  {
   "cell_type": "markdown",
   "id": "891e2396",
   "metadata": {},
   "source": [
    "### Relationship no.10"
   ]
  },
  {
   "cell_type": "markdown",
   "id": "77b21bef",
   "metadata": {},
   "source": [
    "Here,the `value.counts()` function has been used for the `circles` variable and different kinds of number of values have obtained from the output pane which are highlighting as 0,1,2,4."
   ]
  },
  {
   "cell_type": "code",
   "execution_count": 62,
   "id": "9fec860f",
   "metadata": {},
   "outputs": [
    {
     "data": {
      "text/plain": [
       "0    119\n",
       "1     17\n",
       "2      1\n",
       "4      1\n",
       "Name: circles, dtype: int64"
      ]
     },
     "execution_count": 62,
     "metadata": {},
     "output_type": "execute_result"
    }
   ],
   "source": [
    "new_flag['circles'].value_counts()"
   ]
  },
  {
   "cell_type": "markdown",
   "id": "c28e7a72",
   "metadata": {},
   "source": [
    "In the next step, the `value_counts()` function is used for the `zone` variable of the `new_flag` dataset. As an output, few numbers of the values have been found for the `zone` variable such as 1,4,2,3 and which are mentioned as 1=NE, 2=SE, 3=SW, 4=NW."
   ]
  },
  {
   "cell_type": "code",
   "execution_count": 63,
   "id": "7bde15dc",
   "metadata": {},
   "outputs": [
    {
     "data": {
      "text/plain": [
       "1    73\n",
       "4    34\n",
       "2    22\n",
       "3     9\n",
       "Name: zone, dtype: int64"
      ]
     },
     "execution_count": 63,
     "metadata": {},
     "output_type": "execute_result"
    }
   ],
   "source": [
    "new_flag['zone'].value_counts()"
   ]
  },
  {
   "cell_type": "markdown",
   "id": "f77b4c11",
   "metadata": {},
   "source": [
    "Here, the libraries numpy and matplotlib.pyplot are imported as np and plt respectively to explore the plot.To generate this bar plot, the `zone` and `circles` variables are subsetted with the `new_flag` dataset where both functions are made an object as `zone` and `circles` respectively. Here, the `positions` are also set as x-axis=0 and y-axis=1. After that, the `plt.figure()` and `plt.bar()` functions have been used to demonstrate the bar plot where figsize are 10 for x=axis and 5 for y-axis as well as the `color` argument is set as `purple`and `width` argument is set as 0.5 gradually. Here, the `plt.xlabel()`, `plt.ylabel()`, `plt.title()` functions have been used to get the xlabel as `zone`, ylabel as `circles` and the title of the barplot as `zone & circles relation-Info` respectively. Apart from this, the `plt.grid()` and `plt.show()` functions are applied to demonstrate the background as grid and to show the bar plot adequately whether it does not have any legend by default. From this barplot, it is found that number `1=NE` zone flags is demonstrated maximum circles rather than other zones which is represented in the given bar plot. "
   ]
  },
  {
   "cell_type": "code",
   "execution_count": 64,
   "id": "65c21719",
   "metadata": {},
   "outputs": [
    {
     "data": {
      "image/png": "[encoded data removed]",
      "text/plain": [
       "<Figure size 720x360 with 1 Axes>"
      ]
     },
     "metadata": {
      "needs_background": "light"
     },
     "output_type": "display_data"
    }
   ],
   "source": [
    "import numpy as np\n",
    "import matplotlib.pyplot as plt\n",
    "# Dataset generation\n",
    "zone=new_flag['zone']\n",
    "circles=new_flag['circles']\n",
    "positions=[0,1]\n",
    "fig = plt.figure(figsize = (10, 5))\n",
    "#  Bar plot\n",
    "plt.bar(zone, circles, color ='purple',\n",
    "        width = 0.5)\n",
    "plt.xlabel(\"zone\")\n",
    "plt.ylabel(\"circles\")\n",
    "plt.title(\"zone & circles relation_Info\")\n",
    "plt.grid()\n",
    "plt.show()"
   ]
  },
  {
   "cell_type": "markdown",
   "id": "5410db27",
   "metadata": {},
   "source": [
    "### Relationship no.11"
   ]
  },
  {
   "cell_type": "markdown",
   "id": "8917d7a0",
   "metadata": {},
   "source": [
    "To create this heatmap chart, library seaborn has been imported as sns. The `plt.figure()` function has been used to get the accurate figure. In this given chart, peers & correlation coefficient relationship has been made with all numerical variables where all variables are relate with diagonally. Here, the deep red colour box are highlighted strong relationship with each variable and dark blue colour box are represented weak relation with each other."
   ]
  },
  {
   "cell_type": "code",
   "execution_count": 65,
   "id": "dd695f0f",
   "metadata": {},
   "outputs": [
    {
     "data": {
      "image/png": "[encoded data removed]",
      "text/plain": [
       "<Figure size 864x720 with 2 Axes>"
      ]
     },
     "metadata": {
      "needs_background": "light"
     },
     "output_type": "display_data"
    }
   ],
   "source": [
    "import seaborn as sns\n",
    "plt.figure(figsize=(12,10))\n",
    "chart = sns.heatmap(new_flag.corr(), vmin=-0.5, vmax=0.5,annot=True, fmt='.1f', linewidths=.5, cmap=\"coolwarm\")\n",
    "# heatmap chart"
   ]
  },
  {
   "cell_type": "markdown",
   "id": "ce83504f",
   "metadata": {},
   "source": [
    "## Task 3(subtask 1): Data Modelling"
   ]
  },
  {
   "cell_type": "code",
   "execution_count": 66,
   "id": "179872c7",
   "metadata": {},
   "outputs": [
    {
     "data": {
      "text/html": [
       "<div>\n",
       "<style scoped>\n",
       "    .dataframe tbody tr th:only-of-type {\n",
       "        vertical-align: middle;\n",
       "    }\n",
       "\n",
       "    .dataframe tbody tr th {\n",
       "        vertical-align: top;\n",
       "    }\n",
       "\n",
       "    .dataframe thead th {\n",
       "        text-align: right;\n",
       "    }\n",
       "</style>\n",
       "<table border=\"1\" class=\"dataframe\">\n",
       "  <thead>\n",
       "    <tr style=\"text-align: right;\">\n",
       "      <th></th>\n",
       "      <th>name</th>\n",
       "      <th>landmass</th>\n",
       "      <th>zone</th>\n",
       "      <th>area</th>\n",
       "      <th>population</th>\n",
       "      <th>language</th>\n",
       "      <th>religion</th>\n",
       "      <th>bars</th>\n",
       "      <th>stripes</th>\n",
       "      <th>colours</th>\n",
       "      <th>...</th>\n",
       "      <th>saltires</th>\n",
       "      <th>quarters</th>\n",
       "      <th>sunstars</th>\n",
       "      <th>crescent</th>\n",
       "      <th>triangle</th>\n",
       "      <th>icon</th>\n",
       "      <th>animate</th>\n",
       "      <th>text</th>\n",
       "      <th>topleft</th>\n",
       "      <th>botright</th>\n",
       "    </tr>\n",
       "  </thead>\n",
       "  <tbody>\n",
       "    <tr>\n",
       "      <th>0</th>\n",
       "      <td>Afghanistan</td>\n",
       "      <td>5</td>\n",
       "      <td>1</td>\n",
       "      <td>648</td>\n",
       "      <td>16</td>\n",
       "      <td>10</td>\n",
       "      <td>2</td>\n",
       "      <td>0</td>\n",
       "      <td>3</td>\n",
       "      <td>5</td>\n",
       "      <td>...</td>\n",
       "      <td>0</td>\n",
       "      <td>0</td>\n",
       "      <td>1</td>\n",
       "      <td>0</td>\n",
       "      <td>0</td>\n",
       "      <td>1</td>\n",
       "      <td>0</td>\n",
       "      <td>0</td>\n",
       "      <td>black</td>\n",
       "      <td>green</td>\n",
       "    </tr>\n",
       "    <tr>\n",
       "      <th>1</th>\n",
       "      <td>Albania</td>\n",
       "      <td>3</td>\n",
       "      <td>1</td>\n",
       "      <td>29</td>\n",
       "      <td>3</td>\n",
       "      <td>6</td>\n",
       "      <td>6</td>\n",
       "      <td>0</td>\n",
       "      <td>0</td>\n",
       "      <td>3</td>\n",
       "      <td>...</td>\n",
       "      <td>0</td>\n",
       "      <td>0</td>\n",
       "      <td>1</td>\n",
       "      <td>0</td>\n",
       "      <td>0</td>\n",
       "      <td>0</td>\n",
       "      <td>1</td>\n",
       "      <td>0</td>\n",
       "      <td>red</td>\n",
       "      <td>red</td>\n",
       "    </tr>\n",
       "    <tr>\n",
       "      <th>2</th>\n",
       "      <td>Algeria</td>\n",
       "      <td>4</td>\n",
       "      <td>1</td>\n",
       "      <td>2388</td>\n",
       "      <td>20</td>\n",
       "      <td>8</td>\n",
       "      <td>2</td>\n",
       "      <td>2</td>\n",
       "      <td>0</td>\n",
       "      <td>3</td>\n",
       "      <td>...</td>\n",
       "      <td>0</td>\n",
       "      <td>0</td>\n",
       "      <td>1</td>\n",
       "      <td>1</td>\n",
       "      <td>0</td>\n",
       "      <td>0</td>\n",
       "      <td>0</td>\n",
       "      <td>0</td>\n",
       "      <td>green</td>\n",
       "      <td>white</td>\n",
       "    </tr>\n",
       "    <tr>\n",
       "      <th>5</th>\n",
       "      <td>Angola</td>\n",
       "      <td>4</td>\n",
       "      <td>2</td>\n",
       "      <td>1247</td>\n",
       "      <td>7</td>\n",
       "      <td>10</td>\n",
       "      <td>5</td>\n",
       "      <td>0</td>\n",
       "      <td>2</td>\n",
       "      <td>3</td>\n",
       "      <td>...</td>\n",
       "      <td>0</td>\n",
       "      <td>0</td>\n",
       "      <td>1</td>\n",
       "      <td>0</td>\n",
       "      <td>0</td>\n",
       "      <td>1</td>\n",
       "      <td>0</td>\n",
       "      <td>0</td>\n",
       "      <td>red</td>\n",
       "      <td>black</td>\n",
       "    </tr>\n",
       "    <tr>\n",
       "      <th>8</th>\n",
       "      <td>Argentina</td>\n",
       "      <td>2</td>\n",
       "      <td>3</td>\n",
       "      <td>2777</td>\n",
       "      <td>28</td>\n",
       "      <td>2</td>\n",
       "      <td>0</td>\n",
       "      <td>0</td>\n",
       "      <td>3</td>\n",
       "      <td>2</td>\n",
       "      <td>...</td>\n",
       "      <td>0</td>\n",
       "      <td>0</td>\n",
       "      <td>0</td>\n",
       "      <td>0</td>\n",
       "      <td>0</td>\n",
       "      <td>0</td>\n",
       "      <td>0</td>\n",
       "      <td>0</td>\n",
       "      <td>blue</td>\n",
       "      <td>blue</td>\n",
       "    </tr>\n",
       "  </tbody>\n",
       "</table>\n",
       "<p>5 rows × 30 columns</p>\n",
       "</div>"
      ],
      "text/plain": [
       "          name  landmass  zone  area  population  language  religion  bars  \\\n",
       "0  Afghanistan         5     1   648          16        10         2     0   \n",
       "1      Albania         3     1    29           3         6         6     0   \n",
       "2      Algeria         4     1  2388          20         8         2     2   \n",
       "5       Angola         4     2  1247           7        10         5     0   \n",
       "8    Argentina         2     3  2777          28         2         0     0   \n",
       "\n",
       "   stripes  colours  ...  saltires  quarters  sunstars  crescent  triangle  \\\n",
       "0        3        5  ...         0         0         1         0         0   \n",
       "1        0        3  ...         0         0         1         0         0   \n",
       "2        0        3  ...         0         0         1         1         0   \n",
       "5        2        3  ...         0         0         1         0         0   \n",
       "8        3        2  ...         0         0         0         0         0   \n",
       "\n",
       "   icon  animate text  topleft  botright  \n",
       "0     1        0    0    black     green  \n",
       "1     0        1    0      red       red  \n",
       "2     0        0    0    green     white  \n",
       "5     1        0    0      red     black  \n",
       "8     0        0    0     blue      blue  \n",
       "\n",
       "[5 rows x 30 columns]"
      ]
     },
     "execution_count": 66,
     "metadata": {},
     "output_type": "execute_result"
    }
   ],
   "source": [
    "new_flag.dropna(inplace=True)\n",
    "new_flag.head() # To create the model the `new-flag` dataset has been selected and checked few rows of this dataset using `head()`\n",
    "# function. Apart from this `dropna()` function is used to drop the missing values again if there is any here."
   ]
  },
  {
   "cell_type": "markdown",
   "id": "a02acfaa",
   "metadata": {},
   "source": [
    "# Encoding the categorical data"
   ]
  },
  {
   "cell_type": "markdown",
   "id": "092e57b5",
   "metadata": {},
   "source": [
    "Here, two models have been chosen to do the classification algorithm. One is `KNN(KNearestNeighbors)` and another one is `Decision tree` model. To make these models, the encoding has been done for categorical variables of the `new_flag` dataset using the following functions. Apart from this, the library `One HotEncoder` is imported from `sklearn.preproceesing`package. It is highlighted that all categorical variables have been encoded as the numerical variables using the `astype().cat.codes` function and checked the dataset again applying `head()` function which are demonstrated in the output pane."
   ]
  },
  {
   "cell_type": "code",
   "execution_count": 67,
   "id": "201195fd",
   "metadata": {},
   "outputs": [
    {
     "data": {
      "text/html": [
       "<div>\n",
       "<style scoped>\n",
       "    .dataframe tbody tr th:only-of-type {\n",
       "        vertical-align: middle;\n",
       "    }\n",
       "\n",
       "    .dataframe tbody tr th {\n",
       "        vertical-align: top;\n",
       "    }\n",
       "\n",
       "    .dataframe thead th {\n",
       "        text-align: right;\n",
       "    }\n",
       "</style>\n",
       "<table border=\"1\" class=\"dataframe\">\n",
       "  <thead>\n",
       "    <tr style=\"text-align: right;\">\n",
       "      <th></th>\n",
       "      <th>name</th>\n",
       "      <th>landmass</th>\n",
       "      <th>zone</th>\n",
       "      <th>area</th>\n",
       "      <th>population</th>\n",
       "      <th>language</th>\n",
       "      <th>religion</th>\n",
       "      <th>bars</th>\n",
       "      <th>stripes</th>\n",
       "      <th>colours</th>\n",
       "      <th>...</th>\n",
       "      <th>saltires</th>\n",
       "      <th>quarters</th>\n",
       "      <th>sunstars</th>\n",
       "      <th>crescent</th>\n",
       "      <th>triangle</th>\n",
       "      <th>icon</th>\n",
       "      <th>animate</th>\n",
       "      <th>text</th>\n",
       "      <th>topleft</th>\n",
       "      <th>botright</th>\n",
       "    </tr>\n",
       "  </thead>\n",
       "  <tbody>\n",
       "    <tr>\n",
       "      <th>0</th>\n",
       "      <td>0</td>\n",
       "      <td>5</td>\n",
       "      <td>1</td>\n",
       "      <td>648</td>\n",
       "      <td>16</td>\n",
       "      <td>10</td>\n",
       "      <td>2</td>\n",
       "      <td>0</td>\n",
       "      <td>3</td>\n",
       "      <td>5</td>\n",
       "      <td>...</td>\n",
       "      <td>0</td>\n",
       "      <td>0</td>\n",
       "      <td>1</td>\n",
       "      <td>0</td>\n",
       "      <td>0</td>\n",
       "      <td>1</td>\n",
       "      <td>0</td>\n",
       "      <td>0</td>\n",
       "      <td>0</td>\n",
       "      <td>4</td>\n",
       "    </tr>\n",
       "    <tr>\n",
       "      <th>1</th>\n",
       "      <td>1</td>\n",
       "      <td>3</td>\n",
       "      <td>1</td>\n",
       "      <td>29</td>\n",
       "      <td>3</td>\n",
       "      <td>6</td>\n",
       "      <td>6</td>\n",
       "      <td>0</td>\n",
       "      <td>0</td>\n",
       "      <td>3</td>\n",
       "      <td>...</td>\n",
       "      <td>0</td>\n",
       "      <td>0</td>\n",
       "      <td>1</td>\n",
       "      <td>0</td>\n",
       "      <td>0</td>\n",
       "      <td>0</td>\n",
       "      <td>1</td>\n",
       "      <td>0</td>\n",
       "      <td>5</td>\n",
       "      <td>6</td>\n",
       "    </tr>\n",
       "    <tr>\n",
       "      <th>2</th>\n",
       "      <td>2</td>\n",
       "      <td>4</td>\n",
       "      <td>1</td>\n",
       "      <td>2388</td>\n",
       "      <td>20</td>\n",
       "      <td>8</td>\n",
       "      <td>2</td>\n",
       "      <td>2</td>\n",
       "      <td>0</td>\n",
       "      <td>3</td>\n",
       "      <td>...</td>\n",
       "      <td>0</td>\n",
       "      <td>0</td>\n",
       "      <td>1</td>\n",
       "      <td>1</td>\n",
       "      <td>0</td>\n",
       "      <td>0</td>\n",
       "      <td>0</td>\n",
       "      <td>0</td>\n",
       "      <td>3</td>\n",
       "      <td>7</td>\n",
       "    </tr>\n",
       "    <tr>\n",
       "      <th>5</th>\n",
       "      <td>3</td>\n",
       "      <td>4</td>\n",
       "      <td>2</td>\n",
       "      <td>1247</td>\n",
       "      <td>7</td>\n",
       "      <td>10</td>\n",
       "      <td>5</td>\n",
       "      <td>0</td>\n",
       "      <td>2</td>\n",
       "      <td>3</td>\n",
       "      <td>...</td>\n",
       "      <td>0</td>\n",
       "      <td>0</td>\n",
       "      <td>1</td>\n",
       "      <td>0</td>\n",
       "      <td>0</td>\n",
       "      <td>1</td>\n",
       "      <td>0</td>\n",
       "      <td>0</td>\n",
       "      <td>5</td>\n",
       "      <td>0</td>\n",
       "    </tr>\n",
       "    <tr>\n",
       "      <th>8</th>\n",
       "      <td>4</td>\n",
       "      <td>2</td>\n",
       "      <td>3</td>\n",
       "      <td>2777</td>\n",
       "      <td>28</td>\n",
       "      <td>2</td>\n",
       "      <td>0</td>\n",
       "      <td>0</td>\n",
       "      <td>3</td>\n",
       "      <td>2</td>\n",
       "      <td>...</td>\n",
       "      <td>0</td>\n",
       "      <td>0</td>\n",
       "      <td>0</td>\n",
       "      <td>0</td>\n",
       "      <td>0</td>\n",
       "      <td>0</td>\n",
       "      <td>0</td>\n",
       "      <td>0</td>\n",
       "      <td>1</td>\n",
       "      <td>1</td>\n",
       "    </tr>\n",
       "  </tbody>\n",
       "</table>\n",
       "<p>5 rows × 30 columns</p>\n",
       "</div>"
      ],
      "text/plain": [
       "   name  landmass  zone  area  population  language  religion  bars  stripes  \\\n",
       "0     0         5     1   648          16        10         2     0        3   \n",
       "1     1         3     1    29           3         6         6     0        0   \n",
       "2     2         4     1  2388          20         8         2     2        0   \n",
       "5     3         4     2  1247           7        10         5     0        2   \n",
       "8     4         2     3  2777          28         2         0     0        3   \n",
       "\n",
       "   colours  ...  saltires  quarters  sunstars  crescent  triangle  icon  \\\n",
       "0        5  ...         0         0         1         0         0     1   \n",
       "1        3  ...         0         0         1         0         0     0   \n",
       "2        3  ...         0         0         1         1         0     0   \n",
       "5        3  ...         0         0         1         0         0     1   \n",
       "8        2  ...         0         0         0         0         0     0   \n",
       "\n",
       "   animate  text  topleft  botright  \n",
       "0        0     0        0         4  \n",
       "1        1     0        5         6  \n",
       "2        0     0        3         7  \n",
       "5        0     0        5         0  \n",
       "8        0     0        1         1  \n",
       "\n",
       "[5 rows x 30 columns]"
      ]
     },
     "execution_count": 67,
     "metadata": {},
     "output_type": "execute_result"
    }
   ],
   "source": [
    "from sklearn.preprocessing import OneHotEncoder\n",
    "new_flag.name=new_flag.name.astype('category').cat.codes\n",
    "new_flag.mainhue=new_flag.mainhue.astype('category').cat.codes\n",
    "new_flag.topleft=new_flag.topleft.astype('category').cat.codes\n",
    "new_flag.botright=new_flag.botright.astype('category').cat.codes\n",
    "new_flag.head() "
   ]
  },
  {
   "cell_type": "markdown",
   "id": "be27e70b",
   "metadata": {},
   "source": [
    "# Task 3(Subtask 2): Model Training"
   ]
  },
  {
   "cell_type": "markdown",
   "id": "9be15e48",
   "metadata": {},
   "source": [
    "## Generating Train/Test set: For KNN Model"
   ]
  },
  {
   "cell_type": "markdown",
   "id": "555c63e9",
   "metadata": {},
   "source": [
    "## Loaded packages"
   ]
  },
  {
   "cell_type": "markdown",
   "id": "1b77c7ec",
   "metadata": {},
   "source": [
    "To train model, the `train_test_split` library has been imported from the `sklearn.model_selection` package. Apart from this, the convenience plotting library `pylab` is imported as `plt`. Here, the 'train' set will be used to train the classifier, and the 'test' set will be used for evaluation purposes."
   ]
  },
  {
   "cell_type": "code",
   "execution_count": 68,
   "id": "7df072c2",
   "metadata": {},
   "outputs": [],
   "source": [
    "from sklearn.model_selection import train_test_split\n",
    "import pylab as plt"
   ]
  },
  {
   "cell_type": "markdown",
   "id": "277c998a",
   "metadata": {},
   "source": [
    "## Splitted the data into a training set and the testing set where splitted the data 50% for training and 50% for testing"
   ]
  },
  {
   "cell_type": "markdown",
   "id": "5f9b9d04",
   "metadata": {},
   "source": [
    "In the following step,\n",
    "\n",
    "X_train includes all independent variables which will be used to train the model, also as it specified the test size=0.50, this means 50% of observations from the complete data will be used to train/fit the model and rest 50% will be used to test the model.\n",
    "\n",
    "X_test is remaining 50% portion of the independent variables from the data which will not be used in the training phase and will be used to make predictions to test the accuracy of the model.\n",
    "\n",
    "y_train includes the dependent variable which needs to be predicted by this model. Apart from this, it has category labels against the independent variables. It needs to be specified the dependent variable while training or fitting the modl.\n",
    "\n",
    "y_test has category label for the test data which will be used to test the accuracy between actual and prediction categories.\n",
    "\n",
    "Here, random_state is showing reproducible behaviour which is ensured that those parameters are set exact the same from one run to next. If the random state is not used here, the train and test value will come different in every single time."
   ]
  },
  {
   "cell_type": "code",
   "execution_count": 69,
   "id": "5e97c3e4",
   "metadata": {},
   "outputs": [],
   "source": [
    "X_train, X_test, y_train, y_test = train_test_split(new_flag,\n",
    "                                                    new_flag.mainhue,\n",
    "                                                    test_size=0.50,\n",
    "                                                    random_state=4)\n",
    "\n",
    "# Here, this `train_test_split()` function returns the four things from four variables such as `X_train`, `X_test`, `y_train`, \n",
    "# and `y_test` and passing into a sign that has correct value for it. Here, target variables has been set as `mainhue` to \n",
    "# classify the predominant colours of the flag from the `new_flag` dataset."
   ]
  },
  {
   "cell_type": "code",
   "execution_count": 70,
   "id": "2993ceea",
   "metadata": {},
   "outputs": [
    {
     "name": "stdout",
     "output_type": "stream",
     "text": [
      "Training dataset size: 69\n"
     ]
    }
   ],
   "source": [
    "print(f'Training dataset size: {X_train.shape[0]}') # Here, checked the `X_train` varaibles' shape using the `print()` function."
   ]
  },
  {
   "cell_type": "code",
   "execution_count": 71,
   "id": "8c7dc51a",
   "metadata": {},
   "outputs": [
    {
     "name": "stdout",
     "output_type": "stream",
     "text": [
      "Testing dataset size: 69\n"
     ]
    }
   ],
   "source": [
    "print(f'Testing dataset size: {X_test.shape[0]}') # Here, checked the `X_test` varaibles' shape using the `print()` function."
   ]
  },
  {
   "cell_type": "markdown",
   "id": "a12a807d",
   "metadata": {},
   "source": [
    "# Task 3 (Subtask 3): Model Evaluation"
   ]
  },
  {
   "cell_type": "markdown",
   "id": "91d6a4b8",
   "metadata": {},
   "source": [
    "## Selected a k-Nearest Neighbor Value"
   ]
  },
  {
   "cell_type": "markdown",
   "id": "9f6d24c5",
   "metadata": {},
   "source": [
    "To select the KNearestNeighbors and evaluate the model adequately, the `KNeighborsClassifier` library has been imported from the `sklearn.neighbors` package. Here, the closest neighbors numbers have been chosen as `8` to obtained the accuracy of the model. As low accuracy had shown with `less` nearest neighbors or less K-value, hence, the neighbors numbers have been increased to get the better accuracy of this model. During this operation, the `KNeighborsClassifier()` function has been used and `clf` is generated as object to explore the KNearestNeighbors value. "
   ]
  },
  {
   "cell_type": "code",
   "execution_count": 72,
   "id": "993ec2e2",
   "metadata": {},
   "outputs": [],
   "source": [
    "from sklearn.neighbors import KNeighborsClassifier\n",
    "clf = KNeighborsClassifier(8) "
   ]
  },
  {
   "cell_type": "code",
   "execution_count": 73,
   "id": "0cd1e2b9",
   "metadata": {},
   "outputs": [],
   "source": [
    "fit = clf.fit(X_train, y_train) # Fitted the data using the '.fit()' function and added with the `clf` object to form the `fit` object appropriately."
   ]
  },
  {
   "cell_type": "code",
   "execution_count": 74,
   "id": "75dd9db0",
   "metadata": {},
   "outputs": [],
   "source": [
    "predicted = fit.predict(X_test) #Predicted on unseen data using the `predict()` function which is added with the `fit` object \n",
    "# and also created another `object` as `predicted`."
   ]
  },
  {
   "cell_type": "markdown",
   "id": "81c84977",
   "metadata": {},
   "source": [
    "To find the classification report, the `classification_report ` library is imported from the `sklearn.metrics ` package and the `classification_report()`function has been applied to get the explicit report."
   ]
  },
  {
   "cell_type": "code",
   "execution_count": 75,
   "id": "e6a76bf6",
   "metadata": {},
   "outputs": [],
   "source": [
    "from sklearn.metrics import classification_report \n",
    "report=classification_report(y_test, predicted)\n",
    "import warnings\n",
    "warnings.filterwarnings('ignore') # As the error message is highlighted here, the `warnings` is imported and error message \n",
    "# has been removed using the `filterwarnings('ignore')` function."
   ]
  },
  {
   "cell_type": "markdown",
   "id": "c3755208",
   "metadata": {},
   "source": [
    "### Testing the accuracy using the Confusion Matrix"
   ]
  },
  {
   "cell_type": "markdown",
   "id": "666b3695",
   "metadata": {},
   "source": [
    "To form the `confusion matrix`, the `confusion_matrix` library has been imported from the `sklearn.metrics` package. Here, the `confusion_matrix()` function is applied with the actual values'y_test' and predicted values as `predicted` to perform the measurement for the model classification and to calculate the Recall, Precision and accuracy. As a result, more than two classes are demonstrated in the output pane."
   ]
  },
  {
   "cell_type": "code",
   "execution_count": 76,
   "id": "1cea70b0",
   "metadata": {},
   "outputs": [
    {
     "data": {
      "text/plain": [
       "array([[ 0,  1,  0,  0,  1,  0,  2,  0],\n",
       "       [ 0,  4,  0,  0,  0,  0,  7,  0],\n",
       "       [ 0,  1,  0,  0,  0,  0,  0,  0],\n",
       "       [ 0,  1,  0,  1,  0,  0,  3,  0],\n",
       "       [ 0,  1,  0,  0,  2,  0,  7,  0],\n",
       "       [ 0,  1,  0,  0,  0,  0,  1,  0],\n",
       "       [ 0,  9,  0,  2,  1,  0, 17,  0],\n",
       "       [ 0,  1,  0,  0,  0,  0,  6,  0]], dtype=int64)"
      ]
     },
     "execution_count": 76,
     "metadata": {},
     "output_type": "execute_result"
    }
   ],
   "source": [
    "from sklearn.metrics import confusion_matrix\n",
    "confusion_matrix(y_test, predicted) "
   ]
  },
  {
   "cell_type": "markdown",
   "id": "2eca6799",
   "metadata": {},
   "source": [
    "## Classification Error Rate"
   ]
  },
  {
   "cell_type": "markdown",
   "id": "740cf9b8",
   "metadata": {},
   "source": [
    "Here, to get the best Nearest Neighbors, for loop has been used with the range of number from 1 to 18 using `i in range()` \n",
    "function. With the for loop, it has been found some result using the range, K=1 to 18 which is shown in the next plot.Apart from this, the `append()` function is used with the error_rate which is highlighting in the next step."
   ]
  },
  {
   "cell_type": "code",
   "execution_count": 77,
   "id": "15829b99",
   "metadata": {},
   "outputs": [],
   "source": [
    "error_rate = []\n",
    "for i in range(1, 18):\n",
    " \n",
    " knn = KNeighborsClassifier(n_neighbors=i)\n",
    " knn.fit(X_train,y_train)\n",
    " pred_i = knn.predict(X_test)\n",
    " error_rate.append(np.mean(pred_i != y_test))"
   ]
  },
  {
   "cell_type": "markdown",
   "id": "be285a22",
   "metadata": {},
   "source": [
    "To get the `Elbow` shape from this graph, Elbow method has been applied using the `plt.plot()` function where `plot()` function is highlighting the specific range from 1 to 18 with the `range()` function, color='blue', linestyle='dashed', marker='0',markerfacecolor='red', markersize=10. Here, the `plt.figure()`, `plt.title()`, `plt.xlabel()`,\n",
    "`plt.ylabel()`, `plt.xticks()` functions are used to explore the figure adequately by highlighting the title as `Elboe Method` x-axis as `Number of clusters` and y-axis `Error rate`respectively. Finally, the `plt.show()` function has been used to represents the plot appropriately. From this given plot, it is highlighted that the first error rate is found as `0.77` from the `first KNearestNeighbor` or `cluster 1`. But, however, as the 'K' has been increased and the best KNearestNeighbors have been taken as `8`, hence the classifcation error rate has decreased dramatically from `0.84` to `0.66` which is demonstrating in the following plot. Therefore, in terms of elbow position, the most decreasing error rate is `0.66` which is represented by the best KNearestNeighbors value `8`."
   ]
  },
  {
   "cell_type": "code",
   "execution_count": 78,
   "id": "19528835",
   "metadata": {},
   "outputs": [
    {
     "data": {
      "image/png": "[encoded data removed]",
      "text/plain": [
       "<Figure size 864x432 with 1 Axes>"
      ]
     },
     "metadata": {
      "needs_background": "light"
     },
     "output_type": "display_data"
    }
   ],
   "source": [
    "plt.figure(figsize=(12,6))\n",
    "plt.plot(range(1, 18),error_rate,color='blue', linestyle='dashed', marker='o',\n",
    " markerfacecolor='red', markersize=10)\n",
    "plt.title('Elbow Method')\n",
    "plt.xlabel('Number of clusters')\n",
    "plt.ylabel('Error rate')\n",
    "plt.xticks(np.arange(0, 18, step=1)) \n",
    "plt.show()"
   ]
  },
  {
   "cell_type": "markdown",
   "id": "8b158ffb",
   "metadata": {},
   "source": [
    "To get the accuracy correctly, the `accuracy_score` library has been imported from the `sklearn.metrics` package and applied \n",
    "the `accuracy_score()` function to measure the accuracy appropriately. In the following output pane, the accuracy result has been obtained as `0.34782608695652173` using the `print()` function."
   ]
  },
  {
   "cell_type": "code",
   "execution_count": 79,
   "id": "d295ab12",
   "metadata": {},
   "outputs": [
    {
     "name": "stdout",
     "output_type": "stream",
     "text": [
      "0.34782608695652173\n"
     ]
    }
   ],
   "source": [
    "from sklearn.metrics import accuracy_score\n",
    "accuracy = accuracy_score(y_test,predicted)\n",
    "print(accuracy)"
   ]
  },
  {
   "cell_type": "code",
   "execution_count": 80,
   "id": "e5627231",
   "metadata": {},
   "outputs": [
    {
     "name": "stdout",
     "output_type": "stream",
     "text": [
      "0.6521739130434783\n"
     ]
    }
   ],
   "source": [
    "classification_error_rate=1-accuracy\n",
    "print(classification_error_rate)\n",
    "# In this step, the classification error rate is obtained by subtracting the accuracy result with `1` and the result has been \n",
    "# found as `0.6521739130434783` in the below output pane. "
   ]
  },
  {
   "cell_type": "markdown",
   "id": "6c42ee81",
   "metadata": {},
   "source": [
    "### Precision, Recall and F1-score"
   ]
  },
  {
   "cell_type": "markdown",
   "id": "9a3147ba",
   "metadata": {},
   "source": [
    "Here, the `Precision` is mentioned as the predict value and the `Recall` is for actual values. As it is difficult to compare two models with low precision and high recall values, therefore, f1-score helps 'to measure the recall and precision using the Harmonic Mean in place of Arithmatic Mean' which has been highlighted in the output pane using the `print()` function."
   ]
  },
  {
   "cell_type": "code",
   "execution_count": 81,
   "id": "039a4b14",
   "metadata": {},
   "outputs": [
    {
     "name": "stdout",
     "output_type": "stream",
     "text": [
      "              precision    recall  f1-score   support\n",
      "\n",
      "           0       0.00      0.00      0.00         4\n",
      "           1       0.21      0.36      0.27        11\n",
      "           2       0.00      0.00      0.00         1\n",
      "           3       0.33      0.20      0.25         5\n",
      "           4       0.50      0.20      0.29        10\n",
      "           5       0.00      0.00      0.00         2\n",
      "           6       0.40      0.59      0.47        29\n",
      "           7       0.00      0.00      0.00         7\n",
      "\n",
      "    accuracy                           0.35        69\n",
      "   macro avg       0.18      0.17      0.16        69\n",
      "weighted avg       0.30      0.35      0.30        69\n",
      "\n"
     ]
    }
   ],
   "source": [
    "print(report)"
   ]
  },
  {
   "cell_type": "markdown",
   "id": "0e084b3e",
   "metadata": {},
   "source": [
    "## Task 3(Subtask 2): Model Training"
   ]
  },
  {
   "cell_type": "markdown",
   "id": "0d8e9452",
   "metadata": {},
   "source": [
    "### Splitted the data into a training set and the testing set where splitted the data 60% for training and 40% for testing"
   ]
  },
  {
   "cell_type": "markdown",
   "id": "95b02473",
   "metadata": {},
   "source": [
    "In the following step,X_train includes all independent variables which will be used to train the model, also as it specified the test size=0.40, this means 60% of observations from the complete data will be used to train/fit the model and rest 40% will be used to test the model."
   ]
  },
  {
   "cell_type": "code",
   "execution_count": 82,
   "id": "daa12364",
   "metadata": {},
   "outputs": [],
   "source": [
    "X_train, X_test, y_train, y_test = train_test_split(new_flag,\n",
    "                                                    new_flag.mainhue,\n",
    "                                                    test_size=0.40,\n",
    "                                                    random_state=4)\n"
   ]
  },
  {
   "cell_type": "code",
   "execution_count": 83,
   "id": "c32c5529",
   "metadata": {},
   "outputs": [
    {
     "name": "stdout",
     "output_type": "stream",
     "text": [
      "Training dataset size: 82\n"
     ]
    }
   ],
   "source": [
    "print(f'Training dataset size: {X_train.shape[0]}')"
   ]
  },
  {
   "cell_type": "code",
   "execution_count": 84,
   "id": "9fe5b193",
   "metadata": {},
   "outputs": [
    {
     "name": "stdout",
     "output_type": "stream",
     "text": [
      "Testing dataset size: 56\n"
     ]
    }
   ],
   "source": [
    "print(f'Testing dataset size: {X_test.shape[0]}')"
   ]
  },
  {
   "cell_type": "markdown",
   "id": "c124d494",
   "metadata": {},
   "source": [
    "## Task 3 (Subtask 3): Model Evaluation"
   ]
  },
  {
   "cell_type": "markdown",
   "id": "f428ec40",
   "metadata": {},
   "source": [
    "### Selected a k-Nearest Neighbor Value"
   ]
  },
  {
   "cell_type": "markdown",
   "id": "1403a57d",
   "metadata": {},
   "source": [
    "To select the KNearestNeighbors and evaluate the model adequately, the `KNeighborsClassifier` library has been imported from the `sklearn.neighbors` package. Here, the closest neighbors numbers have been chosen as `8` to obtained the accuracy of the model. As low accuracy had shown with `less` nearest neighbors or less K-value, hence, the neighbors numbers have been increased to get the better accuracy of this model. During this operation, the `KNeighborsClassifier()` function has been used and `clf` is generated as object to explore the KNearestNeighbors value. "
   ]
  },
  {
   "cell_type": "code",
   "execution_count": 85,
   "id": "e3b35371",
   "metadata": {},
   "outputs": [],
   "source": [
    "from sklearn.neighbors import KNeighborsClassifier\n",
    "clf = KNeighborsClassifier(8) "
   ]
  },
  {
   "cell_type": "code",
   "execution_count": 86,
   "id": "8fdeb699",
   "metadata": {},
   "outputs": [],
   "source": [
    "fit = clf.fit(X_train, y_train) # Fitted the data using the '.fit()' function and added with the `clf` object to form the `fit` object appropriately."
   ]
  },
  {
   "cell_type": "code",
   "execution_count": 87,
   "id": "92c1ed99",
   "metadata": {},
   "outputs": [],
   "source": [
    "predicted = fit.predict(X_test) "
   ]
  },
  {
   "cell_type": "markdown",
   "id": "de688394",
   "metadata": {},
   "source": [
    "To find the classification report, the `classification_report ` library is imported from the `sklearn.metrics ` package and the `classification_report()`function has been applied to get the explicit report."
   ]
  },
  {
   "cell_type": "code",
   "execution_count": 88,
   "id": "a0eef93f",
   "metadata": {},
   "outputs": [],
   "source": [
    "from sklearn.metrics import classification_report\n",
    "report=classification_report(y_test, predicted)"
   ]
  },
  {
   "cell_type": "markdown",
   "id": "bf43da7d",
   "metadata": {},
   "source": [
    "### Testing the accuracy using the Confusion Matrix"
   ]
  },
  {
   "cell_type": "markdown",
   "id": "9fc8556c",
   "metadata": {},
   "source": [
    "To form the `confusion matrix`, the `confusion_matrix` library has been imported from the `sklearn.metrics` package. Here, the `confusion_matrix()` function is applied with the actual values'y_test' and predicted values as `predicted` to perform the measurement for the model classification and to calculate the Recall, Precision and accuracy. As a result, more than two classes are demonstrated in the output pane."
   ]
  },
  {
   "cell_type": "code",
   "execution_count": 89,
   "id": "45c58b83",
   "metadata": {},
   "outputs": [
    {
     "data": {
      "text/plain": [
       "array([[0, 1, 0, 0, 1, 2, 0],\n",
       "       [0, 3, 0, 0, 2, 3, 0],\n",
       "       [0, 1, 0, 0, 0, 0, 0],\n",
       "       [0, 1, 0, 0, 2, 2, 0],\n",
       "       [0, 1, 0, 0, 3, 4, 0],\n",
       "       [0, 8, 0, 0, 7, 9, 0],\n",
       "       [0, 1, 0, 0, 0, 5, 0]], dtype=int64)"
      ]
     },
     "execution_count": 89,
     "metadata": {},
     "output_type": "execute_result"
    }
   ],
   "source": [
    "from sklearn.metrics import confusion_matrix\n",
    "confusion_matrix(y_test, predicted) "
   ]
  },
  {
   "cell_type": "markdown",
   "id": "d960a523",
   "metadata": {},
   "source": [
    "## Classification Error Rate"
   ]
  },
  {
   "cell_type": "markdown",
   "id": "72bbec81",
   "metadata": {},
   "source": [
    "Here, to get the best Nearest Neighbors, for loop has been used with the range of number from 1 to 18 using `i in range()` \n",
    "function. With the for loop, it has been found some result using the range, K=1 to 18 which is shown in the next plot.Apart from this, the `append()` function is used with the error_rate which is highlighting in the next step."
   ]
  },
  {
   "cell_type": "code",
   "execution_count": 90,
   "id": "b5397db2",
   "metadata": {},
   "outputs": [],
   "source": [
    "error_rate = []# Will take some time\n",
    "for i in range(1, 18):\n",
    " \n",
    " knn = KNeighborsClassifier(n_neighbors=i)\n",
    " knn.fit(X_train,y_train)\n",
    " pred_i = knn.predict(X_test)\n",
    " error_rate.append(np.mean(pred_i != y_test))"
   ]
  },
  {
   "cell_type": "markdown",
   "id": "2beae8bf",
   "metadata": {},
   "source": [
    "To get the `Elbow` shape from this graph, Elbow method has been applied using the `plt.plot()` function where `plot()` function is highlighting the specific range from 1 to 18 with the `range()` function, color='blue', linestyle='dashed', marker='0',markerfacecolor='red', markersize=10. Here, the `plt.figure()`, `plt.title()`, `plt.xlabel()`,\n",
    "`plt.ylabel()`, `plt.xticks()` functions are used to explore the figure adequately by highlighting the title as `Elboe Method` x-axis as `Number of clusters` and y-axis `Error rate`respectively. Finally, the `plt.show()` function has been used to represents the plot appropriately. From this given plot, it is highlighted that the first error rate is found as `0.733` from the `first KNearestNeighbor` or `cluster 1`. But, however, as the 'K' has been increased and the best KNearestNeighbors have been taken as `8`, hence the classifcation error rate has decreased dramatically from `0.870` to `0.732` which is demonstrating in the following plot. Therefore, in terms of elbow position, the most decreasing error rate is `0.732` which is represented by the best KNearestNeighbors value `8`."
   ]
  },
  {
   "cell_type": "code",
   "execution_count": 91,
   "id": "503bf289",
   "metadata": {},
   "outputs": [
    {
     "data": {
      "image/png": "[encoded data removed]",
      "text/plain": [
       "<Figure size 864x432 with 1 Axes>"
      ]
     },
     "metadata": {
      "needs_background": "light"
     },
     "output_type": "display_data"
    }
   ],
   "source": [
    "plt.figure(figsize=(12,6))\n",
    "plt.plot(range(1,18),error_rate,color='blue', linestyle='dashed', marker='o',\n",
    " markerfacecolor='red', markersize=10)\n",
    "plt.title('Elbow Method')\n",
    "plt.xlabel('Number of clusters')\n",
    "plt.ylabel('Error rate')\n",
    "plt.xticks(np.arange(0, 18, step=1)) \n",
    "plt.show()\n",
    "# In this plot, in cluster "
   ]
  },
  {
   "cell_type": "markdown",
   "id": "3489225e",
   "metadata": {},
   "source": [
    "To get the accuracy correctly, the `accuracy_score` library has been imported from the `sklearn.metrics` package and applied \n",
    "the `accuracy_score()` function to measure the accuracy appropriately. In the following output pane, the accuracy result has been obtained as `0.26785714285714285` using the `print()` function."
   ]
  },
  {
   "cell_type": "code",
   "execution_count": 92,
   "id": "e80b83fd",
   "metadata": {},
   "outputs": [
    {
     "name": "stdout",
     "output_type": "stream",
     "text": [
      "0.26785714285714285\n"
     ]
    }
   ],
   "source": [
    "from sklearn.metrics import accuracy_score\n",
    "accuracy = accuracy_score(y_test, predicted)\n",
    "print(accuracy)"
   ]
  },
  {
   "cell_type": "code",
   "execution_count": 93,
   "id": "f6fec2a4",
   "metadata": {},
   "outputs": [
    {
     "name": "stdout",
     "output_type": "stream",
     "text": [
      "0.7321428571428572\n"
     ]
    }
   ],
   "source": [
    "classification_error_rate=1-accuracy\n",
    "print(classification_error_rate)\n",
    "# In this step, the classification error rate is obtained by subtracting the accuracy result with `1` and the result has been \n",
    "# found as `0.6521739130434783` in the below output pane. "
   ]
  },
  {
   "cell_type": "markdown",
   "id": "0ea3a810",
   "metadata": {},
   "source": [
    "## Precision, Recall and F1-score"
   ]
  },
  {
   "cell_type": "markdown",
   "id": "000c6b90",
   "metadata": {},
   "source": [
    "Here, the `Precision` is mentioned as the predict value and the `Recall` is for actual values. As it is difficult to compare two models with low precision and high recall values, therefore, f1-score helps 'to measure the recall and precision using the Harmonic Mean in place of Arithmatic Mean' which has been highlighted in the output pane using the `print()` function."
   ]
  },
  {
   "cell_type": "code",
   "execution_count": 94,
   "id": "9f2b9099",
   "metadata": {},
   "outputs": [
    {
     "name": "stdout",
     "output_type": "stream",
     "text": [
      "              precision    recall  f1-score   support\n",
      "\n",
      "           0       0.00      0.00      0.00         4\n",
      "           1       0.19      0.38      0.25         8\n",
      "           2       0.00      0.00      0.00         1\n",
      "           3       0.00      0.00      0.00         5\n",
      "           4       0.20      0.38      0.26         8\n",
      "           6       0.36      0.38      0.37        24\n",
      "           7       0.00      0.00      0.00         6\n",
      "\n",
      "    accuracy                           0.27        56\n",
      "   macro avg       0.11      0.16      0.13        56\n",
      "weighted avg       0.21      0.27      0.23        56\n",
      "\n"
     ]
    }
   ],
   "source": [
    "print(report) # (for KNN classifier algorithm)"
   ]
  },
  {
   "cell_type": "markdown",
   "id": "b3e22d8a",
   "metadata": {},
   "source": [
    "## Task 3(Subtask 2): Model Training"
   ]
  },
  {
   "cell_type": "markdown",
   "id": "476ec184",
   "metadata": {},
   "source": [
    "### Splitted the data into a training set and the testing set where splitted the data 80% for training and 20% for testing"
   ]
  },
  {
   "cell_type": "markdown",
   "id": "cb9248d0",
   "metadata": {},
   "source": [
    "In the following step,X_train includes all independent variables which will be used to train the model, also as it specified the test size=0.20, this means 80% of observations from the complete data will be used to train/fit the model and rest 20% will be used to test the model."
   ]
  },
  {
   "cell_type": "code",
   "execution_count": 95,
   "id": "b49cff0d",
   "metadata": {},
   "outputs": [],
   "source": [
    "X_train, X_test, y_train, y_test = train_test_split(new_flag,\n",
    "                                                    new_flag.mainhue,\n",
    "                                                    test_size=0.20,\n",
    "                                                    random_state=4)"
   ]
  },
  {
   "cell_type": "code",
   "execution_count": 96,
   "id": "f7f1c69c",
   "metadata": {},
   "outputs": [
    {
     "name": "stdout",
     "output_type": "stream",
     "text": [
      "Training dataset size: 110\n"
     ]
    }
   ],
   "source": [
    "print(f'Training dataset size: {X_train.shape[0]}')"
   ]
  },
  {
   "cell_type": "code",
   "execution_count": 97,
   "id": "8c20824d",
   "metadata": {},
   "outputs": [
    {
     "name": "stdout",
     "output_type": "stream",
     "text": [
      "Testing dataset size: 28\n"
     ]
    }
   ],
   "source": [
    "print(f'Testing dataset size: {X_test.shape[0]}')"
   ]
  },
  {
   "cell_type": "markdown",
   "id": "a77861bb",
   "metadata": {},
   "source": [
    "# Task 3 (Subtask 3): Model Evaluation"
   ]
  },
  {
   "cell_type": "markdown",
   "id": "01acebb3",
   "metadata": {},
   "source": [
    "## Selected a k-Nearest Neighbor Value"
   ]
  },
  {
   "cell_type": "markdown",
   "id": "29ef3387",
   "metadata": {},
   "source": [
    "To select the KNearestNeighbors and evaluate the model adequately, the `KNeighborsClassifier` library has been imported from the `sklearn.neighbors` package. Here, the closest neighbors numbers have been chosen as `8` to obtained the accuracy of the model. As low accuracy had shown with `less` nearest neighbors or less K-value, hence, the neighbors numbers have been increased to get the better accuracy of this model. During this operation, the `KNeighborsClassifier()` function has been used and `clf` is generated as object to explore the KNearestNeighbors value. "
   ]
  },
  {
   "cell_type": "code",
   "execution_count": 98,
   "id": "d1a17371",
   "metadata": {},
   "outputs": [],
   "source": [
    "clf = KNeighborsClassifier(2)"
   ]
  },
  {
   "cell_type": "code",
   "execution_count": 99,
   "id": "830ff0ef",
   "metadata": {},
   "outputs": [],
   "source": [
    "fit = clf.fit(X_train, y_train) # Fitted the data using the '.fit()' function and added with the `clf` object to form the `fit` object appropriately."
   ]
  },
  {
   "cell_type": "code",
   "execution_count": 100,
   "id": "1f63af9b",
   "metadata": {},
   "outputs": [],
   "source": [
    "predicted = fit.predict(X_test) "
   ]
  },
  {
   "cell_type": "markdown",
   "id": "5789b9eb",
   "metadata": {},
   "source": [
    "To find the classification report, the `classification_report ` library is imported from the `sklearn.metrics ` package and the `classification_report()`function has been applied to get the explicit report."
   ]
  },
  {
   "cell_type": "code",
   "execution_count": 101,
   "id": "dca53b31",
   "metadata": {},
   "outputs": [],
   "source": [
    "from sklearn.metrics import classification_report\n",
    "report=classification_report(y_test, predicted)"
   ]
  },
  {
   "cell_type": "markdown",
   "id": "7d057f80",
   "metadata": {},
   "source": [
    "### Testing the accuracy using the Confusion Matrix"
   ]
  },
  {
   "cell_type": "markdown",
   "id": "9a66d1a2",
   "metadata": {},
   "source": [
    "To form the `confusion matrix`, the `confusion_matrix` library has been imported from the `sklearn.metrics` package. Here, the `confusion_matrix()` function is applied with the actual values'y_test' and predicted values as `predicted` to perform the measurement for the model classification and to calculate the Recall, Precision and accuracy. As a result, more than two classes are demonstrated in the output pane."
   ]
  },
  {
   "cell_type": "code",
   "execution_count": 102,
   "id": "db31bb19",
   "metadata": {},
   "outputs": [
    {
     "data": {
      "text/plain": [
       "array([[0, 1, 0, 1, 1, 0],\n",
       "       [1, 2, 0, 0, 0, 1],\n",
       "       [0, 0, 0, 2, 1, 0],\n",
       "       [0, 2, 0, 0, 1, 0],\n",
       "       [0, 4, 4, 3, 3, 0],\n",
       "       [0, 0, 0, 0, 1, 0]], dtype=int64)"
      ]
     },
     "execution_count": 102,
     "metadata": {},
     "output_type": "execute_result"
    }
   ],
   "source": [
    "from sklearn.metrics import confusion_matrix\n",
    "confusion_matrix(y_test, predicted) # Created confusion matrix(for KNN classifier)"
   ]
  },
  {
   "cell_type": "markdown",
   "id": "8e8bf935",
   "metadata": {},
   "source": [
    "## Classification Error Rate"
   ]
  },
  {
   "cell_type": "markdown",
   "id": "b3eb1b9a",
   "metadata": {},
   "source": [
    "Here, to get the best Nearest Neighbors, for loop has been used with the range of number from 1 to 18 using `i in range()` \n",
    "function. With the for loop, it has been found some result using the range, K=1 to 18 which is shown in the next plot.Apart from this, the `append()` function is used with the error_rate which is highlighting in the next step."
   ]
  },
  {
   "cell_type": "code",
   "execution_count": 103,
   "id": "78c7be3e",
   "metadata": {},
   "outputs": [],
   "source": [
    "error_rate = []# Will take some time\n",
    "for i in range(1,18):\n",
    " \n",
    " knn = KNeighborsClassifier(n_neighbors=i)\n",
    " knn.fit(X_train,y_train)\n",
    " pred_i = knn.predict(X_test)\n",
    " error_rate.append(np.mean(pred_i != y_test))"
   ]
  },
  {
   "cell_type": "markdown",
   "id": "55b709d7",
   "metadata": {},
   "source": [
    "To get the `Elbow` shape from this graph, Elbow method has been applied using the `plt.plot()` function where `plot()` function is highlighting the specific range from 1 to 18 with the `range()` function, color='blue', linestyle='dashed', marker='0',markerfacecolor='red', markersize=10. Here, the `plt.figure()`, `plt.title()`, `plt.xlabel()`,\n",
    "`plt.ylabel()`, `plt.xticks()` functions are used to explore the figure adequately by highlighting the title as `Elboe Method` x-axis as `Number of clusters` and y-axis `Error rate`respectively. Finally, the `plt.show()` function has been used to represents the plot appropriately. From this given plot, it is highlighted that the first error rate is found as `0.65` from the `first KNearestNeighbor` or `cluster 1`. But, unfortunately this eror rate has been increased up to `0.82` which is highlighted in the given plot. Although, the 'K' has been increased and the best KNearestNeighbors have been taken as `8` but the classifcation error rate is found as the same rate like `0.82`. Because, the trend is looking up and down sometimes but eventually the classifcation error rate has allocated as `0.82`. "
   ]
  },
  {
   "cell_type": "code",
   "execution_count": 104,
   "id": "9bfcc36c",
   "metadata": {},
   "outputs": [
    {
     "data": {
      "image/png": "[encoded data removed]",
      "text/plain": [
       "<Figure size 864x432 with 1 Axes>"
      ]
     },
     "metadata": {
      "needs_background": "light"
     },
     "output_type": "display_data"
    }
   ],
   "source": [
    "plt.figure(figsize=(12,6))\n",
    "plt.plot(range(1,18),error_rate,color='blue', linestyle='dashed', marker='o',\n",
    " markerfacecolor='red', markersize=10)\n",
    "plt.title('Elbow Method')\n",
    "plt.xlabel('Number of clusters')\n",
    "plt.ylabel('Error rate')\n",
    "plt.xticks(np.arange(0, 18, step=1)) \n",
    "plt.show()\n",
    "# In this plot, in cluster "
   ]
  },
  {
   "cell_type": "markdown",
   "id": "c558c63c",
   "metadata": {},
   "source": [
    "To get the accuracy correctly, the `accuracy_score` library has been imported from the `sklearn.metrics` package and applied \n",
    "the `accuracy_score()` function to measure the accuracy appropriately. In the following output pane, the accuracy result has been obtained as `0.17857142857142858` using the `print()` function."
   ]
  },
  {
   "cell_type": "code",
   "execution_count": 105,
   "id": "eec53924",
   "metadata": {},
   "outputs": [
    {
     "name": "stdout",
     "output_type": "stream",
     "text": [
      "0.17857142857142858\n"
     ]
    }
   ],
   "source": [
    "from sklearn.metrics import accuracy_score\n",
    "accuracy = accuracy_score(y_test, predicted)\n",
    "print(accuracy)"
   ]
  },
  {
   "cell_type": "markdown",
   "id": "95dd190b",
   "metadata": {},
   "source": [
    "In this step, the classification error rate is obtained by subtracting the accuracy result with `1` and the result has been found as `0.8214285714285714` in the below output pane. "
   ]
  },
  {
   "cell_type": "code",
   "execution_count": 106,
   "id": "cf87f47e",
   "metadata": {},
   "outputs": [
    {
     "name": "stdout",
     "output_type": "stream",
     "text": [
      "0.8214285714285714\n"
     ]
    }
   ],
   "source": [
    "classification_error_rate=1-accuracy\n",
    "print(classification_error_rate)"
   ]
  },
  {
   "cell_type": "markdown",
   "id": "0f91a0af",
   "metadata": {},
   "source": [
    "## Precision, Recall and F1-score"
   ]
  },
  {
   "cell_type": "markdown",
   "id": "0d9accb7",
   "metadata": {},
   "source": [
    "Here, the `Precision` is mentioned as the predict value and the `Recall` is for actual values. As it is difficult to compare two models with low precision and high recall values, therefore, f1-score helps 'to measure the recall and precision using the Harmonic Mean in place of Arithmatic Mean' which has been highlighted in the output pane using the `print()` function."
   ]
  },
  {
   "cell_type": "code",
   "execution_count": 107,
   "id": "994bcc81",
   "metadata": {},
   "outputs": [
    {
     "name": "stdout",
     "output_type": "stream",
     "text": [
      "              precision    recall  f1-score   support\n",
      "\n",
      "           0       0.00      0.00      0.00         3\n",
      "           1       0.22      0.50      0.31         4\n",
      "           3       0.00      0.00      0.00         3\n",
      "           4       0.00      0.00      0.00         3\n",
      "           6       0.43      0.21      0.29        14\n",
      "           7       0.00      0.00      0.00         1\n",
      "\n",
      "    accuracy                           0.18        28\n",
      "   macro avg       0.11      0.12      0.10        28\n",
      "weighted avg       0.25      0.18      0.19        28\n",
      "\n"
     ]
    }
   ],
   "source": [
    "print(report)"
   ]
  },
  {
   "cell_type": "markdown",
   "id": "025f6843",
   "metadata": {},
   "source": [
    "# Task 3(Subtask 1): Decision Tree Model"
   ]
  },
  {
   "cell_type": "markdown",
   "id": "db59909d",
   "metadata": {},
   "source": [
    "## Loaded packages"
   ]
  },
  {
   "cell_type": "markdown",
   "id": "a2a2f7b9",
   "metadata": {},
   "source": [
    "To train model, the `train_test_split` library has been imported from the `sklearn.model_selection` package. Apart from this, the convenience plotting library `pylab` is imported as `plt`. Here, the 'train' set will be used to train the classifier, and the 'test' set will be used for evaluation purposes."
   ]
  },
  {
   "cell_type": "code",
   "execution_count": 108,
   "id": "7a89a34f",
   "metadata": {},
   "outputs": [],
   "source": [
    "from sklearn.model_selection import train_test_split\n",
    "import pylab as plt"
   ]
  },
  {
   "cell_type": "markdown",
   "id": "00754630",
   "metadata": {},
   "source": [
    "## Task 3(subtask 2): Model Training"
   ]
  },
  {
   "cell_type": "markdown",
   "id": "320ed210",
   "metadata": {},
   "source": [
    "### Splitted the data into a training set and the testing set where splitted the data 50% for training and 50% for testing"
   ]
  },
  {
   "cell_type": "markdown",
   "id": "b4fd6913",
   "metadata": {},
   "source": [
    "In the following step,X_train includes all independent variables which will be used to train the model, also as it specified the test size=0.50, this means 50% of observations from the complete data will be used to train/fit the model and rest 50% will be used to test the model."
   ]
  },
  {
   "cell_type": "code",
   "execution_count": 109,
   "id": "3577763e",
   "metadata": {},
   "outputs": [],
   "source": [
    "X_train, X_test, y_train, y_test = train_test_split(new_flag,\n",
    "                                                    new_flag.mainhue,\n",
    "                                                    test_size=0.50,\n",
    "                                                    random_state=4)"
   ]
  },
  {
   "cell_type": "markdown",
   "id": "51ccfccd",
   "metadata": {},
   "source": [
    "## Task 3(Subtask 3): Model Evaluation"
   ]
  },
  {
   "cell_type": "markdown",
   "id": "0e7215ec",
   "metadata": {},
   "source": [
    "### Selecting decision tree classifier(value)"
   ]
  },
  {
   "cell_type": "markdown",
   "id": "1401c3d4",
   "metadata": {},
   "source": [
    "To generate the decision tree and evaluate the model adequately, the `DecisionTreeClassifier` library has been imported from the `sklearn.tree` package. Here, the parameters have been added for decision tree classifier with `gini` criterion and parallelly other parameters have been checked to change their values which results the decision tree model's accuracy down. But, as the default parameters are generated the decision tree models accuracy is high, the default parameters are used in here appropriately. During this operation, the `DecisionTreeClassifier()` function has been used and `clf` is created as `object` to explore the DecisionTreeClassifier value adequately."
   ]
  },
  {
   "cell_type": "code",
   "execution_count": 110,
   "id": "6b2f3632",
   "metadata": {},
   "outputs": [],
   "source": [
    "from sklearn.tree import DecisionTreeClassifier\n",
    "clf= DecisionTreeClassifier(criterion='gini', max_depth=None, min_samples_split=2, min_samples_leaf=1, max_features=None, \n",
    "                            max_leaf_nodes=None)"
   ]
  },
  {
   "cell_type": "code",
   "execution_count": 111,
   "id": "e27d91fe",
   "metadata": {},
   "outputs": [],
   "source": [
    "fit = clf.fit(X_train, y_train) "
   ]
  },
  {
   "cell_type": "code",
   "execution_count": 112,
   "id": "0eaeeefc",
   "metadata": {},
   "outputs": [],
   "source": [
    "y_pre = fit.predict(X_test) #Predicted on unseen data using the `predict()` function which is added with the `fit` object \n",
    "# and also created another `object` as `y_pre`."
   ]
  },
  {
   "cell_type": "markdown",
   "id": "c9d08960",
   "metadata": {},
   "source": [
    "### Measured confusion matrix and classification precision/recall/f1-score"
   ]
  },
  {
   "cell_type": "markdown",
   "id": "fded6481",
   "metadata": {},
   "source": [
    "To create the `confusion matrix`, the `confusion_matrix` library has been imported from the `sklearn.metrics` package and to find the classification report, the `classification_report ` library is also imported from the `sklearn.metrics ` package. "
   ]
  },
  {
   "cell_type": "code",
   "execution_count": 113,
   "id": "86bad838",
   "metadata": {},
   "outputs": [],
   "source": [
    "from sklearn.metrics import confusion_matrix\n",
    "from sklearn.metrics import classification_report"
   ]
  },
  {
   "cell_type": "code",
   "execution_count": 114,
   "id": "d897116a",
   "metadata": {},
   "outputs": [],
   "source": [
    "cm = confusion_matrix(y_test, y_pre) # To find the confusion matrix, the `confusion_matrix()` function is applied \n",
    "# by creating `cm` object."
   ]
  },
  {
   "cell_type": "code",
   "execution_count": 115,
   "id": "f2b0e147",
   "metadata": {},
   "outputs": [
    {
     "name": "stdout",
     "output_type": "stream",
     "text": [
      "[[ 0  2  0  2  0  0  0  0]\n",
      " [ 0 10  0  1  0  0  0  0]\n",
      " [ 0  1  0  0  0  0  0  0]\n",
      " [ 0  0  0  5  0  0  0  0]\n",
      " [ 0  0  0  0 10  0  0  0]\n",
      " [ 0  0  0  0  0  2  0  0]\n",
      " [ 0  0  0  0  0  0 29  0]\n",
      " [ 0  0  0  0  0  0  0  7]]\n"
     ]
    }
   ],
   "source": [
    "print(cm) # Here, the `print()` function is used to demonstrate the result of the `confusion_matrix` which is hsown in the given \n",
    "# output pane."
   ]
  },
  {
   "cell_type": "markdown",
   "id": "c0493af7",
   "metadata": {},
   "source": [
    "To find the classification report, the `classification_report()`function has been applied to get the explicit report using the `report `object."
   ]
  },
  {
   "cell_type": "code",
   "execution_count": 116,
   "id": "1fd82376",
   "metadata": {},
   "outputs": [],
   "source": [
    "report = classification_report(y_test, y_pre)\n",
    "warnings.filterwarnings('ignore')"
   ]
  },
  {
   "cell_type": "markdown",
   "id": "95038fa4",
   "metadata": {},
   "source": [
    "### Precision, Recall and F1-score"
   ]
  },
  {
   "cell_type": "markdown",
   "id": "8e0cb933",
   "metadata": {},
   "source": [
    "Here, the `Precision` is mentioned as the predict value and the `Recall` is for actual values. As it is difficult to compare two models with low precision and high recall values, therefore, f1-score helps 'to measure the recall and precision using the Harmonic Mean in place of Arithmatic Mean' which has been highlighted in the output pane using the `print()` function."
   ]
  },
  {
   "cell_type": "code",
   "execution_count": 117,
   "id": "1ff1406c",
   "metadata": {},
   "outputs": [
    {
     "name": "stdout",
     "output_type": "stream",
     "text": [
      "              precision    recall  f1-score   support\n",
      "\n",
      "           0       0.00      0.00      0.00         4\n",
      "           1       0.77      0.91      0.83        11\n",
      "           2       0.00      0.00      0.00         1\n",
      "           3       0.62      1.00      0.77         5\n",
      "           4       1.00      1.00      1.00        10\n",
      "           5       1.00      1.00      1.00         2\n",
      "           6       1.00      1.00      1.00        29\n",
      "           7       1.00      1.00      1.00         7\n",
      "\n",
      "    accuracy                           0.91        69\n",
      "   macro avg       0.67      0.74      0.70        69\n",
      "weighted avg       0.86      0.91      0.88        69\n",
      "\n"
     ]
    }
   ],
   "source": [
    "print(report)"
   ]
  },
  {
   "cell_type": "markdown",
   "id": "be4e9b43",
   "metadata": {},
   "source": [
    "To get the accuracy correctly, the `accuracy_score` library has been imported from the `sklearn.metrics` package and applied \n",
    "the `accuracy_score()` function to measure the accuracy appropriately. In the following output pane, the accuracy result has been obtained as `0.9130434782608695` using the `print()` function."
   ]
  },
  {
   "cell_type": "code",
   "execution_count": 118,
   "id": "2812fc30",
   "metadata": {},
   "outputs": [
    {
     "name": "stdout",
     "output_type": "stream",
     "text": [
      "0.9130434782608695\n"
     ]
    }
   ],
   "source": [
    "from sklearn.metrics import accuracy_score\n",
    "accuracy = accuracy_score(y_test, y_pre)\n",
    "print(accuracy)"
   ]
  },
  {
   "cell_type": "markdown",
   "id": "a741ccc9",
   "metadata": {},
   "source": [
    "In the next step, the classification error rate is obtained by subtracting the accuracy result with `1` and the result has been \n",
    "found as `0.08695652173913049` in the below output pane. "
   ]
  },
  {
   "cell_type": "code",
   "execution_count": 119,
   "id": "1f06fe25",
   "metadata": {},
   "outputs": [
    {
     "name": "stdout",
     "output_type": "stream",
     "text": [
      "0.08695652173913049\n"
     ]
    }
   ],
   "source": [
    "classification_error_rate=1-accuracy\n",
    "print(classification_error_rate)"
   ]
  },
  {
   "cell_type": "markdown",
   "id": "848c5905",
   "metadata": {},
   "source": [
    "## Task 3(subtask 2): Model Training"
   ]
  },
  {
   "cell_type": "markdown",
   "id": "2abcbee3",
   "metadata": {},
   "source": [
    "### Splitted the data into a training set and the testing set where splitted the data 60% for training and 40% for testing"
   ]
  },
  {
   "cell_type": "markdown",
   "id": "e2a53414",
   "metadata": {},
   "source": [
    "In the following step,X_train includes all independent variables which will be used to train the model, also as it specified the test size=0.40, this means 60% of observations from the complete data will be used to train/fit the model and rest 40% will be used to test the model."
   ]
  },
  {
   "cell_type": "code",
   "execution_count": 120,
   "id": "e4501f34",
   "metadata": {},
   "outputs": [],
   "source": [
    "X_train, X_test, y_train, y_test = train_test_split(new_flag,\n",
    "                                                    new_flag.mainhue,\n",
    "                                                    test_size=0.40,\n",
    "                                                    random_state=4)"
   ]
  },
  {
   "cell_type": "markdown",
   "id": "a825a023",
   "metadata": {},
   "source": [
    "## Task 3(Subtask 3): Model Evaluation"
   ]
  },
  {
   "cell_type": "markdown",
   "id": "9df9c26a",
   "metadata": {},
   "source": [
    "### Selecting decision tree classifier(value)"
   ]
  },
  {
   "cell_type": "markdown",
   "id": "7e2fd430",
   "metadata": {},
   "source": [
    "To generate the decision tree and evaluate the model adequately, the `DecisionTreeClassifier` library has been imported from the `sklearn.tree` package. Here, the parameters have been added for decision tree classifier with `gini` criterion and parallelly other parameters have been checked to change their values which results the decision tree model's accuracy down. But, as the default parameters are generated the decision tree models accuracy is high, the default parameters are used in here appropriately. During this operation, the `DecisionTreeClassifier()` function has been used and `clf` is created as `object` to explore the DecisionTreeClassifier value adequately."
   ]
  },
  {
   "cell_type": "code",
   "execution_count": 121,
   "id": "bfc935c2",
   "metadata": {},
   "outputs": [],
   "source": [
    "clf= DecisionTreeClassifier(criterion='gini', max_depth=None, min_samples_split=2, min_samples_leaf=1, max_features=None, \n",
    "                            max_leaf_nodes=None)"
   ]
  },
  {
   "cell_type": "code",
   "execution_count": 122,
   "id": "4865d7e2",
   "metadata": {},
   "outputs": [],
   "source": [
    "fit = clf.fit(X_train, y_train) # Fitted the data with classifier using '.fit()' method"
   ]
  },
  {
   "cell_type": "code",
   "execution_count": 123,
   "id": "926f0ead",
   "metadata": {},
   "outputs": [],
   "source": [
    "y_pre = fit.predict(X_test) # Made prediction on test data by creating the object as `y_pre`."
   ]
  },
  {
   "cell_type": "markdown",
   "id": "732d7369",
   "metadata": {},
   "source": [
    "### Measured confusion matrix and classification precision/recall/f1-score"
   ]
  },
  {
   "cell_type": "code",
   "execution_count": 124,
   "id": "35e28ef5",
   "metadata": {},
   "outputs": [],
   "source": [
    "from sklearn.metrics import confusion_matrix\n",
    "from sklearn.metrics import classification_report"
   ]
  },
  {
   "cell_type": "code",
   "execution_count": 125,
   "id": "df88be5a",
   "metadata": {},
   "outputs": [],
   "source": [
    "cm = confusion_matrix(y_test, y_pre) # To find the confusion matrix, the `confusion_matrix()` function is applied \n",
    "# by creating `cm` object."
   ]
  },
  {
   "cell_type": "code",
   "execution_count": 126,
   "id": "0784007d",
   "metadata": {},
   "outputs": [
    {
     "name": "stdout",
     "output_type": "stream",
     "text": [
      "[[ 1  2  0  1  0  0  0]\n",
      " [ 0  7  0  1  0  0  0]\n",
      " [ 0  1  0  0  0  0  0]\n",
      " [ 0  0  0  5  0  0  0]\n",
      " [ 0  0  0  0  8  0  0]\n",
      " [ 0  0  0  0  0 24  0]\n",
      " [ 0  0  0  0  0  0  6]]\n"
     ]
    }
   ],
   "source": [
    "print(cm) # Here, the `print()` function is used to demonstrate the result of the `confusion_matrix` which is hsown in the given \n",
    "# output pane."
   ]
  },
  {
   "cell_type": "markdown",
   "id": "ffda4c63",
   "metadata": {},
   "source": [
    "To find the classification report, the `classification_report()`function has been applied to get the explicit report using the `report `object."
   ]
  },
  {
   "cell_type": "code",
   "execution_count": 127,
   "id": "4f9482dd",
   "metadata": {},
   "outputs": [],
   "source": [
    "report = classification_report(y_test, y_pre)\n",
    "warnings.filterwarnings('ignore')"
   ]
  },
  {
   "cell_type": "markdown",
   "id": "173ad2b2",
   "metadata": {},
   "source": [
    "### Precision, Recall and F1-score"
   ]
  },
  {
   "cell_type": "markdown",
   "id": "f88a8196",
   "metadata": {},
   "source": [
    "Here, the `Precision` is mentioned as the predict value and the `Recall` is for actual values. As it is difficult to compare two models with low precision and high recall values, therefore, f1-score helps 'to measure the recall and precision using the Harmonic Mean in place of Arithmatic Mean' which has been highlighted in the output pane using the `print()` function."
   ]
  },
  {
   "cell_type": "code",
   "execution_count": 128,
   "id": "e7c36b27",
   "metadata": {},
   "outputs": [
    {
     "name": "stdout",
     "output_type": "stream",
     "text": [
      "              precision    recall  f1-score   support\n",
      "\n",
      "           0       1.00      0.25      0.40         4\n",
      "           1       0.70      0.88      0.78         8\n",
      "           2       0.00      0.00      0.00         1\n",
      "           3       0.71      1.00      0.83         5\n",
      "           4       1.00      1.00      1.00         8\n",
      "           6       1.00      1.00      1.00        24\n",
      "           7       1.00      1.00      1.00         6\n",
      "\n",
      "    accuracy                           0.91        56\n",
      "   macro avg       0.77      0.73      0.72        56\n",
      "weighted avg       0.91      0.91      0.89        56\n",
      "\n"
     ]
    }
   ],
   "source": [
    "print(report)"
   ]
  },
  {
   "cell_type": "markdown",
   "id": "66c6b840",
   "metadata": {},
   "source": [
    "To get the accuracy correctly, the `accuracy_score` library has been imported from the `sklearn.metrics` package and applied \n",
    "the `accuracy_score()` function to measure the accuracy appropriately. In the following output pane, the accuracy result has been obtained as `0.9107142857142857` using the `print()` function."
   ]
  },
  {
   "cell_type": "code",
   "execution_count": 129,
   "id": "248541ae",
   "metadata": {},
   "outputs": [
    {
     "name": "stdout",
     "output_type": "stream",
     "text": [
      "0.9107142857142857\n"
     ]
    }
   ],
   "source": [
    "from sklearn.metrics import accuracy_score\n",
    "accuracy = accuracy_score(y_test, y_pre)\n",
    "print(accuracy)"
   ]
  },
  {
   "cell_type": "markdown",
   "id": "7879c33d",
   "metadata": {},
   "source": [
    "In the next step, the classification error rate is obtained by subtracting the accuracy result with `1` and the result has been \n",
    "found as `0.0892857142857143` in the below output pane. "
   ]
  },
  {
   "cell_type": "code",
   "execution_count": 130,
   "id": "591886a7",
   "metadata": {},
   "outputs": [
    {
     "name": "stdout",
     "output_type": "stream",
     "text": [
      "0.0892857142857143\n"
     ]
    }
   ],
   "source": [
    "classification_error_rate=1-accuracy\n",
    "print(classification_error_rate)"
   ]
  },
  {
   "cell_type": "markdown",
   "id": "006f104b",
   "metadata": {},
   "source": [
    "## Task 3(subtask 2): Model Training"
   ]
  },
  {
   "cell_type": "markdown",
   "id": "5af133c1",
   "metadata": {},
   "source": [
    "### Splitted the data into a training set and the testing set where splitted the data 80% for training and 20% for testing"
   ]
  },
  {
   "cell_type": "markdown",
   "id": "77c69f83",
   "metadata": {},
   "source": [
    "In the following step,X_train includes all independent variables which will be used to train the model, also as it specified the test size=0.20, this means 80% of observations from the complete data will be used to train/fit the model and rest 20% will be used to test the model."
   ]
  },
  {
   "cell_type": "code",
   "execution_count": 131,
   "id": "327a180c",
   "metadata": {},
   "outputs": [],
   "source": [
    "X_train, X_test, y_train, y_test = train_test_split(new_flag,\n",
    "                                                    new_flag.mainhue,\n",
    "                                                    test_size=0.20,\n",
    "                                                    random_state=4)"
   ]
  },
  {
   "cell_type": "markdown",
   "id": "725f2ae5",
   "metadata": {},
   "source": [
    "## Task 3(Subtask 3): Model Evaluation"
   ]
  },
  {
   "cell_type": "markdown",
   "id": "4912dd93",
   "metadata": {},
   "source": [
    "### Selecting decision tree classifier(value)"
   ]
  },
  {
   "cell_type": "markdown",
   "id": "2c85ff44",
   "metadata": {},
   "source": [
    "To generate the decision tree and evaluate the model adequately, the `DecisionTreeClassifier` library has been imported from the `sklearn.tree` package. Here, the parameters have been added for decision tree classifier with `gini` criterion and parallelly other parameters have been checked to change their values which results the decision tree model's accuracy down. But, as the default parameters are generated the decision tree models accuracy is high, the default parameters are used in here appropriately. During this operation, the `DecisionTreeClassifier()` function has been used and `clf` is created as `object` to explore the DecisionTreeClassifier value adequately."
   ]
  },
  {
   "cell_type": "code",
   "execution_count": 132,
   "id": "0c6d3d77",
   "metadata": {},
   "outputs": [],
   "source": [
    "clf= DecisionTreeClassifier(criterion='gini', max_depth=None, min_samples_split=2, min_samples_leaf=1, max_features=None,\n",
    "                            max_leaf_nodes=None)"
   ]
  },
  {
   "cell_type": "code",
   "execution_count": 133,
   "id": "72c024ea",
   "metadata": {},
   "outputs": [],
   "source": [
    "fit = clf.fit(X_train, y_train) # Fitted the data with classifier using '.fit()' method"
   ]
  },
  {
   "cell_type": "code",
   "execution_count": 134,
   "id": "7a99fa4a",
   "metadata": {},
   "outputs": [],
   "source": [
    "y_pre = fit.predict(X_test) # Made prediction on test data"
   ]
  },
  {
   "cell_type": "markdown",
   "id": "b1ec46f3",
   "metadata": {},
   "source": [
    "### Measured confusion matrix and classification precision/recall/f1-score"
   ]
  },
  {
   "cell_type": "markdown",
   "id": "e84651c7",
   "metadata": {},
   "source": [
    "To create the `confusion matrix`, the `confusion_matrix` library has been imported from the `sklearn.metrics` package and to find the classification report, the `classification_report ` library is also imported from the `sklearn.metrics ` package. "
   ]
  },
  {
   "cell_type": "code",
   "execution_count": 135,
   "id": "d183fe0a",
   "metadata": {},
   "outputs": [],
   "source": [
    "from sklearn.metrics import confusion_matrix\n",
    "from sklearn.metrics import classification_report"
   ]
  },
  {
   "cell_type": "code",
   "execution_count": 136,
   "id": "79a15fda",
   "metadata": {},
   "outputs": [],
   "source": [
    "cm = confusion_matrix(y_test, y_pre) # To find the confusion matrix, the `confusion_matrix()` function is applied \n",
    "# by creating `cm` object."
   ]
  },
  {
   "cell_type": "code",
   "execution_count": 137,
   "id": "605cb268",
   "metadata": {},
   "outputs": [
    {
     "name": "stdout",
     "output_type": "stream",
     "text": [
      "[[ 1  2  0  0  0  0]\n",
      " [ 1  3  0  0  0  0]\n",
      " [ 0  0  3  0  0  0]\n",
      " [ 0  0  0  3  0  0]\n",
      " [ 0  0  0  0 14  0]\n",
      " [ 0  0  0  0  0  1]]\n"
     ]
    }
   ],
   "source": [
    "print(cm) # Here, the `print()` function is used to demonstrate the result of the `confusion_matrix` which is hsown in the given \n",
    "# output pane."
   ]
  },
  {
   "cell_type": "markdown",
   "id": "2d698251",
   "metadata": {},
   "source": [
    "To find the classification report, the `classification_report()`function has been applied to get the explicit report using the `report `object."
   ]
  },
  {
   "cell_type": "code",
   "execution_count": 138,
   "id": "835dbd46",
   "metadata": {},
   "outputs": [],
   "source": [
    "report = classification_report(y_test, y_pre)\n",
    "warnings.filterwarnings('ignore')"
   ]
  },
  {
   "cell_type": "markdown",
   "id": "8185f3d8",
   "metadata": {},
   "source": [
    "### Precision, Recall and F1-score"
   ]
  },
  {
   "cell_type": "markdown",
   "id": "b72a26ac",
   "metadata": {},
   "source": [
    "Here, the `Precision` is mentioned as the predict value and the `Recall` is for actual values. As it is difficult to compare two models with low precision and high recall values, therefore, f1-score helps 'to measure the recall and precision using the Harmonic Mean in place of Arithmatic Mean' which has been highlighted in the output pane using the `print()` function."
   ]
  },
  {
   "cell_type": "code",
   "execution_count": 139,
   "id": "03168535",
   "metadata": {},
   "outputs": [
    {
     "name": "stdout",
     "output_type": "stream",
     "text": [
      "              precision    recall  f1-score   support\n",
      "\n",
      "           0       0.50      0.33      0.40         3\n",
      "           1       0.60      0.75      0.67         4\n",
      "           3       1.00      1.00      1.00         3\n",
      "           4       1.00      1.00      1.00         3\n",
      "           6       1.00      1.00      1.00        14\n",
      "           7       1.00      1.00      1.00         1\n",
      "\n",
      "    accuracy                           0.89        28\n",
      "   macro avg       0.85      0.85      0.84        28\n",
      "weighted avg       0.89      0.89      0.89        28\n",
      "\n"
     ]
    }
   ],
   "source": [
    "print(report) "
   ]
  },
  {
   "cell_type": "markdown",
   "id": "1a27bcb2",
   "metadata": {},
   "source": [
    "To get the accuracy correctly, the `accuracy_score` library has been imported from the `sklearn.metrics` package and applied \n",
    "the `accuracy_score()` function to measure the accuracy appropriately. In the following output pane, the accuracy result has been obtained as `0.8928571428571429` using the `print()` function."
   ]
  },
  {
   "cell_type": "code",
   "execution_count": 140,
   "id": "f67b0051",
   "metadata": {},
   "outputs": [
    {
     "name": "stdout",
     "output_type": "stream",
     "text": [
      "0.8928571428571429\n"
     ]
    }
   ],
   "source": [
    "from sklearn.metrics import accuracy_score\n",
    "accuracy = accuracy_score(y_test, y_pre)\n",
    "print(accuracy)"
   ]
  },
  {
   "cell_type": "markdown",
   "id": "2ebb991c",
   "metadata": {},
   "source": [
    "In the next step, the classification error rate is obtained by subtracting the accuracy result with `1` and the result has been \n",
    "found as `0.1071428571428571` in the below output pane. "
   ]
  },
  {
   "cell_type": "code",
   "execution_count": 141,
   "id": "a032fa01",
   "metadata": {},
   "outputs": [
    {
     "name": "stdout",
     "output_type": "stream",
     "text": [
      "0.1071428571428571\n"
     ]
    }
   ],
   "source": [
    "classification_error_rate=1-accuracy\n",
    "print(classification_error_rate)"
   ]
  },
  {
   "cell_type": "markdown",
   "id": "bf86cfa5",
   "metadata": {},
   "source": [
    "# Task 3(Subtask 4): Comparing the two models(KNN & Decision Tree)"
   ]
  },
  {
   "cell_type": "markdown",
   "id": "5101d516",
   "metadata": {},
   "source": [
    "In this step, the two (KNN and Decision Tree) models' accuracy have been compared which are done in the above steps such as \n",
    "\n",
    "In 50% training and 50% testing splitting process, \n",
    "the KNN model's accuracy is 0.35 whereas the Decision Tree model's accuracy is 0.90\n",
    "In 60% training and 40% testing splitting process, \n",
    "the KNN model's accuracy is 0.27 whereas the Decision Tree model's accuracy is 0.91\n",
    "In 80% training and 20% testing splitting process, \n",
    "the KNN model's accuracy is 0.18 whereas the Decision Tree model's accuracy is 0.89\n",
    "\n",
    "Here, it is recommended that as the KNN model's accuracy is lower than the Decision tree model, therefore, the Decision Tree model would be perfect to use in the real world for the particular `new_flag` dataset."
   ]
  },
  {
   "cell_type": "markdown",
   "id": "caee979e",
   "metadata": {},
   "source": [
    "## Visualising the new_flag data set with the Decision Tree Model"
   ]
  },
  {
   "cell_type": "markdown",
   "id": "da9a5659",
   "metadata": {},
   "source": [
    "To visualize the Decision Tree model, the `confusion_matrix` library has been imported from the `sklearn.metrics` package. Apart from this, the convenience plotting library `pylab` is imported as `plt`."
   ]
  },
  {
   "cell_type": "code",
   "execution_count": 142,
   "id": "31e75e89",
   "metadata": {},
   "outputs": [],
   "source": [
    "from sklearn.metrics import confusion_matrix\n",
    "import pylab as plt"
   ]
  },
  {
   "cell_type": "code",
   "execution_count": 143,
   "id": "74c1e1e5",
   "metadata": {},
   "outputs": [],
   "source": [
    "feature_names=['name', 'landmass', 'zone', 'area', 'population', 'language', 'religion',\n",
    "                             'bars', 'stripes', 'colours', 'red','green', 'blue', 'gold', 'white',\n",
    "                             'black', 'orange', 'mainhue', 'circles', 'crosses', 'saltires', 'quarters',\n",
    "                             'sunstars', 'crescent', 'triangle', 'icon', 'animate', 'text', 'topleft', 'botright']\n",
    "\n",
    "# Here, the `feature_names` object has been created by taking all columns of the `new_flag` dataset."
   ]
  },
  {
   "cell_type": "code",
   "execution_count": 144,
   "id": "ea9271ae",
   "metadata": {},
   "outputs": [
    {
     "name": "stdout",
     "output_type": "stream",
     "text": [
      "feature names: ['name', 'landmass', 'zone', 'area', 'population', 'language', 'religion', 'bars', 'stripes', 'colours', 'red', 'green', 'blue', 'gold', 'white', 'black', 'orange', 'mainhue', 'circles', 'crosses', 'saltires', 'quarters', 'sunstars', 'crescent', 'triangle', 'icon', 'animate', 'text', 'topleft', 'botright']\n"
     ]
    }
   ],
   "source": [
    "print(f\"feature names: {feature_names}\") # In this step, all columns has been highlighted using the `print()` function."
   ]
  },
  {
   "cell_type": "code",
   "execution_count": 145,
   "id": "979f3701",
   "metadata": {},
   "outputs": [
    {
     "name": "stdout",
     "output_type": "stream",
     "text": [
      "Target values: [4, 6, 4, 6, 1, 1, 1, 6, 4, 3, 4, 5, 6, 1, 4, 6, 6, 6, 6, 3, 6, 3, 3, 6, 6, 3, 6, 1, 1, 7, 7, 6, 1, 3, 0, 1, 4, 1, 7, 7, 4, 6, 3, 0, 6, 1, 1, 3, 3, 4, 0, 1, 1, 6, 5, 6, 6, 6, 7, 7, 7, 7, 4, 7, 0, 6, 6, 4, 6, 6, 1, 6, 4, 6, 6, 6, 3, 4, 6, 4, 6, 6, 3, 2, 6, 1, 1, 5, 4, 1, 6, 6, 6, 4, 6, 0, 6, 6, 1, 7, 6, 6, 6, 6, 4, 4, 4, 7, 1, 5, 7, 6, 6, 3, 6, 1, 1, 6, 6, 6, 4, 6, 4, 6, 6, 6, 4, 3, 6, 7, 7, 6, 6, 6, 6, 4, 4, 4]\n"
     ]
    }
   ],
   "source": [
    "print(f\"Target values: {new_flag.mainhue.tolist()}\") # Here, all values of the `Target variable` are demonstrated in the \n",
    "# output pane applying the `print()` function and to use the `list()` function with the targeted variable."
   ]
  },
  {
   "cell_type": "code",
   "execution_count": 146,
   "id": "5daf6ed4",
   "metadata": {},
   "outputs": [
    {
     "name": "stdout",
     "output_type": "stream",
     "text": [
      "number of targets:  138\n"
     ]
    }
   ],
   "source": [
    "print(f\"number of targets:  {new_flag.mainhue.shape[0]}\") # The `print()` function is used to obtain the number of targets which\n",
    "# has shown in the output panel."
   ]
  },
  {
   "cell_type": "code",
   "execution_count": 147,
   "id": "4b834fc5",
   "metadata": {},
   "outputs": [],
   "source": [
    "target_names = ['red','green','blue','white','gold','black','orange','brown'] # Here, all values names of the target variable has\n",
    "# been subsetted by creating the `target_names` object."
   ]
  },
  {
   "cell_type": "code",
   "execution_count": 148,
   "id": "ebba2d32",
   "metadata": {},
   "outputs": [
    {
     "name": "stdout",
     "output_type": "stream",
     "text": [
      "target names: ['red', 'green', 'blue', 'white', 'gold', 'black', 'orange', 'brown']\n"
     ]
    }
   ],
   "source": [
    "print(f\"target names: {target_names}\") # All target names are printed using the `print()` function."
   ]
  },
  {
   "cell_type": "markdown",
   "id": "146b980b",
   "metadata": {},
   "source": [
    "In this step, to visualize the Decision Tree model, the `tree` library has been imported from the `sklearn` package.\n",
    "Additionally, the `open()` function is applied as `f` which is indicated as object of the `export_graphviz()` function. Apart from different types of parameters have been used to get the explicit visualization of the Decision Tree Model.\n",
    "    "
   ]
  },
  {
   "cell_type": "code",
   "execution_count": 149,
   "id": "f21c323f",
   "metadata": {},
   "outputs": [],
   "source": [
    "from sklearn import tree\n",
    "\n",
    "with open(\"new_flag.dot\",\"w\") as f:\n",
    "    f = tree.export_graphviz(clf, \n",
    "                             out_file=f,\n",
    "                             feature_names=feature_names,\n",
    "                             class_names=target_names,\n",
    "                             filled=True,\n",
    "                             rounded=True, \n",
    "                             special_characters=True)\n",
    "    "
   ]
  },
  {
   "cell_type": "markdown",
   "id": "aa25f4b3",
   "metadata": {},
   "source": [
    "the code above would generate `new_flag.dot` file, copy the content from it into the [web-page](https://dreampuf.github.io/GraphvizOnline/). It will produce the following graph."
   ]
  },
  {
   "cell_type": "markdown",
   "id": "c60ecc01",
   "metadata": {},
   "source": [
    "The explanations of the above codes are given as belows:\n",
    "\n",
    "`clf` : decision tree classifier The decision tree to be visualized\n",
    "\n",
    "`out_file` : file object or string, optional (default='tree.dot')exported to GraphViz.\n",
    "\n",
    "`feature_names` : list of strings, optional (default=None) Names of each of the features.\n",
    "\n",
    "`class_names`: list of string, bool or None, optional (default=None) Names of each of the target classes in ascending numerical order.\n",
    "\n",
    "`filled` : bool, optional (default=False) When set to True, paint nodes to indicate majority class for - classification, extremity of values for regression, or purity of node for multi-output.\n",
    "\n",
    "`rounded` : bool, optional (default=False) When set to True, draw node boxes with rounded corners and use Helvetica fonts instead of Times-Roman.\n",
    "\n",
    "`special_characters` : bool, optional (default=False) When set to False, ignore special characters for PostScript compatibility."
   ]
  }
 ],
 "metadata": {
  "kernelspec": {
   "display_name": "Python 3",
   "language": "python",
   "name": "python3"
  },
  "language_info": {
   "codemirror_mode": {
    "name": "ipython",
    "version": 3
   },
   "file_extension": ".py",
   "mimetype": "text/x-python",
   "name": "python",
   "nbconvert_exporter": "python",
   "pygments_lexer": "ipython3",
   "version": "3.8.8"
  }
 },
 "nbformat": 4,
 "nbformat_minor": 5
}
